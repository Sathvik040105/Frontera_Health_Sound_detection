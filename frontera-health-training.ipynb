{
 "cells": [
  {
   "cell_type": "markdown",
   "metadata": {},
   "source": [
    "# Ensemble model training to detect  Infant Cries, Screams, and Normal Utterances"
   ]
  },
  {
   "cell_type": "markdown",
   "metadata": {},
   "source": [
    "## Dataset preparation"
   ]
  },
  {
   "cell_type": "markdown",
   "metadata": {},
   "source": [
    "* For Infant cry, I chose [Infant Cry Audio Corpus](https://www.kaggle.com/datasets/warcoder/infant-cry-audio-corpus?utm_source=chatgpt.com) from Kaggle and [Infant's Cry Sound](https://www.kaggle.com/datasets/warcoder/infant-cry-audio-corpus?utm_source=chatgpt.com) from Mendeley Data. I combined both datasets to get a larger dataset named \"infant_cry\" with 520 audio files.\n",
    "\n",
    "* For Screams, I chose [Human Screaming Detection Dataset](https://www.kaggle.com/datasets/whats2000/human-screaming-detection-dataset?resource=download&select=Screaming) from kaggle and extracted 550 audio files and saved them in folder \"scream\".\n",
    "\n",
    "* For Normal Utterances, I chose **Common Voice Dataset** from Mozilla and extracted 535 audio files from it and saved them in folder \"normal_utterance\".\n",
    "\n",
    "## Justification of the dataset\n",
    "1. **Balanced Classes:**\n",
    "    * The dataset is balanced with 520 audio files for Infant Cry, 550 audio files for Screams, and 535 audio files for Normal Utterances.\n",
    "    * This prevents the model from being biased towards a particular class.\n",
    "2. **Sample Size Adequacy:** \n",
    "    * With a total of 1605 audio samples, the dataset provides a solid foundation for fine-tuning pre-trained models like YAMNet and Wav2Vec2.\n",
    "    * While not excessively large, this sample size is sufficient to adapt the pre-trained models to the specific nuances of infant cries, screams, and normal utterances.\n",
    "    * The dataset size allows for a reasonable split into training (70%), validation (15%), and testing (15%) sets, providing enough data for training while reserving sufficient samples for robust validation and performance evaluation.\n",
    "\n",
    "3. **Dataset Diversity:** \n",
    "    * The combination of datasets from various sources (Kaggle, Mendeley Data, Mozilla Common Voice) introduces diversity in recording conditions, environments, and subject demographics.\n",
    "    * This diversity is essential for building models that are robust to real-world variability and can perform reliably across different scenarios.\n",
    "    * The inclusion of normal utterances from the Common Voice dataset ensures that the models are exposed to a wide range of speech patterns, improving their ability to distinguish between normal speech and distress vocalizations."
   ]
  },
  {
   "cell_type": "markdown",
   "metadata": {},
   "source": [
    "## Libraries Used"
   ]
  },
  {
   "cell_type": "code",
   "execution_count": 17,
   "metadata": {
    "execution": {
     "iopub.execute_input": "2025-02-23T15:06:53.722011Z",
     "iopub.status.busy": "2025-02-23T15:06:53.721641Z",
     "iopub.status.idle": "2025-02-23T15:06:53.728052Z",
     "shell.execute_reply": "2025-02-23T15:06:53.727124Z",
     "shell.execute_reply.started": "2025-02-23T15:06:53.721976Z"
    },
    "trusted": true
   },
   "outputs": [],
   "source": [
    "import os\n",
    "import glob\n",
    "import pandas as pd\n",
    "from sklearn.model_selection import train_test_split\n",
    "from torch.utils.data import DataLoader\n",
    "import torch\n",
    "import torchaudio\n",
    "import numpy as np\n",
    "import librosa\n",
    "import torch.nn as nn\n",
    "import torch.nn.functional as F\n",
    "import torchaudio.models as models\n",
    "from tqdm.auto import tqdm\n",
    "import tensorflow as tf\n",
    "import tensorflow_hub as hub\n",
    "from transformers import Wav2Vec2Model, Wav2Vec2Config\n",
    "from torch.optim import AdamW\n",
    "from torch.optim.lr_scheduler import ReduceLROnPlateau\n",
    "import matplotlib.pyplot as plt\n",
    "import seaborn as sns\n",
    "from sklearn.metrics import (\n",
    "    classification_report, confusion_matrix, \n",
    "    roc_curve, auc, precision_recall_curve\n",
    ")\n",
    "from sklearn.model_selection import KFold\n",
    "from datetime import datetime\n",
    "import json\n",
    "import warnings\n",
    "warnings.filterwarnings(\"ignore\", message=\"Exception ignored in.*DataLoader.*shutdown_workers\")"
   ]
  },
  {
   "cell_type": "code",
   "execution_count": 18,
   "metadata": {
    "execution": {
     "iopub.execute_input": "2025-02-23T15:06:53.729285Z",
     "iopub.status.busy": "2025-02-23T15:06:53.728988Z",
     "iopub.status.idle": "2025-02-23T15:06:53.745459Z",
     "shell.execute_reply": "2025-02-23T15:06:53.744746Z",
     "shell.execute_reply.started": "2025-02-23T15:06:53.729255Z"
    },
    "trusted": true
   },
   "outputs": [],
   "source": [
    "# Create a df with columns: filepath, label(0-infant_cry; 1-scream; 2-normal_utterance)\n",
    "def create_df(data_dir):\n",
    "    df = pd.DataFrame()\n",
    "    for label in ['infant_cry', 'scream', 'normal_utterance']:\n",
    "        wav_files = glob.glob(os.path.join(data_dir, label, '*.wav'))\n",
    "        mp3_files = glob.glob(os.path.join(data_dir, label, '*.mp3'))\n",
    "        files = wav_files + mp3_files\n",
    "        if not files:\n",
    "            print(f\"No files found for label: {label}\")  # Debugging print\n",
    "            continue  # Skip to the next label if no files are found\n",
    "\n",
    "        temp_df = pd.DataFrame(files, columns=['filepath'])\n",
    "        if label == 'infant_cry':\n",
    "            temp_df['label'] = 0\n",
    "        elif label == 'scream':\n",
    "            temp_df['label'] = 1\n",
    "        else:\n",
    "            temp_df['label'] = 2\n",
    "\n",
    "        df = pd.concat([df, temp_df], ignore_index=True)\n",
    "\n",
    "    return df"
   ]
  },
  {
   "cell_type": "code",
   "execution_count": 19,
   "metadata": {
    "execution": {
     "iopub.execute_input": "2025-02-23T15:06:53.746724Z",
     "iopub.status.busy": "2025-02-23T15:06:53.746534Z",
     "iopub.status.idle": "2025-02-23T15:06:53.796312Z",
     "shell.execute_reply": "2025-02-23T15:06:53.795662Z",
     "shell.execute_reply.started": "2025-02-23T15:06:53.746708Z"
    },
    "trusted": true
   },
   "outputs": [
    {
     "data": {
      "text/html": [
       "<div>\n",
       "<style scoped>\n",
       "    .dataframe tbody tr th:only-of-type {\n",
       "        vertical-align: middle;\n",
       "    }\n",
       "\n",
       "    .dataframe tbody tr th {\n",
       "        vertical-align: top;\n",
       "    }\n",
       "\n",
       "    .dataframe thead th {\n",
       "        text-align: right;\n",
       "    }\n",
       "</style>\n",
       "<table border=\"1\" class=\"dataframe\">\n",
       "  <thead>\n",
       "    <tr style=\"text-align: right;\">\n",
       "      <th></th>\n",
       "      <th>filepath</th>\n",
       "      <th>label</th>\n",
       "    </tr>\n",
       "  </thead>\n",
       "  <tbody>\n",
       "    <tr>\n",
       "      <th>0</th>\n",
       "      <td>/kaggle/input/frontera-health-sounds-dataset/d...</td>\n",
       "      <td>0</td>\n",
       "    </tr>\n",
       "    <tr>\n",
       "      <th>1</th>\n",
       "      <td>/kaggle/input/frontera-health-sounds-dataset/d...</td>\n",
       "      <td>0</td>\n",
       "    </tr>\n",
       "    <tr>\n",
       "      <th>2</th>\n",
       "      <td>/kaggle/input/frontera-health-sounds-dataset/d...</td>\n",
       "      <td>0</td>\n",
       "    </tr>\n",
       "    <tr>\n",
       "      <th>3</th>\n",
       "      <td>/kaggle/input/frontera-health-sounds-dataset/d...</td>\n",
       "      <td>0</td>\n",
       "    </tr>\n",
       "    <tr>\n",
       "      <th>4</th>\n",
       "      <td>/kaggle/input/frontera-health-sounds-dataset/d...</td>\n",
       "      <td>0</td>\n",
       "    </tr>\n",
       "  </tbody>\n",
       "</table>\n",
       "</div>"
      ],
      "text/plain": [
       "                                            filepath  label\n",
       "0  /kaggle/input/frontera-health-sounds-dataset/d...      0\n",
       "1  /kaggle/input/frontera-health-sounds-dataset/d...      0\n",
       "2  /kaggle/input/frontera-health-sounds-dataset/d...      0\n",
       "3  /kaggle/input/frontera-health-sounds-dataset/d...      0\n",
       "4  /kaggle/input/frontera-health-sounds-dataset/d...      0"
      ]
     },
     "execution_count": 19,
     "metadata": {},
     "output_type": "execute_result"
    }
   ],
   "source": [
    "df = create_df('/kaggle/input/frontera-health-sounds-dataset/dataset/')\n",
    "df.head()"
   ]
  },
  {
   "cell_type": "code",
   "execution_count": 20,
   "metadata": {
    "execution": {
     "iopub.execute_input": "2025-02-23T15:06:53.797757Z",
     "iopub.status.busy": "2025-02-23T15:06:53.797460Z",
     "iopub.status.idle": "2025-02-23T15:06:53.803683Z",
     "shell.execute_reply": "2025-02-23T15:06:53.802918Z",
     "shell.execute_reply.started": "2025-02-23T15:06:53.797727Z"
    },
    "trusted": true
   },
   "outputs": [
    {
     "data": {
      "text/plain": [
       "label\n",
       "1    550\n",
       "2    535\n",
       "0    514\n",
       "Name: count, dtype: int64"
      ]
     },
     "execution_count": 20,
     "metadata": {},
     "output_type": "execute_result"
    }
   ],
   "source": [
    "# no. of files in each class\n",
    "df['label'].value_counts()"
   ]
  },
  {
   "cell_type": "markdown",
   "metadata": {},
   "source": [
    "## Data splitting"
   ]
  },
  {
   "cell_type": "code",
   "execution_count": 21,
   "metadata": {
    "execution": {
     "iopub.execute_input": "2025-02-23T15:06:53.804621Z",
     "iopub.status.busy": "2025-02-23T15:06:53.804372Z",
     "iopub.status.idle": "2025-02-23T15:06:53.826856Z",
     "shell.execute_reply": "2025-02-23T15:06:53.826085Z",
     "shell.execute_reply.started": "2025-02-23T15:06:53.804601Z"
    },
    "trusted": true
   },
   "outputs": [
    {
     "name": "stdout",
     "output_type": "stream",
     "text": [
      "Dataset Distribution:\n",
      "\n",
      "Train:\n",
      "       count\n",
      "label       \n",
      "1        385\n",
      "2        374\n",
      "0        360\n",
      "\n",
      "Validation:\n",
      "       count\n",
      "label       \n",
      "1         82\n",
      "2         81\n",
      "0         77\n",
      "\n",
      "Test:\n",
      "       count\n",
      "label       \n",
      "1         83\n",
      "2         80\n",
      "0         77\n"
     ]
    }
   ],
   "source": [
    "# do stratified train-val-test split in 70-15-15 ratio\n",
    "train_df, test_df = train_test_split(df, test_size=0.3, stratify=df['label'], random_state=42)\n",
    "val_df, test_df = train_test_split(test_df, test_size=0.5, stratify=test_df['label'], random_state=42)\n",
    "# Print dataset distribution\n",
    "print(\"Dataset Distribution:\")\n",
    "print(\"\\nTrain:\")\n",
    "print(train_df['label'].value_counts().to_frame().to_string())\n",
    "print(\"\\nValidation:\")\n",
    "print(val_df['label'].value_counts().to_frame().to_string())\n",
    "print(\"\\nTest:\")\n",
    "print(test_df['label'].value_counts().to_frame().to_string())"
   ]
  },
  {
   "cell_type": "markdown",
   "metadata": {},
   "source": [
    "## Configuration of the models"
   ]
  },
  {
   "cell_type": "code",
   "execution_count": 22,
   "metadata": {
    "execution": {
     "iopub.execute_input": "2025-02-23T15:06:53.829357Z",
     "iopub.status.busy": "2025-02-23T15:06:53.829143Z",
     "iopub.status.idle": "2025-02-23T15:06:53.834606Z",
     "shell.execute_reply": "2025-02-23T15:06:53.833867Z",
     "shell.execute_reply.started": "2025-02-23T15:06:53.829338Z"
    },
    "trusted": true
   },
   "outputs": [],
   "source": [
    "class CFG:\n",
    "    # Audio Processing Parameters\n",
    "    sample_rate = 16000\n",
    "    yamnet_frame_duration = 0.96    # YAMNet's expected frame duration in seconds\n",
    "    yamnet_hop_duration = 0.48      # YAMNet's hop duration in seconds\n",
    "    wav2vec_duration = 10.0         # Duration for Wav2Vec2\n",
    "    yamnet_duration = 10.0\n",
    "    # YAMNet specific parameters\n",
    "    yamnet_samples_per_frame = int(yamnet_frame_duration * sample_rate)  # 15360 samples\n",
    "    yamnet_hop_samples = int(yamnet_hop_duration * sample_rate)          # 7680 samples\n",
    "    \n",
    "    # Spectrogram Parameters (YAMNet specific)\n",
    "    n_mels = 64                     # YAMNet uses 64 mel bins\n",
    "    window_size = int(0.025 * sample_rate)  # 25ms window (400 samples at 16kHz)\n",
    "    hop_length = int(0.01 * sample_rate)    # 10ms hop (160 samples at 16kHz)\n",
    "    fmin = 125                      # YAMNet's minimum frequency\n",
    "    fmax = 7500                     # YAMNet's maximum frequency\n",
    "    \n",
    "    # Training Parameters\n",
    "    epochs = 10\n",
    "    batch_size = 32                 # Reduced from 64 to handle longer sequences\n",
    "    num_classes = 3                 # Our specific classes\n",
    "    \n",
    "    # Label Mapping\n",
    "    int2label = {\n",
    "        0: 'infant_cry',\n",
    "        1: 'scream',\n",
    "        2: 'normal_utterance'\n",
    "    }\n",
    "    \n",
    "    # Augmentation Parameters\n",
    "    aug_prob = 0.5\n",
    "    time_stretch_range = (0.8, 1.2)\n",
    "    pitch_shift_range = (-2, 2)\n",
    "    noise_factor = (0.001, 0.015)\n",
    "    \n",
    "    # Cross-validation\n",
    "    n_fold = 5\n",
    "    seed = 42\n",
    "    num_workers = 0\n",
    "    \n",
    "    # Device\n",
    "    device = \"cuda\" if torch.cuda.is_available() else \"cpu\"\n",
    "\n",
    "    learning_rate = 1e-4\n",
    "    weight_decay = 1e-6\n",
    "    class_distribution = [514, 550, 535]"
   ]
  },
  {
   "cell_type": "markdown",
   "metadata": {},
   "source": [
    "## YAMNet Decoder\n",
    "* **Specifications:** \n",
    "    * Sample Rate: 16 kHz\n",
    "    * Audio Range: [-1, 1] (normalized)\n",
    "    * Input Shape: (batch_size, num_samples)\n",
    "    * Frame Size: 0.96 seconds = 15,360 samples\n",
    "    * Hop Size: 0.48 seconds = 7,680 samples"
   ]
  },
  {
   "cell_type": "code",
   "execution_count": 23,
   "metadata": {
    "execution": {
     "iopub.execute_input": "2025-02-23T15:06:53.835972Z",
     "iopub.status.busy": "2025-02-23T15:06:53.835760Z",
     "iopub.status.idle": "2025-02-23T15:06:53.853592Z",
     "shell.execute_reply": "2025-02-23T15:06:53.852790Z",
     "shell.execute_reply.started": "2025-02-23T15:06:53.835942Z"
    },
    "trusted": true
   },
   "outputs": [],
   "source": [
    "class YAMNetDecoder:\n",
    "    def __init__(self, cfg):\n",
    "        self.cfg = cfg\n",
    "        self.target_length = int(cfg.yamnet_duration * cfg.sample_rate)  # 10 sec * 16000 Hz = 160000 samples\n",
    "        \n",
    "    def get_audio(self, file_path: str) -> np.ndarray:\n",
    "        \"\"\"Load and normalize audio with fixed 10-second duration\"\"\"\n",
    "        try:\n",
    "            # Load audio\n",
    "            audio, sr = librosa.load(\n",
    "                file_path, \n",
    "                sr=self.cfg.sample_rate, \n",
    "                mono=True\n",
    "            )\n",
    "            \n",
    "            # Normalize audio\n",
    "            audio = librosa.util.normalize(audio)\n",
    "            \n",
    "            # Handle duration\n",
    "            if len(audio) < self.target_length:\n",
    "                # Pad shorter audio with zeros\n",
    "                audio = np.pad(audio, (0, self.target_length - len(audio)))\n",
    "            else:\n",
    "                # For longer audio, take the middle segment\n",
    "                start = (len(audio) - self.target_length) // 2\n",
    "                audio = audio[start:start + self.target_length]\n",
    "            \n",
    "            return audio\n",
    "            \n",
    "        except Exception as e:\n",
    "            print(f\"Error loading {file_path}: {str(e)}\")\n",
    "    \n",
    "    def frame_audio(self, audio: np.ndarray) -> np.ndarray:\n",
    "        \"\"\"Convert fixed-length audio into frames for YAMNet\"\"\"\n",
    "        # YAMNet uses 25ms frames (15360 samples at 16kHz)\n",
    "        frame_length = 15360\n",
    "        \n",
    "        # Calculate number of complete frames\n",
    "        n_frames = self.target_length // frame_length\n",
    "        \n",
    "        target_length = n_frames * frame_length\n",
    "        \n",
    "        # Pad or trim audio to match target length\n",
    "        if len(audio) < target_length:\n",
    "            audio = np.pad(audio, (0, target_length - len(audio)))\n",
    "        else:\n",
    "            audio = audio[:target_length]\n",
    "        \n",
    "        # Reshape into frames\n",
    "        frames = audio.reshape(n_frames, frame_length)\n",
    "        return frames"
   ]
  },
  {
   "cell_type": "markdown",
   "metadata": {},
   "source": [
    "## Data Augmentation for YAMNet\n",
    "* I'm doing On-the-fly data augmentation because:\n",
    "    1. Storage Efficiency: No need to store additional augmented audio files\n",
    "    2. Dynamic Variety: Each epoch sees different augmented versions of the same samples\n",
    "    3. Memory Efficient: Loads and augments data in batches\n",
    "    4. Training Flexibility: Can easily adjust augmentation parameters\n",
    "\n",
    "* The following augmentations are applied:\n",
    "    * **Time Stretching:** Randomly stretches the audio in time.\n",
    "    * **Pitch Shifting:** Randomly shifts the pitch of the audio.\n",
    "    * **Addition of Gaussian Noise:** Adds gaussian noise to the audio.\n"
   ]
  },
  {
   "cell_type": "code",
   "execution_count": 24,
   "metadata": {
    "execution": {
     "iopub.execute_input": "2025-02-23T15:06:53.854762Z",
     "iopub.status.busy": "2025-02-23T15:06:53.854482Z",
     "iopub.status.idle": "2025-02-23T15:06:53.872450Z",
     "shell.execute_reply": "2025-02-23T15:06:53.871653Z",
     "shell.execute_reply.started": "2025-02-23T15:06:53.854733Z"
    },
    "trusted": true
   },
   "outputs": [],
   "source": [
    "class YAMNetAugmentations:\n",
    "    def __init__(self, cfg):\n",
    "        self.cfg = cfg\n",
    "        \n",
    "    def apply_augmentations(self, audio: np.ndarray) -> np.ndarray:\n",
    "        \"\"\"Apply augmentations to audio\"\"\"\n",
    "        if np.random.rand() < self.cfg.aug_prob:\n",
    "            audio = audio.copy()  # Create a writable copy\n",
    "            audio = self.time_stretch(audio)\n",
    "            audio = self.pitch_shift(audio)\n",
    "        return audio\n",
    "    \n",
    "    def time_stretch(self, audio: np.ndarray) -> np.ndarray:\n",
    "        try:\n",
    "            factor = np.random.uniform(*self.cfg.time_stretch_range)\n",
    "            return librosa.effects.time_stretch(y=audio, rate=factor)\n",
    "        except Exception as e:\n",
    "            print(f\"Time stretch failed: {str(e)}\")\n",
    "            return audio\n",
    "    \n",
    "    def pitch_shift(self, audio: np.ndarray) -> np.ndarray:\n",
    "        try:\n",
    "            n_steps = np.random.randint(*self.cfg.pitch_shift_range)\n",
    "            return librosa.effects.pitch_shift(\n",
    "                y=audio,\n",
    "                sr=self.cfg.sample_rate,\n",
    "                n_steps=n_steps\n",
    "            )\n",
    "        except Exception as e:\n",
    "            print(f\"Pitch shift failed: {str(e)}\")\n",
    "            return audio"
   ]
  },
  {
   "cell_type": "markdown",
   "metadata": {},
   "source": [
    "## YAMNet Data Pipeline"
   ]
  },
  {
   "cell_type": "code",
   "execution_count": 25,
   "metadata": {
    "execution": {
     "iopub.execute_input": "2025-02-23T15:06:53.873633Z",
     "iopub.status.busy": "2025-02-23T15:06:53.873385Z",
     "iopub.status.idle": "2025-02-23T15:06:53.892838Z",
     "shell.execute_reply": "2025-02-23T15:06:53.892053Z",
     "shell.execute_reply.started": "2025-02-23T15:06:53.873614Z"
    },
    "trusted": true
   },
   "outputs": [],
   "source": [
    "class YAMNetDataset(torch.utils.data.Dataset):\n",
    "    def __init__(self, \n",
    "                 df: pd.DataFrame, \n",
    "                 cfg: CFG, \n",
    "                 train: bool = True):\n",
    "        \"\"\"\n",
    "        Args:\n",
    "            df: DataFrame with columns ['filepath', 'label']\n",
    "            cfg: Configuration class\n",
    "            train: Whether this is training set (for augmentations)\n",
    "        \"\"\"\n",
    "        self.df = df\n",
    "        self.cfg = cfg\n",
    "        self.train = train\n",
    "        self.decoder = YAMNetDecoder(cfg)\n",
    "        self.augmenter = YAMNetAugmentations(cfg) if train else None\n",
    "\n",
    "    def __len__(self):\n",
    "        return len(self.df)\n",
    "    \n",
    "    def __getitem__(self, idx):\n",
    "        try:\n",
    "            # Get file path and label\n",
    "            row = self.df.iloc[idx]\n",
    "            file_path = row['filepath']\n",
    "            label = row['label']\n",
    "            \n",
    "            # Load and normalize audio\n",
    "            audio = self.decoder.get_audio(file_path)\n",
    "            \n",
    "            # Apply augmentations during training\n",
    "            if self.train and self.augmenter is not None:\n",
    "                audio = self.augmenter.apply_augmentations(audio)\n",
    "            \n",
    "            # Frame audio for YAMNet\n",
    "            audio_frames = self.decoder.frame_audio(audio)\n",
    "            # Create a writable copy of the array\n",
    "            audio_frames = np.array(audio_frames, copy=True)\n",
    "            \n",
    "            # Convert to tensors\n",
    "            input_tensor = torch.from_numpy(audio_frames).float()\n",
    "            label_tensor = torch.tensor(label, dtype=torch.long)\n",
    "            \n",
    "            return {\n",
    "                'input': input_tensor,      # Shape: (num_frames, 15360)\n",
    "                'label': label_tensor,      # Shape: (1,)\n",
    "            }\n",
    "            \n",
    "        except Exception as e:\n",
    "            print(f\"Error processing {file_path}: {str(e)}\")"
   ]
  },
  {
   "cell_type": "markdown",
   "metadata": {},
   "source": [
    "## Wav2Vec2 Decoder"
   ]
  },
  {
   "cell_type": "code",
   "execution_count": 26,
   "metadata": {
    "execution": {
     "iopub.execute_input": "2025-02-23T15:06:53.894051Z",
     "iopub.status.busy": "2025-02-23T15:06:53.893717Z",
     "iopub.status.idle": "2025-02-23T15:06:53.911428Z",
     "shell.execute_reply": "2025-02-23T15:06:53.910741Z",
     "shell.execute_reply.started": "2025-02-23T15:06:53.894003Z"
    },
    "trusted": true
   },
   "outputs": [],
   "source": [
    "class Wav2Vec2Decoder:\n",
    "    def __init__(self, cfg):\n",
    "        self.cfg = cfg\n",
    "        \n",
    "    def get_audio(self, file_path: str) -> np.ndarray:\n",
    "        \"\"\"Load and normalize audio\"\"\"\n",
    "        try:\n",
    "            audio, sr = librosa.load(\n",
    "                file_path, \n",
    "                sr=self.cfg.sample_rate, \n",
    "                mono=True\n",
    "            )\n",
    "            # Normalize\n",
    "            audio = librosa.util.normalize(audio)\n",
    "            return audio\n",
    "        except Exception as e:\n",
    "            print(f\"Error loading {file_path}: {str(e)}\")\n",
    "            return np.zeros(self.cfg.sample_rate)\n",
    "    \n",
    "    def process_audio(self, audio: np.ndarray) -> np.ndarray:\n",
    "        \"\"\"Process audio for Wav2Vec2\"\"\"\n",
    "        target_length = int(self.cfg.wav2vec_duration * self.cfg.sample_rate)\n",
    "        \n",
    "        if len(audio) > target_length:\n",
    "            # Take center segment\n",
    "            start = (len(audio) - target_length) // 2\n",
    "            audio = audio[start:start + target_length]\n",
    "        else:\n",
    "            # Pad with zeros\n",
    "            audio = np.pad(audio, (0, target_length - len(audio)), mode='constant')\n",
    "            \n",
    "        return audio  # Shape: (target_length,)"
   ]
  },
  {
   "cell_type": "markdown",
   "metadata": {},
   "source": [
    "## Wav2Vec2 Augmentations:"
   ]
  },
  {
   "cell_type": "code",
   "execution_count": 27,
   "metadata": {
    "execution": {
     "iopub.execute_input": "2025-02-23T15:06:53.912540Z",
     "iopub.status.busy": "2025-02-23T15:06:53.912265Z",
     "iopub.status.idle": "2025-02-23T15:06:53.930322Z",
     "shell.execute_reply": "2025-02-23T15:06:53.929649Z",
     "shell.execute_reply.started": "2025-02-23T15:06:53.912513Z"
    },
    "trusted": true
   },
   "outputs": [],
   "source": [
    "class Wav2Vec2Augmentations:\n",
    "    def __init__(self, cfg):\n",
    "        self.cfg = cfg\n",
    "        \n",
    "    def apply_augmentations(self, audio: np.ndarray) -> np.ndarray:\n",
    "        \"\"\"Apply augmentations to audio\"\"\"\n",
    "        if np.random.rand() < self.cfg.aug_prob:\n",
    "            # Apply augmentations\n",
    "            audio = self.time_stretch(audio)\n",
    "            audio = self.pitch_shift(audio)\n",
    "        return audio\n",
    "    \n",
    "    def time_stretch(self, audio: np.ndarray) -> np.ndarray:\n",
    "        \"\"\"Apply time stretching to audio\"\"\"\n",
    "        try:\n",
    "            factor = np.random.uniform(*self.cfg.time_stretch_range)\n",
    "            return librosa.effects.time_stretch(y=audio, rate=factor)\n",
    "        except Exception as e:\n",
    "            print(f\"Time stretch failed: {str(e)}\")\n",
    "            return audio\n",
    "    \n",
    "    def pitch_shift(self, audio: np.ndarray) -> np.ndarray:\n",
    "        \"\"\"Apply pitch shifting to audio\"\"\"\n",
    "        try:\n",
    "            n_steps = np.random.randint(*self.cfg.pitch_shift_range)\n",
    "            return librosa.effects.pitch_shift(\n",
    "                y=audio, \n",
    "                sr=self.cfg.sample_rate, \n",
    "                n_steps=n_steps\n",
    "            )\n",
    "        except Exception as e:\n",
    "            print(f\"Pitch shift failed: {str(e)}\")\n",
    "            return audio"
   ]
  },
  {
   "cell_type": "markdown",
   "metadata": {},
   "source": [
    "## Wav2Vec2 Data Pipeline"
   ]
  },
  {
   "cell_type": "code",
   "execution_count": 28,
   "metadata": {
    "execution": {
     "iopub.execute_input": "2025-02-23T15:06:53.931504Z",
     "iopub.status.busy": "2025-02-23T15:06:53.931224Z",
     "iopub.status.idle": "2025-02-23T15:06:53.947832Z",
     "shell.execute_reply": "2025-02-23T15:06:53.947084Z",
     "shell.execute_reply.started": "2025-02-23T15:06:53.931475Z"
    },
    "trusted": true
   },
   "outputs": [],
   "source": [
    "class Wav2Vec2Dataset(torch.utils.data.Dataset):\n",
    "    def __init__(self, \n",
    "                 df: pd.DataFrame, \n",
    "                 cfg: CFG, \n",
    "                 train: bool = True):\n",
    "        \"\"\"\n",
    "        Args:\n",
    "            df: DataFrame with columns ['filepath', 'label']\n",
    "            cfg: Configuration class\n",
    "            train: Whether this is training set (for augmentations)\n",
    "        \"\"\"\n",
    "        self.df = df\n",
    "        self.cfg = cfg\n",
    "        self.train = train\n",
    "        self.decoder = Wav2Vec2Decoder(cfg)\n",
    "        self.augmenter = Wav2Vec2Augmentations(cfg) if train else None\n",
    "\n",
    "    def __len__(self):\n",
    "        return len(self.df)\n",
    "    \n",
    "    def __getitem__(self, idx):\n",
    "        try:\n",
    "            # Get file path and label\n",
    "            row = self.df.iloc[idx]\n",
    "            file_path = row['filepath']\n",
    "            label = row['label']\n",
    "            \n",
    "            # Load and normalize audio\n",
    "            audio = self.decoder.get_audio(file_path)\n",
    "            # Create a writable copy\n",
    "            audio = np.array(audio, copy=True)\n",
    "            # Apply augmentations during training\n",
    "            if self.train and self.augmenter is not None:\n",
    "                audio = self.augmenter.apply_augmentations(audio)\n",
    "            \n",
    "            # Process audio for Wav2Vec2\n",
    "            audio = self.decoder.process_audio(audio)\n",
    "            \n",
    "            # Convert to tensors\n",
    "            input_tensor = torch.from_numpy(audio).float()\n",
    "            label_tensor = torch.tensor(label, dtype=torch.long)\n",
    "            \n",
    "            return input_tensor, label_tensor\n",
    "            \n",
    "        except Exception as e:\n",
    "            print(f\"Error processing {file_path}: {str(e)}\")"
   ]
  },
  {
   "cell_type": "markdown",
   "metadata": {},
   "source": [
    "## YAMNet Model Training"
   ]
  },
  {
   "cell_type": "code",
   "execution_count": 29,
   "metadata": {
    "execution": {
     "iopub.execute_input": "2025-02-23T15:06:53.948913Z",
     "iopub.status.busy": "2025-02-23T15:06:53.948621Z",
     "iopub.status.idle": "2025-02-23T15:06:58.034372Z",
     "shell.execute_reply": "2025-02-23T15:06:58.033519Z",
     "shell.execute_reply.started": "2025-02-23T15:06:53.948883Z"
    },
    "trusted": true
   },
   "outputs": [
    {
     "name": "stdout",
     "output_type": "stream",
     "text": [
      "YAMNetFineTuner(\n",
      "  (classifier): Sequential(\n",
      "    (0): Linear(in_features=1024, out_features=512, bias=True)\n",
      "    (1): BatchNorm1d(512, eps=1e-05, momentum=0.01, affine=True, track_running_stats=True)\n",
      "    (2): ReLU()\n",
      "    (3): Dropout(p=0.3, inplace=False)\n",
      "    (4): Linear(in_features=512, out_features=256, bias=True)\n",
      "    (5): BatchNorm1d(256, eps=1e-05, momentum=0.01, affine=True, track_running_stats=True)\n",
      "    (6): ReLU()\n",
      "    (7): Dropout(p=0.2, inplace=False)\n",
      "    (8): Linear(in_features=256, out_features=3, bias=True)\n",
      "  )\n",
      ")\n"
     ]
    }
   ],
   "source": [
    "import torch\n",
    "import torch.nn as nn\n",
    "import tensorflow_hub as hub\n",
    "import tensorflow as tf\n",
    "\n",
    "class YAMNetFeatureExtractor:\n",
    "    \"\"\"Efficient YAMNet feature extraction for batched PyTorch tensors.\"\"\"\n",
    "    def __init__(self):\n",
    "        self.model = hub.load('https://tfhub.dev/google/yamnet/1')\n",
    "\n",
    "    def extract_features(self, waveform_batch):\n",
    "        \"\"\"Extracts YAMNet embeddings efficiently for a batch of PyTorch tensors.\"\"\"\n",
    "        with torch.no_grad():\n",
    "            batch_size = waveform_batch.shape[0]\n",
    "            embeddings_list = []\n",
    "            \n",
    "            for i in range(batch_size):\n",
    "                # Get single waveform and flatten it to 1D\n",
    "                single_waveform = waveform_batch[i].cpu().flatten().numpy()\n",
    "                \n",
    "                # Extract features using YAMNet (expects 1D input)\n",
    "                _, embeddings, _ = self.model(single_waveform)\n",
    "                embeddings_list.append(embeddings.numpy())\n",
    "            \n",
    "            # Stack embeddings and convert to PyTorch tensor\n",
    "            embeddings_torch = torch.tensor(np.stack(embeddings_list), dtype=torch.float32)\n",
    "            return embeddings_torch.to(waveform_batch.device)\n",
    "\n",
    "class YAMNetFineTuner(nn.Module):\n",
    "    def __init__(self, num_classes, cfg):\n",
    "        super().__init__()\n",
    "        self.cfg = cfg\n",
    "        self.yamnet_extractor = YAMNetFeatureExtractor()\n",
    "        \n",
    "        # Define trainable classifier layers with proper BatchNorm momentum\n",
    "        self.classifier = nn.Sequential(\n",
    "            nn.Linear(1024, 512),\n",
    "            nn.BatchNorm1d(512, momentum=0.01),  # Lower momentum for stable training\n",
    "            nn.ReLU(),\n",
    "            nn.Dropout(0.3),\n",
    "            nn.Linear(512, 256),\n",
    "            nn.BatchNorm1d(256, momentum=0.01),\n",
    "            nn.ReLU(),\n",
    "            nn.Dropout(0.2),\n",
    "            nn.Linear(256, num_classes)\n",
    "        )\n",
    "        \n",
    "        self._initialize_weights()\n",
    "    \n",
    "    def _initialize_weights(self):\n",
    "        \"\"\"Initialize classifier weights with proper scaling\"\"\"\n",
    "        for m in self.classifier.modules():\n",
    "            if isinstance(m, nn.Linear):\n",
    "                # Use Xavier initialization for better gradient flow\n",
    "                nn.init.xavier_uniform_(m.weight)\n",
    "                if m.bias is not None:\n",
    "                    nn.init.constant_(m.bias, 0)\n",
    "            elif isinstance(m, nn.BatchNorm1d):\n",
    "                nn.init.constant_(m.weight, 1)\n",
    "                nn.init.constant_(m.bias, 0)\n",
    "\n",
    "    def forward(self, x):\n",
    "        # Input validation\n",
    "        if x.dim() != 3:  # (batch, frames, samples)\n",
    "            raise ValueError(f\"Expected 3D input (batch, frames, samples), got shape {x.shape}\")\n",
    "            \n",
    "        # Extract features using frozen YAMNet\n",
    "        features = self.yamnet_extractor.extract_features(x)  # (batch, frames, 1024)\n",
    "        \n",
    "        # Global average pooling with safe handling\n",
    "        if features.dim() == 3:\n",
    "            pooled = torch.mean(features, dim=1)  # (batch, 1024)\n",
    "        else:\n",
    "            raise ValueError(f\"Expected 3D features, got shape {features.shape}\")\n",
    "        \n",
    "        # Classification\n",
    "        output = self.classifier(pooled)\n",
    "        return output\n",
    "\n",
    "yamnet = YAMNetFineTuner(num_classes=CFG.num_classes, cfg=CFG).to(CFG.device)\n",
    "print(yamnet)"
   ]
  },
  {
   "cell_type": "markdown",
   "metadata": {},
   "source": [
    "## Word2Vec2 model"
   ]
  },
  {
   "cell_type": "code",
   "execution_count": 30,
   "metadata": {
    "execution": {
     "iopub.execute_input": "2025-02-23T15:06:58.039769Z",
     "iopub.status.busy": "2025-02-23T15:06:58.039528Z",
     "iopub.status.idle": "2025-02-23T15:06:59.863394Z",
     "shell.execute_reply": "2025-02-23T15:06:59.862223Z",
     "shell.execute_reply.started": "2025-02-23T15:06:58.039751Z"
    },
    "trusted": true
   },
   "outputs": [
    {
     "name": "stderr",
     "output_type": "stream",
     "text": [
      "/usr/local/lib/python3.10/dist-packages/transformers/configuration_utils.py:311: UserWarning: Passing `gradient_checkpointing` to a config initialization is deprecated and will be removed in v5 Transformers. Using `model.gradient_checkpointing_enable()` instead, or if you are using the `Trainer` API, pass `gradient_checkpointing=True` in your `TrainingArguments`.\n",
      "  warnings.warn(\n"
     ]
    },
    {
     "name": "stdout",
     "output_type": "stream",
     "text": [
      "Wav2Vec2FineTuner(\n",
      "  (wav2vec2): Wav2Vec2Model(\n",
      "    (feature_extractor): Wav2Vec2FeatureEncoder(\n",
      "      (conv_layers): ModuleList(\n",
      "        (0): Wav2Vec2GroupNormConvLayer(\n",
      "          (conv): Conv1d(1, 512, kernel_size=(10,), stride=(5,), bias=False)\n",
      "          (activation): GELUActivation()\n",
      "          (layer_norm): GroupNorm(512, 512, eps=1e-05, affine=True)\n",
      "        )\n",
      "        (1-4): 4 x Wav2Vec2NoLayerNormConvLayer(\n",
      "          (conv): Conv1d(512, 512, kernel_size=(3,), stride=(2,), bias=False)\n",
      "          (activation): GELUActivation()\n",
      "        )\n",
      "        (5-6): 2 x Wav2Vec2NoLayerNormConvLayer(\n",
      "          (conv): Conv1d(512, 512, kernel_size=(2,), stride=(2,), bias=False)\n",
      "          (activation): GELUActivation()\n",
      "        )\n",
      "      )\n",
      "    )\n",
      "    (feature_projection): Wav2Vec2FeatureProjection(\n",
      "      (layer_norm): LayerNorm((512,), eps=1e-05, elementwise_affine=True)\n",
      "      (projection): Linear(in_features=512, out_features=768, bias=True)\n",
      "      (dropout): Dropout(p=0.1, inplace=False)\n",
      "    )\n",
      "    (encoder): Wav2Vec2Encoder(\n",
      "      (pos_conv_embed): Wav2Vec2PositionalConvEmbedding(\n",
      "        (conv): ParametrizedConv1d(\n",
      "          768, 768, kernel_size=(128,), stride=(1,), padding=(64,), groups=16\n",
      "          (parametrizations): ModuleDict(\n",
      "            (weight): ParametrizationList(\n",
      "              (0): _WeightNorm()\n",
      "            )\n",
      "          )\n",
      "        )\n",
      "        (padding): Wav2Vec2SamePadLayer()\n",
      "        (activation): GELUActivation()\n",
      "      )\n",
      "      (layer_norm): LayerNorm((768,), eps=1e-05, elementwise_affine=True)\n",
      "      (dropout): Dropout(p=0.1, inplace=False)\n",
      "      (layers): ModuleList(\n",
      "        (0-11): 12 x Wav2Vec2EncoderLayer(\n",
      "          (attention): Wav2Vec2SdpaAttention(\n",
      "            (k_proj): Linear(in_features=768, out_features=768, bias=True)\n",
      "            (v_proj): Linear(in_features=768, out_features=768, bias=True)\n",
      "            (q_proj): Linear(in_features=768, out_features=768, bias=True)\n",
      "            (out_proj): Linear(in_features=768, out_features=768, bias=True)\n",
      "          )\n",
      "          (dropout): Dropout(p=0.1, inplace=False)\n",
      "          (layer_norm): LayerNorm((768,), eps=1e-05, elementwise_affine=True)\n",
      "          (feed_forward): Wav2Vec2FeedForward(\n",
      "            (intermediate_dropout): Dropout(p=0.0, inplace=False)\n",
      "            (intermediate_dense): Linear(in_features=768, out_features=3072, bias=True)\n",
      "            (intermediate_act_fn): GELUActivation()\n",
      "            (output_dense): Linear(in_features=3072, out_features=768, bias=True)\n",
      "            (output_dropout): Dropout(p=0.1, inplace=False)\n",
      "          )\n",
      "          (final_layer_norm): LayerNorm((768,), eps=1e-05, elementwise_affine=True)\n",
      "        )\n",
      "      )\n",
      "    )\n",
      "  )\n",
      "  (classifier): Sequential(\n",
      "    (0): Linear(in_features=768, out_features=512, bias=True)\n",
      "    (1): LayerNorm((512,), eps=1e-05, elementwise_affine=True)\n",
      "    (2): GELU(approximate='none')\n",
      "    (3): Dropout(p=0.3, inplace=False)\n",
      "    (4): Linear(in_features=512, out_features=256, bias=True)\n",
      "    (5): LayerNorm((256,), eps=1e-05, elementwise_affine=True)\n",
      "    (6): GELU(approximate='none')\n",
      "    (7): Dropout(p=0.2, inplace=False)\n",
      "    (8): Linear(in_features=256, out_features=3, bias=True)\n",
      "  )\n",
      ")\n"
     ]
    }
   ],
   "source": [
    "class Wav2Vec2FineTuner(nn.Module):\n",
    "    def __init__(self, num_classes, pretrained=True, freeze_encoder=True):\n",
    "        super().__init__()\n",
    "        \n",
    "        # Load pretrained Wav2Vec2 model\n",
    "        if pretrained:\n",
    "            self.wav2vec2 = Wav2Vec2Model.from_pretrained(\"facebook/wav2vec2-base\")\n",
    "        else:\n",
    "            config = Wav2Vec2Config()\n",
    "            self.wav2vec2 = Wav2Vec2Model(config)\n",
    "        \n",
    "        # Initial freezing\n",
    "        if freeze_encoder:\n",
    "            self.freeze_feature_extractor()\n",
    "            self.freeze_encoder_layers(12)  # Freeze all layers initially\n",
    "        \n",
    "        hidden_size = self.wav2vec2.config.hidden_size\n",
    "        \n",
    "        # Improved classifier architecture\n",
    "        self.classifier = nn.Sequential(\n",
    "            nn.Linear(hidden_size, 512),\n",
    "            nn.LayerNorm(512),\n",
    "            nn.GELU(),\n",
    "            nn.Dropout(0.3),\n",
    "            nn.Linear(512, 256),\n",
    "            nn.LayerNorm(256),\n",
    "            nn.GELU(),\n",
    "            nn.Dropout(0.2),\n",
    "            nn.Linear(256, num_classes)\n",
    "        )\n",
    "        \n",
    "        self._initialize_classifier()\n",
    "    \n",
    "    def _initialize_classifier(self):\n",
    "        \"\"\"Initialize classifier weights properly\"\"\"\n",
    "        for m in self.classifier.modules():\n",
    "            if isinstance(m, nn.Linear):\n",
    "                # Use scaled initialization for GELU\n",
    "                nn.init.xavier_uniform_(m.weight, gain=1.0)\n",
    "                if m.bias is not None:\n",
    "                    nn.init.zeros_(m.bias)\n",
    "    \n",
    "    def freeze_feature_extractor(self):\n",
    "        \"\"\"Freeze the CNN feature extractor\"\"\"\n",
    "        for param in self.wav2vec2.feature_extractor.parameters():\n",
    "            param.requires_grad = False\n",
    "    \n",
    "    def freeze_encoder_layers(self, num_layers):\n",
    "        \"\"\"Freeze specified number of transformer layers\"\"\"\n",
    "        for layer in self.wav2vec2.encoder.layers[:num_layers]:\n",
    "            for param in layer.parameters():\n",
    "                param.requires_grad = False\n",
    "    \n",
    "    def unfreeze_encoder_layers(self, num_layers_to_unfreeze):\n",
    "        \"\"\"Gradually unfreeze layers from top\"\"\"\n",
    "        total_layers = len(self.wav2vec2.encoder.layers)\n",
    "        for i, layer in enumerate(reversed(self.wav2vec2.encoder.layers)):\n",
    "            if i < num_layers_to_unfreeze:\n",
    "                for param in layer.parameters():\n",
    "                    param.requires_grad = True\n",
    "\n",
    "    def forward(self, x):\n",
    "        # Input validation\n",
    "        if x.dim() != 2:  # (batch_size, sequence_length)\n",
    "            raise ValueError(f\"Expected input shape (batch_size, sequence_length), got {x.shape}\")\n",
    "\n",
    "        # Wav2Vec2 forward pass\n",
    "        outputs = self.wav2vec2(x)\n",
    "        hidden_states = outputs.last_hidden_state\n",
    "        \n",
    "        # Global mean pooling\n",
    "        pooled = torch.mean(hidden_states, dim=1)\n",
    "        \n",
    "        # Classification\n",
    "        output = self.classifier(pooled)\n",
    "        return output\n",
    "\n",
    "# Initialize model\n",
    "wav2vec2 = Wav2Vec2FineTuner(num_classes=3).to(CFG.device)\n",
    "print(wav2vec2)"
   ]
  },
  {
   "cell_type": "markdown",
   "metadata": {},
   "source": [
    "## Training"
   ]
  },
  {
   "cell_type": "code",
   "execution_count": 31,
   "metadata": {
    "execution": {
     "iopub.execute_input": "2025-02-23T15:06:59.865898Z",
     "iopub.status.busy": "2025-02-23T15:06:59.865606Z",
     "iopub.status.idle": "2025-02-23T15:06:59.918757Z",
     "shell.execute_reply": "2025-02-23T15:06:59.917839Z",
     "shell.execute_reply.started": "2025-02-23T15:06:59.865871Z"
    },
    "trusted": true
   },
   "outputs": [],
   "source": [
    "class ModelTrainer:\n",
    "    def __init__(self, model_type, cfg):\n",
    "        \"\"\"Initialize trainer with model type and config\"\"\"\n",
    "        self.model_type = model_type\n",
    "        self.cfg = cfg\n",
    "        self.device = cfg.device\n",
    "        self.k_folds = cfg.n_fold\n",
    "        self.current_phase = 0\n",
    "        \n",
    "        # Create directories for logs and plots\n",
    "        timestamp = datetime.now().strftime('%Y%m%d_%H%M%S')\n",
    "        self.run_dir = os.path.join('runs', f\"{model_type}_{timestamp}\")\n",
    "        self.log_dir = os.path.join(self.run_dir, 'logs')\n",
    "        self.plot_dir = os.path.join(self.run_dir, 'plots')\n",
    "        \n",
    "        for dir_path in [self.run_dir, self.log_dir, self.plot_dir]:\n",
    "            os.makedirs(dir_path, exist_ok=True)\n",
    "            \n",
    "        # Initialize model and dataset class\n",
    "        self.init_model()\n",
    "        self.dataset_class = YAMNetDataset if model_type == 'yamnet' else Wav2Vec2Dataset\n",
    "\n",
    "        # Initialize metrics tracking\n",
    "        self.best_metrics = None\n",
    "        self.fold_predictions = []\n",
    "        self.training_history = []\n",
    "        \n",
    "    def init_model(self):\n",
    "        \"\"\"Initialize model based on type\"\"\"\n",
    "        if self.model_type == 'yamnet':\n",
    "            self.model = YAMNetFineTuner(\n",
    "                num_classes=self.cfg.num_classes,\n",
    "                cfg=self.cfg\n",
    "            ).to(self.device)\n",
    "        else:\n",
    "            self.model = Wav2Vec2FineTuner(\n",
    "                num_classes=self.cfg.num_classes,\n",
    "                pretrained=True,\n",
    "                freeze_encoder=True\n",
    "            ).to(self.device)\n",
    "    \n",
    "    def setup_training(self, phase=0):\n",
    "        \"\"\"Setup training components for current phase\"\"\"\n",
    "        # Calculate class weights\n",
    "        class_weights = self.calculate_class_weights()\n",
    "        self.criterion = nn.CrossEntropyLoss(\n",
    "            weight=class_weights.to(self.device)\n",
    "        )\n",
    "        \n",
    "        # Setup optimizer with different learning rates for different components\n",
    "        if self.model_type == 'wav2vec2':\n",
    "            # Gradually unfreeze layers for Wav2Vec2\n",
    "            if phase > 0:\n",
    "                num_layers = phase * 2  # Unfreeze 2 layers at a time\n",
    "                self.model.unfreeze_encoder_layers(num_layers)\n",
    "        \n",
    "        # Setup optimizer with appropriate parameters\n",
    "        self.optimizer = AdamW(\n",
    "            self.get_param_groups(phase),\n",
    "            weight_decay=self.cfg.weight_decay\n",
    "        )\n",
    "        \n",
    "        # Setup scheduler\n",
    "        self.scheduler = ReduceLROnPlateau(\n",
    "            self.optimizer,\n",
    "            mode='min',\n",
    "            factor=0.5,\n",
    "            patience=2,\n",
    "            verbose=True\n",
    "        )\n",
    "        \n",
    "        self.early_stopping = EarlyStopping(\n",
    "            patience=5,\n",
    "            min_delta=1e-4\n",
    "        )\n",
    "    \n",
    "    def get_param_groups(self, phase):\n",
    "        \"\"\"Get parameter groups with different learning rates\"\"\"\n",
    "        if self.model_type == 'yamnet':\n",
    "            return [\n",
    "                {\n",
    "                    'params': self.model.classifier.parameters(),\n",
    "                    'lr': self.cfg.learning_rate\n",
    "                }\n",
    "            ]\n",
    "        else:  # wav2vec2\n",
    "            params = [\n",
    "                {\n",
    "                    'params': self.model.classifier.parameters(),\n",
    "                    'lr': self.cfg.learning_rate\n",
    "                }\n",
    "            ]\n",
    "            if phase > 0:\n",
    "                params.append({\n",
    "                    'params': self.model.wav2vec2.parameters(),\n",
    "                    'lr': self.cfg.learning_rate * 0.1\n",
    "                })\n",
    "            return params\n",
    "    \n",
    "    def train(self, train_loader, val_loader, num_epochs, fold):\n",
    "        \"\"\"Training loop with progressive unfreezing\"\"\"\n",
    "        print(f\"Training on {self.device}\")\n",
    "        best_metrics = None\n",
    "        best_val_loss = float('inf')\n",
    "        \n",
    "        # Define training phases\n",
    "        num_phases = 1 if self.model_type == 'yamnet' else 3\n",
    "        epochs_per_phase = max(1,num_epochs // num_phases)\n",
    "        \n",
    "        for phase in range(num_phases):\n",
    "            print(f\"\\nPhase {phase + 1}/{num_phases}\")\n",
    "            self.setup_training(phase)\n",
    "            \n",
    "            for epoch in range(epochs_per_phase):\n",
    "                print(f'\\nEpoch {epoch + 1}/{epochs_per_phase}')\n",
    "                \n",
    "                # Training phase\n",
    "                train_loss, train_preds, train_labels, train_probs = self.train_epoch(train_loader)\n",
    "                \n",
    "                # Validation phase\n",
    "                val_loss, val_preds, val_labels, val_probs = self.validate(val_loader)\n",
    "                \n",
    "                # Compute metrics with probabilities\n",
    "                train_metrics = self.compute_metrics(train_labels, train_preds, train_probs)\n",
    "                val_metrics = self.compute_metrics(val_labels, val_preds, val_probs)\n",
    "                \n",
    "                # Log and save metrics\n",
    "                self.log_metrics(\n",
    "                    epoch + phase * epochs_per_phase,\n",
    "                    train_metrics,\n",
    "                    val_metrics,\n",
    "                    train_loss,\n",
    "                    val_loss,\n",
    "                    fold\n",
    "                )\n",
    "                self.save_metrics(val_metrics, fold)\n",
    "                \n",
    "                # Learning rate scheduling\n",
    "                self.scheduler.step(val_loss)\n",
    "                \n",
    "                # Early stopping check\n",
    "                if self.early_stopping.step(val_loss):\n",
    "                    print('Early stopping triggered')\n",
    "                    break\n",
    "                \n",
    "                # Save best model\n",
    "                if val_loss < best_val_loss:\n",
    "                    best_val_loss = val_loss\n",
    "                    best_metrics = {\n",
    "                        'val_loss': val_loss,\n",
    "                        'val_accuracy': val_metrics['basic']['report']['accuracy'],\n",
    "                        'val_f1': val_metrics['basic']['report']['weighted avg']['f1-score']\n",
    "                    }\n",
    "                    self.save_model(f'models/best_{self.model_type}_fold_{fold}_model.pt')\n",
    "        \n",
    "        return best_metrics\n",
    "\n",
    "    def train_epoch(self, train_loader):\n",
    "        \"\"\"Train for one epoch\"\"\"\n",
    "        self.model.train()\n",
    "        total_loss = 0\n",
    "        predictions = []\n",
    "        probabilities = []\n",
    "        true_labels = []\n",
    "        \n",
    "        pbar = tqdm(train_loader, desc='Training')\n",
    "        for batch in pbar:\n",
    "            if self.model_type == 'yamnet':\n",
    "                inputs, labels = batch['input'].to(self.device), batch['label'].to(self.device)\n",
    "            else:\n",
    "                inputs, labels = batch[0].to(self.device), batch[1].to(self.device)\n",
    "            \n",
    "            self.optimizer.zero_grad()\n",
    "            outputs = self.model(inputs)\n",
    "            loss = self.criterion(outputs, labels)\n",
    "            \n",
    "            loss.backward()\n",
    "            torch.nn.utils.clip_grad_norm_(self.model.parameters(), 1.0)\n",
    "            self.optimizer.step()\n",
    "            \n",
    "            # Get probabilities using softmax\n",
    "            probs = F.softmax(outputs, dim=1).detach().cpu().numpy()\n",
    "            preds = outputs.argmax(dim=1).cpu().numpy().tolist()\n",
    "            \n",
    "            total_loss += loss.item()\n",
    "            predictions.extend(preds)\n",
    "            probabilities.extend(probs)\n",
    "            true_labels.extend(labels.cpu().numpy().tolist())\n",
    "            \n",
    "            pbar.set_postfix({'loss': f'{loss.item():.4f}'})\n",
    "        \n",
    "        return (\n",
    "            total_loss / len(train_loader),\n",
    "            np.array(predictions, dtype=np.int32),  # Ensure integer type\n",
    "            np.array(true_labels, dtype=np.int32),  # Ensure integer type\n",
    "            np.array(probabilities)\n",
    "        )\n",
    "    \n",
    "    @torch.no_grad()\n",
    "    def validate(self, val_loader):\n",
    "        \"\"\"Validation loop\"\"\"\n",
    "        self.model.eval()\n",
    "        total_loss = 0\n",
    "        predictions = []\n",
    "        probabilities = []\n",
    "        true_labels = []\n",
    "        \n",
    "        for batch in tqdm(val_loader, desc='Validation'):\n",
    "            if self.model_type == 'yamnet':\n",
    "                inputs, labels = batch['input'].to(self.device), batch['label'].to(self.device)\n",
    "            else:\n",
    "                inputs, labels = batch[0].to(self.device), batch[1].to(self.device)\n",
    "            \n",
    "            outputs = self.model(inputs)\n",
    "            loss = self.criterion(outputs, labels)\n",
    "            \n",
    "            # Get probabilities using softmax\n",
    "            probs = F.softmax(outputs, dim=1).cpu().numpy()\n",
    "            preds = outputs.argmax(dim=1).cpu().numpy()\n",
    "            labels = labels.cpu().numpy()\n",
    "            \n",
    "            total_loss += loss.item()\n",
    "            predictions.extend(preds)\n",
    "            probabilities.extend(probs)\n",
    "            true_labels.extend(labels)\n",
    "        \n",
    "        return (\n",
    "            total_loss / len(val_loader),\n",
    "            np.array(predictions, dtype=np.int32),\n",
    "            np.array(true_labels, dtype=np.int32),\n",
    "            np.array(probabilities)\n",
    "        )\n",
    "\n",
    "    def cross_validate(self, full_df):\n",
    "        \"\"\"Perform k-fold cross-validation\"\"\"\n",
    "        try:\n",
    "            if full_df is None or len(full_df) == 0:\n",
    "                raise ValueError(\"Empty or invalid dataset provided\")\n",
    "                \n",
    "            kfold = KFold(n_splits=self.k_folds, shuffle=True, random_state=self.cfg.seed)\n",
    "            fold_metrics = []\n",
    "            \n",
    "            for fold, (train_idx, val_idx) in enumerate(kfold.split(full_df)):\n",
    "                print(f'\\nFold {fold + 1}/{self.k_folds}')\n",
    "                \n",
    "                try:\n",
    "                    # Create datasets\n",
    "                    train_fold_df = full_df.iloc[train_idx].reset_index(drop=True)\n",
    "                    val_fold_df = full_df.iloc[val_idx].reset_index(drop=True)\n",
    "                    \n",
    "                    train_dataset = self.dataset_class(train_fold_df, self.cfg, train=True)\n",
    "                    val_dataset = self.dataset_class(val_fold_df, self.cfg, train=False)\n",
    "                    \n",
    "                    train_loader = DataLoader(\n",
    "                        train_dataset,\n",
    "                        batch_size=self.cfg.batch_size,\n",
    "                        shuffle=True,\n",
    "                        num_workers=self.cfg.num_workers,\n",
    "                        pin_memory=True\n",
    "                    )\n",
    "                    \n",
    "                    val_loader = DataLoader(\n",
    "                        val_dataset,\n",
    "                        batch_size=self.cfg.batch_size,\n",
    "                        shuffle=False,\n",
    "                        num_workers=self.cfg.num_workers,\n",
    "                        pin_memory=True\n",
    "                    )\n",
    "                    \n",
    "                    # Reset model\n",
    "                    self.init_model()\n",
    "                    \n",
    "                    # Train fold\n",
    "                    best_metrics = self.train(train_loader, val_loader, self.cfg.epochs, fold)\n",
    "                    if best_metrics:\n",
    "                        fold_metrics.append({\n",
    "                            'fold': fold + 1,\n",
    "                            **best_metrics\n",
    "                        })\n",
    "                    \n",
    "                        # Get final validation metrics with probabilities\n",
    "                        val_loss, val_preds, val_labels, val_probs = self.validate(val_loader)\n",
    "                        val_metrics = self.compute_metrics(val_labels, val_preds, val_probs)\n",
    "                        self.save_metrics(val_metrics, fold)\n",
    "                        \n",
    "                        # Generate plots\n",
    "                        self.plot_training_history(fold)\n",
    "                        self.plot_confusion_matrix(val_metrics['basic']['confusion_matrix'], fold)\n",
    "                        if 'curves' in val_metrics:\n",
    "                            self.plot_roc_curves(val_metrics, fold)\n",
    "                            \n",
    "                except Exception as e:\n",
    "                    print(f\"Error in fold {fold + 1}: {str(e)}\")\n",
    "                    continue\n",
    "                    \n",
    "            if fold_metrics:\n",
    "                self.log_cv_results(fold_metrics)\n",
    "            else:\n",
    "                print(\"No valid metrics collected during cross-validation\")\n",
    "                \n",
    "        except Exception as e:\n",
    "            print(f\"Error in cross-validation: {str(e)}\")\n",
    "\n",
    "    def calculate_class_weights(self):\n",
    "        \"\"\"Calculate class weights based on distribution in config\"\"\"\n",
    "        if hasattr(self.cfg, 'class_distribution'):\n",
    "            # If distribution is provided in config\n",
    "            class_counts = torch.tensor(self.cfg.class_distribution)\n",
    "        else:\n",
    "            # Default to balanced weights\n",
    "            class_counts = torch.ones(self.cfg.num_classes)\n",
    "        \n",
    "        weights = 1.0 / class_counts\n",
    "        weights = weights / weights.sum()\n",
    "        return weights\n",
    "    \n",
    "    \n",
    "    def compute_metrics(self, true_labels, predictions, probabilities=None):\n",
    "        \"\"\"Compute comprehensive performance metrics\"\"\"\n",
    "        # Convert lists to numpy arrays\n",
    "        true_labels = np.array(true_labels, dtype=np.int32)\n",
    "        predictions = np.array(predictions, dtype=np.int32)\n",
    "        \n",
    "        metrics = {\n",
    "            'basic': {\n",
    "                'report': classification_report(true_labels, predictions, \n",
    "                                             output_dict=True, \n",
    "                                             zero_division=0),\n",
    "                'confusion_matrix': confusion_matrix(true_labels, predictions).tolist()\n",
    "            }\n",
    "        }\n",
    "        \n",
    "        if probabilities is not None:\n",
    "            probabilities = np.array(probabilities)\n",
    "            metrics['curves'] = {}\n",
    "            \n",
    "            for i in range(self.cfg.num_classes):\n",
    "                try:\n",
    "                    # Create binary labels for current class\n",
    "                    binary_labels = (true_labels == i).astype(int)\n",
    "                    class_probs = probabilities[:, i]\n",
    "                    \n",
    "                    # ROC curve\n",
    "                    fpr, tpr, _ = roc_curve(binary_labels, class_probs)\n",
    "                    roc_auc = float(auc(fpr, tpr))\n",
    "                    metrics['curves'][f'class_{i}_roc'] = {\n",
    "                        'fpr': fpr.tolist(),\n",
    "                        'tpr': tpr.tolist(),\n",
    "                        'auc': roc_auc\n",
    "                    }\n",
    "                    \n",
    "                    # PR curve\n",
    "                    precision, recall, _ = precision_recall_curve(binary_labels, class_probs)\n",
    "                    metrics['curves'][f'class_{i}_pr'] = {\n",
    "                        'precision': precision.tolist(),\n",
    "                        'recall': recall.tolist()\n",
    "                    }\n",
    "                except Exception as e:\n",
    "                    print(f\"Warning: Could not compute curves for class {i}: {str(e)}\")\n",
    "                    continue\n",
    "            \n",
    "        # Convert any remaining numpy numbers to Python types\n",
    "        metrics = self._convert_numpy_to_python(metrics)\n",
    "        return metrics\n",
    "    \n",
    "    def _convert_numpy_to_python(self, obj):\n",
    "        \"\"\"Convert numpy types to Python native types for JSON serialization\"\"\"\n",
    "        if isinstance(obj, np.integer):\n",
    "            return int(obj)\n",
    "        elif isinstance(obj, np.floating):\n",
    "            return float(obj)\n",
    "        elif isinstance(obj, np.ndarray):\n",
    "            return obj.tolist()\n",
    "        elif isinstance(obj, dict):\n",
    "            return {key: self._convert_numpy_to_python(value) for key, value in obj.items()}\n",
    "        elif isinstance(obj, (list, tuple)):\n",
    "            return [self._convert_numpy_to_python(item) for item in obj]\n",
    "        return obj\n",
    "    \n",
    "    def save_metrics(self, metrics_log, fold):\n",
    "        \"\"\"Save metrics to JSON file\"\"\"\n",
    "        try:\n",
    "            # Convert metrics to JSON-serializable format\n",
    "            metrics_log = self._convert_numpy_to_python(metrics_log)\n",
    "            \n",
    "            # Save to file\n",
    "            metrics_file = os.path.join(self.log_dir, f'metrics_fold_{fold}.json')\n",
    "            with open(metrics_file, 'w') as f:\n",
    "                json.dump(metrics_log, f, indent=4)\n",
    "        except Exception as e:\n",
    "            print(f\"Warning: Could not save metrics for fold {fold}: {str(e)}\")\n",
    "\n",
    "    def plot_training_history(self, fold):\n",
    "        \"\"\"Plot training history for current fold\"\"\"\n",
    "        try:\n",
    "            history_df = pd.DataFrame(self.training_history)\n",
    "            if len(history_df) == 0:\n",
    "                print(\"Warning: No training history to plot\")\n",
    "                return\n",
    "                \n",
    "            # Loss plot\n",
    "            plt.figure(figsize=(10, 5))\n",
    "            plt.plot(history_df['train_loss'], label='Train Loss')\n",
    "            plt.plot(history_df['val_loss'], label='Validation Loss')\n",
    "            plt.title(f'Loss History - Fold {fold+1}')\n",
    "            plt.xlabel('Epoch')\n",
    "            plt.ylabel('Loss')\n",
    "            plt.legend()\n",
    "            plt.savefig(os.path.join(self.plot_dir, f'loss_fold_{fold+1}.png'))\n",
    "            plt.close()\n",
    "            \n",
    "            # Accuracy plot\n",
    "            plt.figure(figsize=(10, 5))\n",
    "            plt.plot(history_df['train_accuracy'], label='Train Accuracy')\n",
    "            plt.plot(history_df['val_accuracy'], label='Validation Accuracy')\n",
    "            plt.title(f'Accuracy History - Fold {fold+1}')\n",
    "            plt.xlabel('Epoch')\n",
    "            plt.ylabel('Accuracy') \n",
    "            plt.legend()\n",
    "            plt.savefig(os.path.join(self.plot_dir, f'accuracy_fold_{fold+1}.png'))\n",
    "            plt.close()\n",
    "        except Exception as e:\n",
    "            print(f\"Error plotting training history: {str(e)}\")\n",
    "\n",
    "    def plot_confusion_matrix(self, cm, fold):\n",
    "        \"\"\"Plot confusion matrix heatmap\"\"\"\n",
    "        try:\n",
    "            # Convert to numpy array if not already\n",
    "            cm = np.array(cm) if isinstance(cm, list) else cm\n",
    "            \n",
    "            if not isinstance(cm, np.ndarray):\n",
    "                print(\"Warning: Invalid confusion matrix data\")\n",
    "                return\n",
    "                \n",
    "            plt.figure(figsize=(10, 8))\n",
    "            sns.heatmap(cm, annot=True, fmt='d', cmap='Blues')\n",
    "            plt.title(f'Confusion Matrix - Fold {fold+1}')\n",
    "            plt.xlabel('Predicted')\n",
    "            plt.ylabel('True')\n",
    "            plt.savefig(os.path.join(self.plot_dir, f'confusion_matrix_fold_{fold+1}.png'))\n",
    "            plt.close()\n",
    "        except Exception as e:\n",
    "            print(f\"Error plotting confusion matrix: {str(e)}\")\n",
    "    \n",
    "    def plot_roc_curves(self, metrics, fold):\n",
    "        \"\"\"Plot ROC curves for each class\"\"\"\n",
    "        try:\n",
    "            if 'curves' not in metrics:\n",
    "                print(\"Warning: No ROC curve data available\")\n",
    "                return\n",
    "                \n",
    "            plt.figure(figsize=(10, 8))\n",
    "            for i in range(self.cfg.num_classes):\n",
    "                curve_key = f'class_{i}_roc'\n",
    "                if curve_key not in metrics['curves']:\n",
    "                    continue\n",
    "                    \n",
    "                curve_data = metrics['curves'][curve_key]\n",
    "                plt.plot(\n",
    "                    curve_data['fpr'],\n",
    "                    curve_data['tpr'],\n",
    "                    label=f'Class {i} (AUC = {curve_data[\"auc\"]:.2f})'\n",
    "                )\n",
    "            plt.plot([0, 1], [0, 1], 'k--')\n",
    "            plt.xlabel('False Positive Rate')\n",
    "            plt.ylabel('True Positive Rate')\n",
    "            plt.title(f'ROC Curves - Fold {fold+1}')\n",
    "            plt.legend()\n",
    "            plt.savefig(os.path.join(self.plot_dir, f'roc_curves_fold_{fold+1}.png'))\n",
    "            plt.close()\n",
    "        except Exception as e:\n",
    "            print(f\"Error plotting ROC curves: {str(e)}\")\n",
    "    \n",
    "    def log_metrics(self, epoch, train_metrics, val_metrics, train_loss, val_loss, fold):\n",
    "        \"\"\"Log metrics and update history\"\"\"\n",
    "        metrics = {\n",
    "            'epoch': epoch,\n",
    "            'train_loss': train_loss,\n",
    "            'val_loss': val_loss,\n",
    "            'train_accuracy': train_metrics['basic']['report']['accuracy'],\n",
    "            'val_accuracy': val_metrics['basic']['report']['accuracy'],\n",
    "            'train_f1_weighted': train_metrics['basic']['report']['weighted avg']['f1-score'],\n",
    "            'val_f1_weighted': val_metrics['basic']['report']['weighted avg']['f1-score'],\n",
    "            'learning_rate': self.optimizer.param_groups[0]['lr']\n",
    "        }\n",
    "        \n",
    "        self.training_history.append(metrics)\n",
    "        \n",
    "        # Print current metrics\n",
    "        print(f\"\\nEpoch {epoch+1}\")\n",
    "        print(f\"Train Loss: {train_loss:.4f}, Val Loss: {val_loss:.4f}\")\n",
    "        print(f\"Train Acc: {metrics['train_accuracy']:.4f}, Val Acc: {metrics['val_accuracy']:.4f}\")\n",
    "        print(f\"Train F1: {metrics['train_f1_weighted']:.4f}, Val F1: {metrics['val_f1_weighted']:.4f}\")\n",
    "        \n",
    "        return metrics\n",
    "    \n",
    "    def log_cv_results(self, fold_metrics):\n",
    "        \"\"\"Log cross-validation results\"\"\"\n",
    "        metrics = ['val_loss', 'val_accuracy', 'val_f1']\n",
    "        cv_results = {}\n",
    "        \n",
    "        for metric in metrics:\n",
    "            values = [m[metric] for m in fold_metrics]\n",
    "            mean_val = np.mean(values)\n",
    "            std_val = np.std(values)\n",
    "            print(f'CV {metric}: {mean_val:.4f} ± {std_val:.4f}')\n",
    "            cv_results[f'cv_mean_{metric}'] = mean_val\n",
    "            cv_results[f'cv_std_{metric}'] = std_val\n",
    "        \n",
    "        # Save CV results\n",
    "        with open(os.path.join(self.log_dir, 'cv_results.json'), 'w') as f:\n",
    "            json.dump(cv_results, f, indent=4)\n",
    "    \n",
    "    def save_model(self, path):\n",
    "        \"\"\"Save model checkpoint\"\"\"\n",
    "        os.makedirs(os.path.dirname(path), exist_ok=True)\n",
    "        torch.save({\n",
    "            'model_state_dict': self.model.state_dict(),\n",
    "            'optimizer_state_dict': self.optimizer.state_dict(),\n",
    "            'scheduler_state_dict': self.scheduler.state_dict(),\n",
    "            'config': self.cfg\n",
    "        }, path)\n",
    "\n",
    "class EarlyStopping:\n",
    "    def __init__(self, patience=5, min_delta=0):\n",
    "        self.patience = patience\n",
    "        self.min_delta = min_delta\n",
    "        self.counter = 0\n",
    "        self.best_loss = None\n",
    "        \n",
    "    def step(self, val_loss):\n",
    "        if self.best_loss is None:\n",
    "            self.best_loss = val_loss\n",
    "        elif val_loss > self.best_loss - self.min_delta:\n",
    "            self.counter += 1\n",
    "            if self.counter >= self.patience:\n",
    "                return True\n",
    "        else:\n",
    "            self.best_loss = val_loss\n",
    "            self.counter = 0\n",
    "        return False"
   ]
  },
  {
   "cell_type": "code",
   "execution_count": 32,
   "metadata": {
    "execution": {
     "iopub.execute_input": "2025-02-23T15:06:59.920123Z",
     "iopub.status.busy": "2025-02-23T15:06:59.919737Z",
     "iopub.status.idle": "2025-02-23T16:06:48.231560Z",
     "shell.execute_reply": "2025-02-23T16:06:48.230624Z",
     "shell.execute_reply.started": "2025-02-23T15:06:59.920091Z"
    },
    "trusted": true
   },
   "outputs": [
    {
     "name": "stdout",
     "output_type": "stream",
     "text": [
      "\n",
      "Fold 1/5\n",
      "Training on cuda\n",
      "\n",
      "Phase 1/1\n",
      "\n",
      "Epoch 1/10\n"
     ]
    },
    {
     "data": {
      "application/vnd.jupyter.widget-view+json": {
       "model_id": "608d671d2e62456fa9494fef73ed1f91",
       "version_major": 2,
       "version_minor": 0
      },
      "text/plain": [
       "Training:   0%|          | 0/34 [00:00<?, ?it/s]"
      ]
     },
     "metadata": {},
     "output_type": "display_data"
    },
    {
     "data": {
      "application/vnd.jupyter.widget-view+json": {
       "model_id": "077c928b8829468aaf402690c5f14260",
       "version_major": 2,
       "version_minor": 0
      },
      "text/plain": [
       "Validation:   0%|          | 0/9 [00:00<?, ?it/s]"
      ]
     },
     "metadata": {},
     "output_type": "display_data"
    },
    {
     "name": "stdout",
     "output_type": "stream",
     "text": [
      "\n",
      "Epoch 1\n",
      "Train Loss: 0.4093, Val Loss: 0.7723\n",
      "Train Acc: 0.8537, Val Acc: 0.6360\n",
      "Train F1: 0.8536, Val F1: 0.5358\n",
      "\n",
      "Epoch 2/10\n"
     ]
    },
    {
     "data": {
      "application/vnd.jupyter.widget-view+json": {
       "model_id": "1e5f2d5d6ddc49a296d941a6161891fd",
       "version_major": 2,
       "version_minor": 0
      },
      "text/plain": [
       "Training:   0%|          | 0/34 [00:00<?, ?it/s]"
      ]
     },
     "metadata": {},
     "output_type": "display_data"
    },
    {
     "data": {
      "application/vnd.jupyter.widget-view+json": {
       "model_id": "bcff2e05fdfb4900901ec20eb83d7fe8",
       "version_major": 2,
       "version_minor": 0
      },
      "text/plain": [
       "Validation:   0%|          | 0/9 [00:00<?, ?it/s]"
      ]
     },
     "metadata": {},
     "output_type": "display_data"
    },
    {
     "name": "stdout",
     "output_type": "stream",
     "text": [
      "\n",
      "Epoch 2\n",
      "Train Loss: 0.1897, Val Loss: 0.4102\n",
      "Train Acc: 0.9246, Val Acc: 0.9044\n",
      "Train F1: 0.9243, Val F1: 0.9052\n",
      "\n",
      "Epoch 3/10\n"
     ]
    },
    {
     "data": {
      "application/vnd.jupyter.widget-view+json": {
       "model_id": "465ec397cc6b4252b49100ddfb22bbcf",
       "version_major": 2,
       "version_minor": 0
      },
      "text/plain": [
       "Training:   0%|          | 0/34 [00:00<?, ?it/s]"
      ]
     },
     "metadata": {},
     "output_type": "display_data"
    },
    {
     "data": {
      "application/vnd.jupyter.widget-view+json": {
       "model_id": "9034b4f462cd48ef8d59986050ffad28",
       "version_major": 2,
       "version_minor": 0
      },
      "text/plain": [
       "Validation:   0%|          | 0/9 [00:00<?, ?it/s]"
      ]
     },
     "metadata": {},
     "output_type": "display_data"
    },
    {
     "name": "stdout",
     "output_type": "stream",
     "text": [
      "\n",
      "Epoch 3\n",
      "Train Loss: 0.1551, Val Loss: 0.2377\n",
      "Train Acc: 0.9448, Val Acc: 0.9522\n",
      "Train F1: 0.9446, Val F1: 0.9526\n",
      "\n",
      "Epoch 4/10\n"
     ]
    },
    {
     "data": {
      "application/vnd.jupyter.widget-view+json": {
       "model_id": "9c63cbaa88c545239a28689bd48e67b3",
       "version_major": 2,
       "version_minor": 0
      },
      "text/plain": [
       "Training:   0%|          | 0/34 [00:00<?, ?it/s]"
      ]
     },
     "metadata": {},
     "output_type": "display_data"
    },
    {
     "data": {
      "application/vnd.jupyter.widget-view+json": {
       "model_id": "f5e8773c11134efd9877a700455ab070",
       "version_major": 2,
       "version_minor": 0
      },
      "text/plain": [
       "Validation:   0%|          | 0/9 [00:00<?, ?it/s]"
      ]
     },
     "metadata": {},
     "output_type": "display_data"
    },
    {
     "name": "stdout",
     "output_type": "stream",
     "text": [
      "\n",
      "Epoch 4\n",
      "Train Loss: 0.1158, Val Loss: 0.1484\n",
      "Train Acc: 0.9623, Val Acc: 0.9706\n",
      "Train F1: 0.9622, Val F1: 0.9706\n",
      "\n",
      "Epoch 5/10\n"
     ]
    },
    {
     "data": {
      "application/vnd.jupyter.widget-view+json": {
       "model_id": "9d0d7bd9eaea4b75a42716b6819aa307",
       "version_major": 2,
       "version_minor": 0
      },
      "text/plain": [
       "Training:   0%|          | 0/34 [00:00<?, ?it/s]"
      ]
     },
     "metadata": {},
     "output_type": "display_data"
    },
    {
     "data": {
      "application/vnd.jupyter.widget-view+json": {
       "model_id": "de7e6365b2a749ccbf85bc42abad5a0a",
       "version_major": 2,
       "version_minor": 0
      },
      "text/plain": [
       "Validation:   0%|          | 0/9 [00:00<?, ?it/s]"
      ]
     },
     "metadata": {},
     "output_type": "display_data"
    },
    {
     "name": "stdout",
     "output_type": "stream",
     "text": [
      "\n",
      "Epoch 5\n",
      "Train Loss: 0.1080, Val Loss: 0.1322\n",
      "Train Acc: 0.9632, Val Acc: 0.9669\n",
      "Train F1: 0.9631, Val F1: 0.9673\n",
      "\n",
      "Epoch 6/10\n"
     ]
    },
    {
     "data": {
      "application/vnd.jupyter.widget-view+json": {
       "model_id": "d27c63346cd74b56982274924b22c5f9",
       "version_major": 2,
       "version_minor": 0
      },
      "text/plain": [
       "Training:   0%|          | 0/34 [00:00<?, ?it/s]"
      ]
     },
     "metadata": {},
     "output_type": "display_data"
    },
    {
     "data": {
      "application/vnd.jupyter.widget-view+json": {
       "model_id": "a3005c4a2f93443aa5b352ebf191a3b1",
       "version_major": 2,
       "version_minor": 0
      },
      "text/plain": [
       "Validation:   0%|          | 0/9 [00:00<?, ?it/s]"
      ]
     },
     "metadata": {},
     "output_type": "display_data"
    },
    {
     "name": "stdout",
     "output_type": "stream",
     "text": [
      "\n",
      "Epoch 6\n",
      "Train Loss: 0.0949, Val Loss: 0.0922\n",
      "Train Acc: 0.9669, Val Acc: 0.9853\n",
      "Train F1: 0.9668, Val F1: 0.9854\n",
      "\n",
      "Epoch 7/10\n"
     ]
    },
    {
     "data": {
      "application/vnd.jupyter.widget-view+json": {
       "model_id": "03079db24c01446e980bd7eac51190ff",
       "version_major": 2,
       "version_minor": 0
      },
      "text/plain": [
       "Training:   0%|          | 0/34 [00:00<?, ?it/s]"
      ]
     },
     "metadata": {},
     "output_type": "display_data"
    },
    {
     "data": {
      "application/vnd.jupyter.widget-view+json": {
       "model_id": "cb65bfa8d0e04f84a156d2f16e67d779",
       "version_major": 2,
       "version_minor": 0
      },
      "text/plain": [
       "Validation:   0%|          | 0/9 [00:00<?, ?it/s]"
      ]
     },
     "metadata": {},
     "output_type": "display_data"
    },
    {
     "name": "stdout",
     "output_type": "stream",
     "text": [
      "\n",
      "Epoch 7\n",
      "Train Loss: 0.0805, Val Loss: 0.0778\n",
      "Train Acc: 0.9724, Val Acc: 0.9779\n",
      "Train F1: 0.9723, Val F1: 0.9779\n",
      "\n",
      "Epoch 8/10\n"
     ]
    },
    {
     "data": {
      "application/vnd.jupyter.widget-view+json": {
       "model_id": "13f310d62c3c47dea94fe48842abe1db",
       "version_major": 2,
       "version_minor": 0
      },
      "text/plain": [
       "Training:   0%|          | 0/34 [00:00<?, ?it/s]"
      ]
     },
     "metadata": {},
     "output_type": "display_data"
    },
    {
     "data": {
      "application/vnd.jupyter.widget-view+json": {
       "model_id": "4062afe8586448afa6746b65af975c9d",
       "version_major": 2,
       "version_minor": 0
      },
      "text/plain": [
       "Validation:   0%|          | 0/9 [00:00<?, ?it/s]"
      ]
     },
     "metadata": {},
     "output_type": "display_data"
    },
    {
     "name": "stdout",
     "output_type": "stream",
     "text": [
      "\n",
      "Epoch 8\n",
      "Train Loss: 0.0968, Val Loss: 0.0536\n",
      "Train Acc: 0.9696, Val Acc: 0.9890\n",
      "Train F1: 0.9696, Val F1: 0.9890\n",
      "\n",
      "Epoch 9/10\n"
     ]
    },
    {
     "data": {
      "application/vnd.jupyter.widget-view+json": {
       "model_id": "48de3b5b14ad4d3dbda006cdc1cc15c3",
       "version_major": 2,
       "version_minor": 0
      },
      "text/plain": [
       "Training:   0%|          | 0/34 [00:00<?, ?it/s]"
      ]
     },
     "metadata": {},
     "output_type": "display_data"
    },
    {
     "data": {
      "application/vnd.jupyter.widget-view+json": {
       "model_id": "305e79fe429b4f81ba15de9a49a099b3",
       "version_major": 2,
       "version_minor": 0
      },
      "text/plain": [
       "Validation:   0%|          | 0/9 [00:00<?, ?it/s]"
      ]
     },
     "metadata": {},
     "output_type": "display_data"
    },
    {
     "name": "stdout",
     "output_type": "stream",
     "text": [
      "\n",
      "Epoch 9\n",
      "Train Loss: 0.0733, Val Loss: 0.0427\n",
      "Train Acc: 0.9779, Val Acc: 0.9926\n",
      "Train F1: 0.9779, Val F1: 0.9926\n",
      "\n",
      "Epoch 10/10\n"
     ]
    },
    {
     "data": {
      "application/vnd.jupyter.widget-view+json": {
       "model_id": "163c8eedb99746528c31bae5ff822202",
       "version_major": 2,
       "version_minor": 0
      },
      "text/plain": [
       "Training:   0%|          | 0/34 [00:00<?, ?it/s]"
      ]
     },
     "metadata": {},
     "output_type": "display_data"
    },
    {
     "data": {
      "application/vnd.jupyter.widget-view+json": {
       "model_id": "c5051c6d46344a50a4ab8930833a545b",
       "version_major": 2,
       "version_minor": 0
      },
      "text/plain": [
       "Validation:   0%|          | 0/9 [00:00<?, ?it/s]"
      ]
     },
     "metadata": {},
     "output_type": "display_data"
    },
    {
     "name": "stdout",
     "output_type": "stream",
     "text": [
      "\n",
      "Epoch 10\n",
      "Train Loss: 0.0805, Val Loss: 0.0262\n",
      "Train Acc: 0.9752, Val Acc: 0.9963\n",
      "Train F1: 0.9751, Val F1: 0.9963\n"
     ]
    },
    {
     "data": {
      "application/vnd.jupyter.widget-view+json": {
       "model_id": "a3e82c75426d4116a9474a896fef4dbe",
       "version_major": 2,
       "version_minor": 0
      },
      "text/plain": [
       "Validation:   0%|          | 0/9 [00:00<?, ?it/s]"
      ]
     },
     "metadata": {},
     "output_type": "display_data"
    },
    {
     "name": "stdout",
     "output_type": "stream",
     "text": [
      "\n",
      "Fold 2/5\n",
      "Training on cuda\n",
      "\n",
      "Phase 1/1\n",
      "\n",
      "Epoch 1/10\n"
     ]
    },
    {
     "data": {
      "application/vnd.jupyter.widget-view+json": {
       "model_id": "f496c278067e479780524ddcc4ae1440",
       "version_major": 2,
       "version_minor": 0
      },
      "text/plain": [
       "Training:   0%|          | 0/34 [00:00<?, ?it/s]"
      ]
     },
     "metadata": {},
     "output_type": "display_data"
    },
    {
     "data": {
      "application/vnd.jupyter.widget-view+json": {
       "model_id": "2361f5d4d5f0469f9d7c1134c645f744",
       "version_major": 2,
       "version_minor": 0
      },
      "text/plain": [
       "Validation:   0%|          | 0/9 [00:00<?, ?it/s]"
      ]
     },
     "metadata": {},
     "output_type": "display_data"
    },
    {
     "name": "stdout",
     "output_type": "stream",
     "text": [
      "\n",
      "Epoch 1\n",
      "Train Loss: 0.3572, Val Loss: 0.8331\n",
      "Train Acc: 0.8629, Val Acc: 0.6176\n",
      "Train F1: 0.8618, Val F1: 0.5129\n",
      "\n",
      "Epoch 2/10\n"
     ]
    },
    {
     "data": {
      "application/vnd.jupyter.widget-view+json": {
       "model_id": "e5ad2237346f44c89eff092cf01b75ba",
       "version_major": 2,
       "version_minor": 0
      },
      "text/plain": [
       "Training:   0%|          | 0/34 [00:00<?, ?it/s]"
      ]
     },
     "metadata": {},
     "output_type": "display_data"
    },
    {
     "data": {
      "application/vnd.jupyter.widget-view+json": {
       "model_id": "0b94905dd4b24aa7b8a008f04288b03f",
       "version_major": 2,
       "version_minor": 0
      },
      "text/plain": [
       "Validation:   0%|          | 0/9 [00:00<?, ?it/s]"
      ]
     },
     "metadata": {},
     "output_type": "display_data"
    },
    {
     "name": "stdout",
     "output_type": "stream",
     "text": [
      "\n",
      "Epoch 2\n",
      "Train Loss: 0.1827, Val Loss: 0.5124\n",
      "Train Acc: 0.9365, Val Acc: 0.7831\n",
      "Train F1: 0.9363, Val F1: 0.7750\n",
      "\n",
      "Epoch 3/10\n"
     ]
    },
    {
     "data": {
      "application/vnd.jupyter.widget-view+json": {
       "model_id": "1b60913e4e414efbb3f5d6dded7dc031",
       "version_major": 2,
       "version_minor": 0
      },
      "text/plain": [
       "Training:   0%|          | 0/34 [00:00<?, ?it/s]"
      ]
     },
     "metadata": {},
     "output_type": "display_data"
    },
    {
     "data": {
      "application/vnd.jupyter.widget-view+json": {
       "model_id": "b417ad026c9446b69d9138ae65a8de24",
       "version_major": 2,
       "version_minor": 0
      },
      "text/plain": [
       "Validation:   0%|          | 0/9 [00:00<?, ?it/s]"
      ]
     },
     "metadata": {},
     "output_type": "display_data"
    },
    {
     "name": "stdout",
     "output_type": "stream",
     "text": [
      "\n",
      "Epoch 3\n",
      "Train Loss: 0.1339, Val Loss: 0.2589\n",
      "Train Acc: 0.9531, Val Acc: 0.9375\n",
      "Train F1: 0.9529, Val F1: 0.9379\n",
      "\n",
      "Epoch 4/10\n"
     ]
    },
    {
     "data": {
      "application/vnd.jupyter.widget-view+json": {
       "model_id": "48ff7d5e59484b4f9f4ec617bc02688f",
       "version_major": 2,
       "version_minor": 0
      },
      "text/plain": [
       "Training:   0%|          | 0/34 [00:00<?, ?it/s]"
      ]
     },
     "metadata": {},
     "output_type": "display_data"
    },
    {
     "data": {
      "application/vnd.jupyter.widget-view+json": {
       "model_id": "1232a1285ee04a359a9635350af9042f",
       "version_major": 2,
       "version_minor": 0
      },
      "text/plain": [
       "Validation:   0%|          | 0/9 [00:00<?, ?it/s]"
      ]
     },
     "metadata": {},
     "output_type": "display_data"
    },
    {
     "name": "stdout",
     "output_type": "stream",
     "text": [
      "\n",
      "Epoch 4\n",
      "Train Loss: 0.1258, Val Loss: 0.1856\n",
      "Train Acc: 0.9623, Val Acc: 0.9412\n",
      "Train F1: 0.9621, Val F1: 0.9412\n",
      "\n",
      "Epoch 5/10\n"
     ]
    },
    {
     "data": {
      "application/vnd.jupyter.widget-view+json": {
       "model_id": "c56934a680634c009758e2d9d51bc548",
       "version_major": 2,
       "version_minor": 0
      },
      "text/plain": [
       "Training:   0%|          | 0/34 [00:00<?, ?it/s]"
      ]
     },
     "metadata": {},
     "output_type": "display_data"
    },
    {
     "data": {
      "application/vnd.jupyter.widget-view+json": {
       "model_id": "fdbb920b8838434696e58033b7d5cf61",
       "version_major": 2,
       "version_minor": 0
      },
      "text/plain": [
       "Validation:   0%|          | 0/9 [00:00<?, ?it/s]"
      ]
     },
     "metadata": {},
     "output_type": "display_data"
    },
    {
     "name": "stdout",
     "output_type": "stream",
     "text": [
      "\n",
      "Epoch 5\n",
      "Train Loss: 0.1159, Val Loss: 0.1647\n",
      "Train Acc: 0.9614, Val Acc: 0.9669\n",
      "Train F1: 0.9612, Val F1: 0.9670\n",
      "\n",
      "Epoch 6/10\n"
     ]
    },
    {
     "data": {
      "application/vnd.jupyter.widget-view+json": {
       "model_id": "294872dc18284b3abd39b857821be07e",
       "version_major": 2,
       "version_minor": 0
      },
      "text/plain": [
       "Training:   0%|          | 0/34 [00:00<?, ?it/s]"
      ]
     },
     "metadata": {},
     "output_type": "display_data"
    },
    {
     "data": {
      "application/vnd.jupyter.widget-view+json": {
       "model_id": "0fb62b6d0dc541cba9815e3d0c9ca5ea",
       "version_major": 2,
       "version_minor": 0
      },
      "text/plain": [
       "Validation:   0%|          | 0/9 [00:00<?, ?it/s]"
      ]
     },
     "metadata": {},
     "output_type": "display_data"
    },
    {
     "name": "stdout",
     "output_type": "stream",
     "text": [
      "\n",
      "Epoch 6\n",
      "Train Loss: 0.1127, Val Loss: 0.1002\n",
      "Train Acc: 0.9623, Val Acc: 0.9743\n",
      "Train F1: 0.9622, Val F1: 0.9743\n",
      "\n",
      "Epoch 7/10\n"
     ]
    },
    {
     "data": {
      "application/vnd.jupyter.widget-view+json": {
       "model_id": "433d8bf2a6b7419ea9e533436ceececa",
       "version_major": 2,
       "version_minor": 0
      },
      "text/plain": [
       "Training:   0%|          | 0/34 [00:00<?, ?it/s]"
      ]
     },
     "metadata": {},
     "output_type": "display_data"
    },
    {
     "data": {
      "application/vnd.jupyter.widget-view+json": {
       "model_id": "023d6a70cae347f29a066986509913eb",
       "version_major": 2,
       "version_minor": 0
      },
      "text/plain": [
       "Validation:   0%|          | 0/9 [00:00<?, ?it/s]"
      ]
     },
     "metadata": {},
     "output_type": "display_data"
    },
    {
     "name": "stdout",
     "output_type": "stream",
     "text": [
      "\n",
      "Epoch 7\n",
      "Train Loss: 0.0917, Val Loss: 0.0776\n",
      "Train Acc: 0.9678, Val Acc: 0.9743\n",
      "Train F1: 0.9677, Val F1: 0.9743\n",
      "\n",
      "Epoch 8/10\n"
     ]
    },
    {
     "data": {
      "application/vnd.jupyter.widget-view+json": {
       "model_id": "2509ec8de2764e9ebf65fd378fcca85f",
       "version_major": 2,
       "version_minor": 0
      },
      "text/plain": [
       "Training:   0%|          | 0/34 [00:00<?, ?it/s]"
      ]
     },
     "metadata": {},
     "output_type": "display_data"
    },
    {
     "data": {
      "application/vnd.jupyter.widget-view+json": {
       "model_id": "c50f902f687f450ba63c46879e56d4c6",
       "version_major": 2,
       "version_minor": 0
      },
      "text/plain": [
       "Validation:   0%|          | 0/9 [00:00<?, ?it/s]"
      ]
     },
     "metadata": {},
     "output_type": "display_data"
    },
    {
     "name": "stdout",
     "output_type": "stream",
     "text": [
      "\n",
      "Epoch 8\n",
      "Train Loss: 0.0997, Val Loss: 0.0656\n",
      "Train Acc: 0.9660, Val Acc: 0.9816\n",
      "Train F1: 0.9659, Val F1: 0.9816\n",
      "\n",
      "Epoch 9/10\n"
     ]
    },
    {
     "data": {
      "application/vnd.jupyter.widget-view+json": {
       "model_id": "7bd8c1f7a69f432a91198fa52f1dbb90",
       "version_major": 2,
       "version_minor": 0
      },
      "text/plain": [
       "Training:   0%|          | 0/34 [00:00<?, ?it/s]"
      ]
     },
     "metadata": {},
     "output_type": "display_data"
    },
    {
     "data": {
      "application/vnd.jupyter.widget-view+json": {
       "model_id": "4a037814ba1e4b7eade0bbd62171fbf5",
       "version_major": 2,
       "version_minor": 0
      },
      "text/plain": [
       "Validation:   0%|          | 0/9 [00:00<?, ?it/s]"
      ]
     },
     "metadata": {},
     "output_type": "display_data"
    },
    {
     "name": "stdout",
     "output_type": "stream",
     "text": [
      "\n",
      "Epoch 9\n",
      "Train Loss: 0.1045, Val Loss: 0.0993\n",
      "Train Acc: 0.9669, Val Acc: 0.9779\n",
      "Train F1: 0.9669, Val F1: 0.9779\n",
      "\n",
      "Epoch 10/10\n"
     ]
    },
    {
     "data": {
      "application/vnd.jupyter.widget-view+json": {
       "model_id": "d92bb6b52f6349b88e1243fd0882d0ab",
       "version_major": 2,
       "version_minor": 0
      },
      "text/plain": [
       "Training:   0%|          | 0/34 [00:00<?, ?it/s]"
      ]
     },
     "metadata": {},
     "output_type": "display_data"
    },
    {
     "data": {
      "application/vnd.jupyter.widget-view+json": {
       "model_id": "78f982ddf0c3469ab79f079a34f356a0",
       "version_major": 2,
       "version_minor": 0
      },
      "text/plain": [
       "Validation:   0%|          | 0/9 [00:00<?, ?it/s]"
      ]
     },
     "metadata": {},
     "output_type": "display_data"
    },
    {
     "name": "stdout",
     "output_type": "stream",
     "text": [
      "\n",
      "Epoch 10\n",
      "Train Loss: 0.0799, Val Loss: 0.0839\n",
      "Train Acc: 0.9752, Val Acc: 0.9816\n",
      "Train F1: 0.9751, Val F1: 0.9817\n"
     ]
    },
    {
     "data": {
      "application/vnd.jupyter.widget-view+json": {
       "model_id": "1e2ae1779cee4d6daf812fe5e6513650",
       "version_major": 2,
       "version_minor": 0
      },
      "text/plain": [
       "Validation:   0%|          | 0/9 [00:00<?, ?it/s]"
      ]
     },
     "metadata": {},
     "output_type": "display_data"
    },
    {
     "name": "stdout",
     "output_type": "stream",
     "text": [
      "\n",
      "Fold 3/5\n",
      "Training on cuda\n",
      "\n",
      "Phase 1/1\n",
      "\n",
      "Epoch 1/10\n"
     ]
    },
    {
     "data": {
      "application/vnd.jupyter.widget-view+json": {
       "model_id": "03b433a998f74e86b2e1d97ea0f6c837",
       "version_major": 2,
       "version_minor": 0
      },
      "text/plain": [
       "Training:   0%|          | 0/34 [00:00<?, ?it/s]"
      ]
     },
     "metadata": {},
     "output_type": "display_data"
    },
    {
     "data": {
      "application/vnd.jupyter.widget-view+json": {
       "model_id": "9c81171c0d654f00803f1a0aaba52ad9",
       "version_major": 2,
       "version_minor": 0
      },
      "text/plain": [
       "Validation:   0%|          | 0/9 [00:00<?, ?it/s]"
      ]
     },
     "metadata": {},
     "output_type": "display_data"
    },
    {
     "name": "stdout",
     "output_type": "stream",
     "text": [
      "\n",
      "Epoch 1\n",
      "Train Loss: 0.4159, Val Loss: 0.8295\n",
      "Train Acc: 0.8381, Val Acc: 0.6176\n",
      "Train F1: 0.8363, Val F1: 0.5200\n",
      "\n",
      "Epoch 2/10\n"
     ]
    },
    {
     "data": {
      "application/vnd.jupyter.widget-view+json": {
       "model_id": "b4827d08596745c38a0475d82e8add28",
       "version_major": 2,
       "version_minor": 0
      },
      "text/plain": [
       "Training:   0%|          | 0/34 [00:00<?, ?it/s]"
      ]
     },
     "metadata": {},
     "output_type": "display_data"
    },
    {
     "data": {
      "application/vnd.jupyter.widget-view+json": {
       "model_id": "e7d1ecdbff6b4e32a81f7d58b47ee211",
       "version_major": 2,
       "version_minor": 0
      },
      "text/plain": [
       "Validation:   0%|          | 0/9 [00:00<?, ?it/s]"
      ]
     },
     "metadata": {},
     "output_type": "display_data"
    },
    {
     "name": "stdout",
     "output_type": "stream",
     "text": [
      "\n",
      "Epoch 2\n",
      "Train Loss: 0.1736, Val Loss: 0.5336\n",
      "Train Acc: 0.9512, Val Acc: 0.8015\n",
      "Train F1: 0.9510, Val F1: 0.7979\n",
      "\n",
      "Epoch 3/10\n"
     ]
    },
    {
     "data": {
      "application/vnd.jupyter.widget-view+json": {
       "model_id": "1c7981580f3942579d31e01bf955d675",
       "version_major": 2,
       "version_minor": 0
      },
      "text/plain": [
       "Training:   0%|          | 0/34 [00:00<?, ?it/s]"
      ]
     },
     "metadata": {},
     "output_type": "display_data"
    },
    {
     "data": {
      "application/vnd.jupyter.widget-view+json": {
       "model_id": "280596a37196443fa3598f6d384d7438",
       "version_major": 2,
       "version_minor": 0
      },
      "text/plain": [
       "Validation:   0%|          | 0/9 [00:00<?, ?it/s]"
      ]
     },
     "metadata": {},
     "output_type": "display_data"
    },
    {
     "name": "stdout",
     "output_type": "stream",
     "text": [
      "\n",
      "Epoch 3\n",
      "Train Loss: 0.1546, Val Loss: 0.2636\n",
      "Train Acc: 0.9503, Val Acc: 0.9301\n",
      "Train F1: 0.9502, Val F1: 0.9305\n",
      "\n",
      "Epoch 4/10\n"
     ]
    },
    {
     "data": {
      "application/vnd.jupyter.widget-view+json": {
       "model_id": "339bbbbdf02d4ce286299f422f9e8728",
       "version_major": 2,
       "version_minor": 0
      },
      "text/plain": [
       "Training:   0%|          | 0/34 [00:00<?, ?it/s]"
      ]
     },
     "metadata": {},
     "output_type": "display_data"
    },
    {
     "data": {
      "application/vnd.jupyter.widget-view+json": {
       "model_id": "f47dc3db422d49e783b6b2fc60e05ef8",
       "version_major": 2,
       "version_minor": 0
      },
      "text/plain": [
       "Validation:   0%|          | 0/9 [00:00<?, ?it/s]"
      ]
     },
     "metadata": {},
     "output_type": "display_data"
    },
    {
     "name": "stdout",
     "output_type": "stream",
     "text": [
      "\n",
      "Epoch 4\n",
      "Train Loss: 0.1251, Val Loss: 0.1929\n",
      "Train Acc: 0.9586, Val Acc: 0.9559\n",
      "Train F1: 0.9584, Val F1: 0.9559\n",
      "\n",
      "Epoch 5/10\n"
     ]
    },
    {
     "data": {
      "application/vnd.jupyter.widget-view+json": {
       "model_id": "1907a1f5945a4c47805d9c1f23f8cfd4",
       "version_major": 2,
       "version_minor": 0
      },
      "text/plain": [
       "Training:   0%|          | 0/34 [00:00<?, ?it/s]"
      ]
     },
     "metadata": {},
     "output_type": "display_data"
    },
    {
     "data": {
      "application/vnd.jupyter.widget-view+json": {
       "model_id": "96570d815ee24471895b518a95c78aae",
       "version_major": 2,
       "version_minor": 0
      },
      "text/plain": [
       "Validation:   0%|          | 0/9 [00:00<?, ?it/s]"
      ]
     },
     "metadata": {},
     "output_type": "display_data"
    },
    {
     "name": "stdout",
     "output_type": "stream",
     "text": [
      "\n",
      "Epoch 5\n",
      "Train Loss: 0.0986, Val Loss: 0.1541\n",
      "Train Acc: 0.9678, Val Acc: 0.9559\n",
      "Train F1: 0.9677, Val F1: 0.9558\n",
      "\n",
      "Epoch 6/10\n"
     ]
    },
    {
     "data": {
      "application/vnd.jupyter.widget-view+json": {
       "model_id": "9cc113b9a9af4518b01fb32bdeb2fc07",
       "version_major": 2,
       "version_minor": 0
      },
      "text/plain": [
       "Training:   0%|          | 0/34 [00:00<?, ?it/s]"
      ]
     },
     "metadata": {},
     "output_type": "display_data"
    },
    {
     "data": {
      "application/vnd.jupyter.widget-view+json": {
       "model_id": "2c3988a19c5c43b2918731a958b8196c",
       "version_major": 2,
       "version_minor": 0
      },
      "text/plain": [
       "Validation:   0%|          | 0/9 [00:00<?, ?it/s]"
      ]
     },
     "metadata": {},
     "output_type": "display_data"
    },
    {
     "name": "stdout",
     "output_type": "stream",
     "text": [
      "\n",
      "Epoch 6\n",
      "Train Loss: 0.0953, Val Loss: 0.0919\n",
      "Train Acc: 0.9669, Val Acc: 0.9779\n",
      "Train F1: 0.9669, Val F1: 0.9778\n",
      "\n",
      "Epoch 7/10\n"
     ]
    },
    {
     "data": {
      "application/vnd.jupyter.widget-view+json": {
       "model_id": "6066dcb781cf4cecae50df9ac54840d1",
       "version_major": 2,
       "version_minor": 0
      },
      "text/plain": [
       "Training:   0%|          | 0/34 [00:00<?, ?it/s]"
      ]
     },
     "metadata": {},
     "output_type": "display_data"
    },
    {
     "data": {
      "application/vnd.jupyter.widget-view+json": {
       "model_id": "6fc5e9c9041e41679dd7c4ef05911688",
       "version_major": 2,
       "version_minor": 0
      },
      "text/plain": [
       "Validation:   0%|          | 0/9 [00:00<?, ?it/s]"
      ]
     },
     "metadata": {},
     "output_type": "display_data"
    },
    {
     "name": "stdout",
     "output_type": "stream",
     "text": [
      "\n",
      "Epoch 7\n",
      "Train Loss: 0.0927, Val Loss: 0.0744\n",
      "Train Acc: 0.9706, Val Acc: 0.9816\n",
      "Train F1: 0.9705, Val F1: 0.9815\n",
      "\n",
      "Epoch 8/10\n"
     ]
    },
    {
     "data": {
      "application/vnd.jupyter.widget-view+json": {
       "model_id": "aeb6ae4df26243d5a7e337cb724c62e4",
       "version_major": 2,
       "version_minor": 0
      },
      "text/plain": [
       "Training:   0%|          | 0/34 [00:00<?, ?it/s]"
      ]
     },
     "metadata": {},
     "output_type": "display_data"
    },
    {
     "data": {
      "application/vnd.jupyter.widget-view+json": {
       "model_id": "308f88a62c36460aa1651ca5762661a9",
       "version_major": 2,
       "version_minor": 0
      },
      "text/plain": [
       "Validation:   0%|          | 0/9 [00:00<?, ?it/s]"
      ]
     },
     "metadata": {},
     "output_type": "display_data"
    },
    {
     "name": "stdout",
     "output_type": "stream",
     "text": [
      "\n",
      "Epoch 8\n",
      "Train Loss: 0.0989, Val Loss: 0.0636\n",
      "Train Acc: 0.9733, Val Acc: 0.9743\n",
      "Train F1: 0.9733, Val F1: 0.9741\n",
      "\n",
      "Epoch 9/10\n"
     ]
    },
    {
     "data": {
      "application/vnd.jupyter.widget-view+json": {
       "model_id": "4ebe775a66454653961cca256ea625d8",
       "version_major": 2,
       "version_minor": 0
      },
      "text/plain": [
       "Training:   0%|          | 0/34 [00:00<?, ?it/s]"
      ]
     },
     "metadata": {},
     "output_type": "display_data"
    },
    {
     "data": {
      "application/vnd.jupyter.widget-view+json": {
       "model_id": "ee46334556844e8e89d00b2e0f682aab",
       "version_major": 2,
       "version_minor": 0
      },
      "text/plain": [
       "Validation:   0%|          | 0/9 [00:00<?, ?it/s]"
      ]
     },
     "metadata": {},
     "output_type": "display_data"
    },
    {
     "name": "stdout",
     "output_type": "stream",
     "text": [
      "\n",
      "Epoch 9\n",
      "Train Loss: 0.1004, Val Loss: 0.0539\n",
      "Train Acc: 0.9660, Val Acc: 0.9816\n",
      "Train F1: 0.9660, Val F1: 0.9815\n",
      "\n",
      "Epoch 10/10\n"
     ]
    },
    {
     "data": {
      "application/vnd.jupyter.widget-view+json": {
       "model_id": "295d85284a2944cd98b2e458b399daf5",
       "version_major": 2,
       "version_minor": 0
      },
      "text/plain": [
       "Training:   0%|          | 0/34 [00:00<?, ?it/s]"
      ]
     },
     "metadata": {},
     "output_type": "display_data"
    },
    {
     "data": {
      "application/vnd.jupyter.widget-view+json": {
       "model_id": "c998a2cdd6c24db1931adb2f6fe3dfc5",
       "version_major": 2,
       "version_minor": 0
      },
      "text/plain": [
       "Validation:   0%|          | 0/9 [00:00<?, ?it/s]"
      ]
     },
     "metadata": {},
     "output_type": "display_data"
    },
    {
     "name": "stdout",
     "output_type": "stream",
     "text": [
      "\n",
      "Epoch 10\n",
      "Train Loss: 0.0686, Val Loss: 0.0554\n",
      "Train Acc: 0.9770, Val Acc: 0.9816\n",
      "Train F1: 0.9770, Val F1: 0.9815\n"
     ]
    },
    {
     "data": {
      "application/vnd.jupyter.widget-view+json": {
       "model_id": "8764e65347a34bc4a8167388dfa13a37",
       "version_major": 2,
       "version_minor": 0
      },
      "text/plain": [
       "Validation:   0%|          | 0/9 [00:00<?, ?it/s]"
      ]
     },
     "metadata": {},
     "output_type": "display_data"
    },
    {
     "name": "stdout",
     "output_type": "stream",
     "text": [
      "\n",
      "Fold 4/5\n",
      "Training on cuda\n",
      "\n",
      "Phase 1/1\n",
      "\n",
      "Epoch 1/10\n"
     ]
    },
    {
     "data": {
      "application/vnd.jupyter.widget-view+json": {
       "model_id": "0fe5ca5551ad4ce8921f5014e89ac723",
       "version_major": 2,
       "version_minor": 0
      },
      "text/plain": [
       "Training:   0%|          | 0/34 [00:00<?, ?it/s]"
      ]
     },
     "metadata": {},
     "output_type": "display_data"
    },
    {
     "data": {
      "application/vnd.jupyter.widget-view+json": {
       "model_id": "efa38081eb0c4cc9986979d007f7392a",
       "version_major": 2,
       "version_minor": 0
      },
      "text/plain": [
       "Validation:   0%|          | 0/9 [00:00<?, ?it/s]"
      ]
     },
     "metadata": {},
     "output_type": "display_data"
    },
    {
     "name": "stdout",
     "output_type": "stream",
     "text": [
      "\n",
      "Epoch 1\n",
      "Train Loss: 0.4091, Val Loss: 0.8090\n",
      "Train Acc: 0.8381, Val Acc: 0.6691\n",
      "Train F1: 0.8384, Val F1: 0.5825\n",
      "\n",
      "Epoch 2/10\n"
     ]
    },
    {
     "data": {
      "application/vnd.jupyter.widget-view+json": {
       "model_id": "593b7c79c106492bbb680cd55986cd3d",
       "version_major": 2,
       "version_minor": 0
      },
      "text/plain": [
       "Training:   0%|          | 0/34 [00:00<?, ?it/s]"
      ]
     },
     "metadata": {},
     "output_type": "display_data"
    },
    {
     "data": {
      "application/vnd.jupyter.widget-view+json": {
       "model_id": "c531b2adcdb0430cba32ae81d98d1ee9",
       "version_major": 2,
       "version_minor": 0
      },
      "text/plain": [
       "Validation:   0%|          | 0/9 [00:00<?, ?it/s]"
      ]
     },
     "metadata": {},
     "output_type": "display_data"
    },
    {
     "name": "stdout",
     "output_type": "stream",
     "text": [
      "\n",
      "Epoch 2\n",
      "Train Loss: 0.2000, Val Loss: 0.4754\n",
      "Train Acc: 0.9282, Val Acc: 0.8456\n",
      "Train F1: 0.9279, Val F1: 0.8448\n",
      "\n",
      "Epoch 3/10\n"
     ]
    },
    {
     "data": {
      "application/vnd.jupyter.widget-view+json": {
       "model_id": "1544e979fc8d44bc97cab86e0de48b98",
       "version_major": 2,
       "version_minor": 0
      },
      "text/plain": [
       "Training:   0%|          | 0/34 [00:00<?, ?it/s]"
      ]
     },
     "metadata": {},
     "output_type": "display_data"
    },
    {
     "data": {
      "application/vnd.jupyter.widget-view+json": {
       "model_id": "9d19eab548c340e7ad6d15d7ce144086",
       "version_major": 2,
       "version_minor": 0
      },
      "text/plain": [
       "Validation:   0%|          | 0/9 [00:00<?, ?it/s]"
      ]
     },
     "metadata": {},
     "output_type": "display_data"
    },
    {
     "name": "stdout",
     "output_type": "stream",
     "text": [
      "\n",
      "Epoch 3\n",
      "Train Loss: 0.1632, Val Loss: 0.2481\n",
      "Train Acc: 0.9448, Val Acc: 0.9338\n",
      "Train F1: 0.9446, Val F1: 0.9342\n",
      "\n",
      "Epoch 4/10\n"
     ]
    },
    {
     "data": {
      "application/vnd.jupyter.widget-view+json": {
       "model_id": "5348ba9a3d6f4c2e821582b758a15959",
       "version_major": 2,
       "version_minor": 0
      },
      "text/plain": [
       "Training:   0%|          | 0/34 [00:00<?, ?it/s]"
      ]
     },
     "metadata": {},
     "output_type": "display_data"
    },
    {
     "data": {
      "application/vnd.jupyter.widget-view+json": {
       "model_id": "baf0fe892f5e4d9aa26396161f601ca1",
       "version_major": 2,
       "version_minor": 0
      },
      "text/plain": [
       "Validation:   0%|          | 0/9 [00:00<?, ?it/s]"
      ]
     },
     "metadata": {},
     "output_type": "display_data"
    },
    {
     "name": "stdout",
     "output_type": "stream",
     "text": [
      "\n",
      "Epoch 4\n",
      "Train Loss: 0.1318, Val Loss: 0.1526\n",
      "Train Acc: 0.9558, Val Acc: 0.9596\n",
      "Train F1: 0.9557, Val F1: 0.9594\n",
      "\n",
      "Epoch 5/10\n"
     ]
    },
    {
     "data": {
      "application/vnd.jupyter.widget-view+json": {
       "model_id": "7dd1894c8e9d481d81b030fd3dc3bc95",
       "version_major": 2,
       "version_minor": 0
      },
      "text/plain": [
       "Training:   0%|          | 0/34 [00:00<?, ?it/s]"
      ]
     },
     "metadata": {},
     "output_type": "display_data"
    },
    {
     "data": {
      "application/vnd.jupyter.widget-view+json": {
       "model_id": "295d333dba0c4448a04d27e142708d60",
       "version_major": 2,
       "version_minor": 0
      },
      "text/plain": [
       "Validation:   0%|          | 0/9 [00:00<?, ?it/s]"
      ]
     },
     "metadata": {},
     "output_type": "display_data"
    },
    {
     "name": "stdout",
     "output_type": "stream",
     "text": [
      "\n",
      "Epoch 5\n",
      "Train Loss: 0.1147, Val Loss: 0.1136\n",
      "Train Acc: 0.9650, Val Acc: 0.9743\n",
      "Train F1: 0.9649, Val F1: 0.9742\n",
      "\n",
      "Epoch 6/10\n"
     ]
    },
    {
     "data": {
      "application/vnd.jupyter.widget-view+json": {
       "model_id": "eaae02e5b5fb48d6b76904624fae5588",
       "version_major": 2,
       "version_minor": 0
      },
      "text/plain": [
       "Training:   0%|          | 0/34 [00:00<?, ?it/s]"
      ]
     },
     "metadata": {},
     "output_type": "display_data"
    },
    {
     "data": {
      "application/vnd.jupyter.widget-view+json": {
       "model_id": "47a1b21c931f4b92ae17a9eec09df47b",
       "version_major": 2,
       "version_minor": 0
      },
      "text/plain": [
       "Validation:   0%|          | 0/9 [00:00<?, ?it/s]"
      ]
     },
     "metadata": {},
     "output_type": "display_data"
    },
    {
     "name": "stdout",
     "output_type": "stream",
     "text": [
      "\n",
      "Epoch 6\n",
      "Train Loss: 0.1041, Val Loss: 0.0881\n",
      "Train Acc: 0.9604, Val Acc: 0.9743\n",
      "Train F1: 0.9602, Val F1: 0.9742\n",
      "\n",
      "Epoch 7/10\n"
     ]
    },
    {
     "data": {
      "application/vnd.jupyter.widget-view+json": {
       "model_id": "d2134367817f453599a004bad9e36109",
       "version_major": 2,
       "version_minor": 0
      },
      "text/plain": [
       "Training:   0%|          | 0/34 [00:00<?, ?it/s]"
      ]
     },
     "metadata": {},
     "output_type": "display_data"
    },
    {
     "data": {
      "application/vnd.jupyter.widget-view+json": {
       "model_id": "a524e42249d3429a94194d0eb195298e",
       "version_major": 2,
       "version_minor": 0
      },
      "text/plain": [
       "Validation:   0%|          | 0/9 [00:00<?, ?it/s]"
      ]
     },
     "metadata": {},
     "output_type": "display_data"
    },
    {
     "name": "stdout",
     "output_type": "stream",
     "text": [
      "\n",
      "Epoch 7\n",
      "Train Loss: 0.0899, Val Loss: 0.0753\n",
      "Train Acc: 0.9696, Val Acc: 0.9706\n",
      "Train F1: 0.9696, Val F1: 0.9705\n",
      "\n",
      "Epoch 8/10\n"
     ]
    },
    {
     "data": {
      "application/vnd.jupyter.widget-view+json": {
       "model_id": "af466851848b49a8a2b82505e9daa107",
       "version_major": 2,
       "version_minor": 0
      },
      "text/plain": [
       "Training:   0%|          | 0/34 [00:00<?, ?it/s]"
      ]
     },
     "metadata": {},
     "output_type": "display_data"
    },
    {
     "data": {
      "application/vnd.jupyter.widget-view+json": {
       "model_id": "a7e1031e44b94c2cad25d36375292cee",
       "version_major": 2,
       "version_minor": 0
      },
      "text/plain": [
       "Validation:   0%|          | 0/9 [00:00<?, ?it/s]"
      ]
     },
     "metadata": {},
     "output_type": "display_data"
    },
    {
     "name": "stdout",
     "output_type": "stream",
     "text": [
      "\n",
      "Epoch 8\n",
      "Train Loss: 0.0972, Val Loss: 0.0670\n",
      "Train Acc: 0.9660, Val Acc: 0.9926\n",
      "Train F1: 0.9659, Val F1: 0.9926\n",
      "\n",
      "Epoch 9/10\n"
     ]
    },
    {
     "data": {
      "application/vnd.jupyter.widget-view+json": {
       "model_id": "de457fd39b904825b9deaebfdeca16df",
       "version_major": 2,
       "version_minor": 0
      },
      "text/plain": [
       "Training:   0%|          | 0/34 [00:00<?, ?it/s]"
      ]
     },
     "metadata": {},
     "output_type": "display_data"
    },
    {
     "data": {
      "application/vnd.jupyter.widget-view+json": {
       "model_id": "fb765acd48f340ebb3d04db097155e65",
       "version_major": 2,
       "version_minor": 0
      },
      "text/plain": [
       "Validation:   0%|          | 0/9 [00:00<?, ?it/s]"
      ]
     },
     "metadata": {},
     "output_type": "display_data"
    },
    {
     "name": "stdout",
     "output_type": "stream",
     "text": [
      "\n",
      "Epoch 9\n",
      "Train Loss: 0.0670, Val Loss: 0.0588\n",
      "Train Acc: 0.9761, Val Acc: 0.9816\n",
      "Train F1: 0.9761, Val F1: 0.9816\n",
      "\n",
      "Epoch 10/10\n"
     ]
    },
    {
     "data": {
      "application/vnd.jupyter.widget-view+json": {
       "model_id": "1edaa03bb75a4a04946a60cf24b8f6ca",
       "version_major": 2,
       "version_minor": 0
      },
      "text/plain": [
       "Training:   0%|          | 0/34 [00:00<?, ?it/s]"
      ]
     },
     "metadata": {},
     "output_type": "display_data"
    },
    {
     "data": {
      "application/vnd.jupyter.widget-view+json": {
       "model_id": "dd3da1d5edf445968a962b696a582bbd",
       "version_major": 2,
       "version_minor": 0
      },
      "text/plain": [
       "Validation:   0%|          | 0/9 [00:00<?, ?it/s]"
      ]
     },
     "metadata": {},
     "output_type": "display_data"
    },
    {
     "name": "stdout",
     "output_type": "stream",
     "text": [
      "\n",
      "Epoch 10\n",
      "Train Loss: 0.0792, Val Loss: 0.0723\n",
      "Train Acc: 0.9742, Val Acc: 0.9853\n",
      "Train F1: 0.9742, Val F1: 0.9853\n"
     ]
    },
    {
     "data": {
      "application/vnd.jupyter.widget-view+json": {
       "model_id": "b8b1321b6aa34236a711b9222b625810",
       "version_major": 2,
       "version_minor": 0
      },
      "text/plain": [
       "Validation:   0%|          | 0/9 [00:00<?, ?it/s]"
      ]
     },
     "metadata": {},
     "output_type": "display_data"
    },
    {
     "name": "stdout",
     "output_type": "stream",
     "text": [
      "\n",
      "Fold 5/5\n",
      "Training on cuda\n",
      "\n",
      "Phase 1/1\n",
      "\n",
      "Epoch 1/10\n"
     ]
    },
    {
     "data": {
      "application/vnd.jupyter.widget-view+json": {
       "model_id": "11596d11853643e9a00d4274fdfd3184",
       "version_major": 2,
       "version_minor": 0
      },
      "text/plain": [
       "Training:   0%|          | 0/34 [00:00<?, ?it/s]"
      ]
     },
     "metadata": {},
     "output_type": "display_data"
    },
    {
     "data": {
      "application/vnd.jupyter.widget-view+json": {
       "model_id": "c7c1f87665404de7a20bdee54f077237",
       "version_major": 2,
       "version_minor": 0
      },
      "text/plain": [
       "Validation:   0%|          | 0/9 [00:00<?, ?it/s]"
      ]
     },
     "metadata": {},
     "output_type": "display_data"
    },
    {
     "name": "stdout",
     "output_type": "stream",
     "text": [
      "\n",
      "Epoch 1\n",
      "Train Loss: 0.4189, Val Loss: 0.7711\n",
      "Train Acc: 0.8575, Val Acc: 0.6863\n",
      "Train F1: 0.8574, Val F1: 0.5927\n",
      "\n",
      "Epoch 2/10\n"
     ]
    },
    {
     "data": {
      "application/vnd.jupyter.widget-view+json": {
       "model_id": "702df2ab2a8740f1a33e529b765efe9f",
       "version_major": 2,
       "version_minor": 0
      },
      "text/plain": [
       "Training:   0%|          | 0/34 [00:00<?, ?it/s]"
      ]
     },
     "metadata": {},
     "output_type": "display_data"
    },
    {
     "data": {
      "application/vnd.jupyter.widget-view+json": {
       "model_id": "1eac50b5a6e249c983ef28ceeb448e7a",
       "version_major": 2,
       "version_minor": 0
      },
      "text/plain": [
       "Validation:   0%|          | 0/9 [00:00<?, ?it/s]"
      ]
     },
     "metadata": {},
     "output_type": "display_data"
    },
    {
     "name": "stdout",
     "output_type": "stream",
     "text": [
      "\n",
      "Epoch 2\n",
      "Train Loss: 0.2259, Val Loss: 0.4576\n",
      "Train Acc: 0.9228, Val Acc: 0.8708\n",
      "Train F1: 0.9226, Val F1: 0.8679\n",
      "\n",
      "Epoch 3/10\n"
     ]
    },
    {
     "data": {
      "application/vnd.jupyter.widget-view+json": {
       "model_id": "96301ede52924b49a47bdc38fc60df52",
       "version_major": 2,
       "version_minor": 0
      },
      "text/plain": [
       "Training:   0%|          | 0/34 [00:00<?, ?it/s]"
      ]
     },
     "metadata": {},
     "output_type": "display_data"
    },
    {
     "data": {
      "application/vnd.jupyter.widget-view+json": {
       "model_id": "5d074446ef2f4066b14f58fd25bf092e",
       "version_major": 2,
       "version_minor": 0
      },
      "text/plain": [
       "Validation:   0%|          | 0/9 [00:00<?, ?it/s]"
      ]
     },
     "metadata": {},
     "output_type": "display_data"
    },
    {
     "name": "stdout",
     "output_type": "stream",
     "text": [
      "\n",
      "Epoch 3\n",
      "Train Loss: 0.1345, Val Loss: 0.2285\n",
      "Train Acc: 0.9522, Val Acc: 0.9410\n",
      "Train F1: 0.9521, Val F1: 0.9410\n",
      "\n",
      "Epoch 4/10\n"
     ]
    },
    {
     "data": {
      "application/vnd.jupyter.widget-view+json": {
       "model_id": "e9fe672804a34fd7aa2caa0b8b2870d5",
       "version_major": 2,
       "version_minor": 0
      },
      "text/plain": [
       "Training:   0%|          | 0/34 [00:00<?, ?it/s]"
      ]
     },
     "metadata": {},
     "output_type": "display_data"
    },
    {
     "data": {
      "application/vnd.jupyter.widget-view+json": {
       "model_id": "e2e9490c191a4420a091e57fad7e6f6f",
       "version_major": 2,
       "version_minor": 0
      },
      "text/plain": [
       "Validation:   0%|          | 0/9 [00:00<?, ?it/s]"
      ]
     },
     "metadata": {},
     "output_type": "display_data"
    },
    {
     "name": "stdout",
     "output_type": "stream",
     "text": [
      "\n",
      "Epoch 4\n",
      "Train Loss: 0.1166, Val Loss: 0.1379\n",
      "Train Acc: 0.9577, Val Acc: 0.9705\n",
      "Train F1: 0.9575, Val F1: 0.9703\n",
      "\n",
      "Epoch 5/10\n"
     ]
    },
    {
     "data": {
      "application/vnd.jupyter.widget-view+json": {
       "model_id": "458967d5947a4634aaa28aa18bc22b4e",
       "version_major": 2,
       "version_minor": 0
      },
      "text/plain": [
       "Training:   0%|          | 0/34 [00:00<?, ?it/s]"
      ]
     },
     "metadata": {},
     "output_type": "display_data"
    },
    {
     "data": {
      "application/vnd.jupyter.widget-view+json": {
       "model_id": "e5c1638d69474cf194277939b57e391d",
       "version_major": 2,
       "version_minor": 0
      },
      "text/plain": [
       "Validation:   0%|          | 0/9 [00:00<?, ?it/s]"
      ]
     },
     "metadata": {},
     "output_type": "display_data"
    },
    {
     "name": "stdout",
     "output_type": "stream",
     "text": [
      "\n",
      "Epoch 5\n",
      "Train Loss: 0.0983, Val Loss: 0.0902\n",
      "Train Acc: 0.9632, Val Acc: 0.9742\n",
      "Train F1: 0.9632, Val F1: 0.9740\n",
      "\n",
      "Epoch 6/10\n"
     ]
    },
    {
     "data": {
      "application/vnd.jupyter.widget-view+json": {
       "model_id": "f3e0dbbd9185494592f54cb21117b3a4",
       "version_major": 2,
       "version_minor": 0
      },
      "text/plain": [
       "Training:   0%|          | 0/34 [00:00<?, ?it/s]"
      ]
     },
     "metadata": {},
     "output_type": "display_data"
    },
    {
     "data": {
      "application/vnd.jupyter.widget-view+json": {
       "model_id": "d843ce9f3be64a0d9107d19b6e888724",
       "version_major": 2,
       "version_minor": 0
      },
      "text/plain": [
       "Validation:   0%|          | 0/9 [00:00<?, ?it/s]"
      ]
     },
     "metadata": {},
     "output_type": "display_data"
    },
    {
     "name": "stdout",
     "output_type": "stream",
     "text": [
      "\n",
      "Epoch 6\n",
      "Train Loss: 0.0848, Val Loss: 0.0724\n",
      "Train Acc: 0.9706, Val Acc: 0.9779\n",
      "Train F1: 0.9706, Val F1: 0.9778\n",
      "\n",
      "Epoch 7/10\n"
     ]
    },
    {
     "data": {
      "application/vnd.jupyter.widget-view+json": {
       "model_id": "1ffa5eb0514141fc8189a205949a185f",
       "version_major": 2,
       "version_minor": 0
      },
      "text/plain": [
       "Training:   0%|          | 0/34 [00:00<?, ?it/s]"
      ]
     },
     "metadata": {},
     "output_type": "display_data"
    },
    {
     "data": {
      "application/vnd.jupyter.widget-view+json": {
       "model_id": "39867b68b49c4ec2b0cbdf614367f028",
       "version_major": 2,
       "version_minor": 0
      },
      "text/plain": [
       "Validation:   0%|          | 0/9 [00:00<?, ?it/s]"
      ]
     },
     "metadata": {},
     "output_type": "display_data"
    },
    {
     "name": "stdout",
     "output_type": "stream",
     "text": [
      "\n",
      "Epoch 7\n",
      "Train Loss: 0.0904, Val Loss: 0.0691\n",
      "Train Acc: 0.9706, Val Acc: 0.9815\n",
      "Train F1: 0.9706, Val F1: 0.9815\n",
      "\n",
      "Epoch 8/10\n"
     ]
    },
    {
     "data": {
      "application/vnd.jupyter.widget-view+json": {
       "model_id": "7293e9464b6348beba1a01b7e96e2cfe",
       "version_major": 2,
       "version_minor": 0
      },
      "text/plain": [
       "Training:   0%|          | 0/34 [00:00<?, ?it/s]"
      ]
     },
     "metadata": {},
     "output_type": "display_data"
    },
    {
     "data": {
      "application/vnd.jupyter.widget-view+json": {
       "model_id": "92c8b24ab4064d069f13c4dae0c45c5b",
       "version_major": 2,
       "version_minor": 0
      },
      "text/plain": [
       "Validation:   0%|          | 0/9 [00:00<?, ?it/s]"
      ]
     },
     "metadata": {},
     "output_type": "display_data"
    },
    {
     "name": "stdout",
     "output_type": "stream",
     "text": [
      "\n",
      "Epoch 8\n",
      "Train Loss: 0.0819, Val Loss: 0.0602\n",
      "Train Acc: 0.9688, Val Acc: 0.9852\n",
      "Train F1: 0.9687, Val F1: 0.9852\n",
      "\n",
      "Epoch 9/10\n"
     ]
    },
    {
     "data": {
      "application/vnd.jupyter.widget-view+json": {
       "model_id": "ad6dfd257e524908a906cb2ce81e0f1f",
       "version_major": 2,
       "version_minor": 0
      },
      "text/plain": [
       "Training:   0%|          | 0/34 [00:00<?, ?it/s]"
      ]
     },
     "metadata": {},
     "output_type": "display_data"
    },
    {
     "data": {
      "application/vnd.jupyter.widget-view+json": {
       "model_id": "215cce7a3b3d4a8badeccdaf55f92416",
       "version_major": 2,
       "version_minor": 0
      },
      "text/plain": [
       "Validation:   0%|          | 0/9 [00:00<?, ?it/s]"
      ]
     },
     "metadata": {},
     "output_type": "display_data"
    },
    {
     "name": "stdout",
     "output_type": "stream",
     "text": [
      "\n",
      "Epoch 9\n",
      "Train Loss: 0.0829, Val Loss: 0.0402\n",
      "Train Acc: 0.9724, Val Acc: 0.9926\n",
      "Train F1: 0.9724, Val F1: 0.9926\n",
      "\n",
      "Epoch 10/10\n"
     ]
    },
    {
     "data": {
      "application/vnd.jupyter.widget-view+json": {
       "model_id": "050d990982424c7094438f87156f7209",
       "version_major": 2,
       "version_minor": 0
      },
      "text/plain": [
       "Training:   0%|          | 0/34 [00:00<?, ?it/s]"
      ]
     },
     "metadata": {},
     "output_type": "display_data"
    },
    {
     "data": {
      "application/vnd.jupyter.widget-view+json": {
       "model_id": "7f2ae2ac1c624daaa9ed5de7b53c307f",
       "version_major": 2,
       "version_minor": 0
      },
      "text/plain": [
       "Validation:   0%|          | 0/9 [00:00<?, ?it/s]"
      ]
     },
     "metadata": {},
     "output_type": "display_data"
    },
    {
     "name": "stdout",
     "output_type": "stream",
     "text": [
      "\n",
      "Epoch 10\n",
      "Train Loss: 0.1024, Val Loss: 0.0359\n",
      "Train Acc: 0.9678, Val Acc: 0.9889\n",
      "Train F1: 0.9677, Val F1: 0.9889\n"
     ]
    },
    {
     "data": {
      "application/vnd.jupyter.widget-view+json": {
       "model_id": "3070be6e4fea4bb99497fa1da1d960f1",
       "version_major": 2,
       "version_minor": 0
      },
      "text/plain": [
       "Validation:   0%|          | 0/9 [00:00<?, ?it/s]"
      ]
     },
     "metadata": {},
     "output_type": "display_data"
    },
    {
     "name": "stdout",
     "output_type": "stream",
     "text": [
      "CV val_loss: 0.0481 ± 0.0147\n",
      "CV val_accuracy: 0.9860 ± 0.0059\n",
      "CV val_f1: 0.9860 ± 0.0059\n"
     ]
    }
   ],
   "source": [
    "# Combine train and validation dataframes\n",
    "full_df = pd.concat([train_df, val_df], ignore_index=True)\n",
    "\n",
    "# Update class distribution in config\n",
    "CFG.class_distribution = full_df['label'].value_counts().tolist()\n",
    "\n",
    "# Train models\n",
    "yamnet_trainer = ModelTrainer('yamnet', CFG)\n",
    "yamnet_trainer.cross_validate(full_df)"
   ]
  },
  {
   "cell_type": "code",
   "execution_count": 33,
   "metadata": {
    "execution": {
     "iopub.execute_input": "2025-02-23T16:06:48.232817Z",
     "iopub.status.busy": "2025-02-23T16:06:48.232520Z",
     "iopub.status.idle": "2025-02-23T17:56:55.933869Z",
     "shell.execute_reply": "2025-02-23T17:56:55.932896Z",
     "shell.execute_reply.started": "2025-02-23T16:06:48.232793Z"
    },
    "trusted": true
   },
   "outputs": [
    {
     "name": "stderr",
     "output_type": "stream",
     "text": [
      "/usr/local/lib/python3.10/dist-packages/transformers/configuration_utils.py:311: UserWarning: Passing `gradient_checkpointing` to a config initialization is deprecated and will be removed in v5 Transformers. Using `model.gradient_checkpointing_enable()` instead, or if you are using the `Trainer` API, pass `gradient_checkpointing=True` in your `TrainingArguments`.\n",
      "  warnings.warn(\n"
     ]
    },
    {
     "name": "stdout",
     "output_type": "stream",
     "text": [
      "\n",
      "Fold 1/5\n",
      "Training on cuda\n",
      "\n",
      "Phase 1/3\n",
      "\n",
      "Epoch 1/3\n"
     ]
    },
    {
     "data": {
      "application/vnd.jupyter.widget-view+json": {
       "model_id": "8c1ec966bd4f46588958b559158a243a",
       "version_major": 2,
       "version_minor": 0
      },
      "text/plain": [
       "Training:   0%|          | 0/34 [00:00<?, ?it/s]"
      ]
     },
     "metadata": {},
     "output_type": "display_data"
    },
    {
     "data": {
      "application/vnd.jupyter.widget-view+json": {
       "model_id": "789d9a7874124baead2035b893c9405f",
       "version_major": 2,
       "version_minor": 0
      },
      "text/plain": [
       "Validation:   0%|          | 0/9 [00:00<?, ?it/s]"
      ]
     },
     "metadata": {},
     "output_type": "display_data"
    },
    {
     "name": "stdout",
     "output_type": "stream",
     "text": [
      "\n",
      "Epoch 1\n",
      "Train Loss: 0.4727, Val Loss: 0.1401\n",
      "Train Acc: 0.7976, Val Acc: 0.9412\n",
      "Train F1: 0.7947, Val F1: 0.9409\n",
      "\n",
      "Epoch 2/3\n"
     ]
    },
    {
     "data": {
      "application/vnd.jupyter.widget-view+json": {
       "model_id": "fcd1b641640b414eb166fff59d753af3",
       "version_major": 2,
       "version_minor": 0
      },
      "text/plain": [
       "Training:   0%|          | 0/34 [00:00<?, ?it/s]"
      ]
     },
     "metadata": {},
     "output_type": "display_data"
    },
    {
     "data": {
      "application/vnd.jupyter.widget-view+json": {
       "model_id": "ee49fbf36e9d4acdbc571ed368736928",
       "version_major": 2,
       "version_minor": 0
      },
      "text/plain": [
       "Validation:   0%|          | 0/9 [00:00<?, ?it/s]"
      ]
     },
     "metadata": {},
     "output_type": "display_data"
    },
    {
     "name": "stdout",
     "output_type": "stream",
     "text": [
      "\n",
      "Epoch 2\n",
      "Train Loss: 0.1270, Val Loss: 0.1257\n",
      "Train Acc: 0.9586, Val Acc: 0.9412\n",
      "Train F1: 0.9585, Val F1: 0.9407\n",
      "\n",
      "Epoch 3/3\n"
     ]
    },
    {
     "data": {
      "application/vnd.jupyter.widget-view+json": {
       "model_id": "f953227980654824812ae3419901ba18",
       "version_major": 2,
       "version_minor": 0
      },
      "text/plain": [
       "Training:   0%|          | 0/34 [00:00<?, ?it/s]"
      ]
     },
     "metadata": {},
     "output_type": "display_data"
    },
    {
     "data": {
      "application/vnd.jupyter.widget-view+json": {
       "model_id": "ef53cb22d5334366b386d5cd5923d60c",
       "version_major": 2,
       "version_minor": 0
      },
      "text/plain": [
       "Validation:   0%|          | 0/9 [00:00<?, ?it/s]"
      ]
     },
     "metadata": {},
     "output_type": "display_data"
    },
    {
     "name": "stdout",
     "output_type": "stream",
     "text": [
      "\n",
      "Epoch 3\n",
      "Train Loss: 0.1061, Val Loss: 0.1820\n",
      "Train Acc: 0.9614, Val Acc: 0.9265\n",
      "Train F1: 0.9612, Val F1: 0.9250\n",
      "\n",
      "Phase 2/3\n",
      "\n",
      "Epoch 1/3\n"
     ]
    },
    {
     "data": {
      "application/vnd.jupyter.widget-view+json": {
       "model_id": "799c87d8738144b4a3eafd816fd299b2",
       "version_major": 2,
       "version_minor": 0
      },
      "text/plain": [
       "Training:   0%|          | 0/34 [00:00<?, ?it/s]"
      ]
     },
     "metadata": {},
     "output_type": "display_data"
    },
    {
     "data": {
      "application/vnd.jupyter.widget-view+json": {
       "model_id": "ba3dacd550d54154b00ddc4f7c3b634f",
       "version_major": 2,
       "version_minor": 0
      },
      "text/plain": [
       "Validation:   0%|          | 0/9 [00:00<?, ?it/s]"
      ]
     },
     "metadata": {},
     "output_type": "display_data"
    },
    {
     "name": "stdout",
     "output_type": "stream",
     "text": [
      "\n",
      "Epoch 4\n",
      "Train Loss: 0.1192, Val Loss: 0.1302\n",
      "Train Acc: 0.9549, Val Acc: 0.9449\n",
      "Train F1: 0.9548, Val F1: 0.9442\n",
      "\n",
      "Epoch 2/3\n"
     ]
    },
    {
     "data": {
      "application/vnd.jupyter.widget-view+json": {
       "model_id": "ff5a2818341540fc9928c63b0cf5281d",
       "version_major": 2,
       "version_minor": 0
      },
      "text/plain": [
       "Training:   0%|          | 0/34 [00:00<?, ?it/s]"
      ]
     },
     "metadata": {},
     "output_type": "display_data"
    },
    {
     "data": {
      "application/vnd.jupyter.widget-view+json": {
       "model_id": "d75e1aadc04847caa07a7f119f10d38c",
       "version_major": 2,
       "version_minor": 0
      },
      "text/plain": [
       "Validation:   0%|          | 0/9 [00:00<?, ?it/s]"
      ]
     },
     "metadata": {},
     "output_type": "display_data"
    },
    {
     "name": "stdout",
     "output_type": "stream",
     "text": [
      "\n",
      "Epoch 5\n",
      "Train Loss: 0.0519, Val Loss: 0.0943\n",
      "Train Acc: 0.9825, Val Acc: 0.9596\n",
      "Train F1: 0.9825, Val F1: 0.9594\n",
      "\n",
      "Epoch 3/3\n"
     ]
    },
    {
     "data": {
      "application/vnd.jupyter.widget-view+json": {
       "model_id": "ac6455ca4e244c38aeb1423b798c5386",
       "version_major": 2,
       "version_minor": 0
      },
      "text/plain": [
       "Training:   0%|          | 0/34 [00:00<?, ?it/s]"
      ]
     },
     "metadata": {},
     "output_type": "display_data"
    },
    {
     "data": {
      "application/vnd.jupyter.widget-view+json": {
       "model_id": "c9c659ab5965477bb8d50f9e3aa6a733",
       "version_major": 2,
       "version_minor": 0
      },
      "text/plain": [
       "Validation:   0%|          | 0/9 [00:00<?, ?it/s]"
      ]
     },
     "metadata": {},
     "output_type": "display_data"
    },
    {
     "name": "stdout",
     "output_type": "stream",
     "text": [
      "\n",
      "Epoch 6\n",
      "Train Loss: 0.0446, Val Loss: 0.0499\n",
      "Train Acc: 0.9880, Val Acc: 0.9779\n",
      "Train F1: 0.9880, Val F1: 0.9779\n",
      "\n",
      "Phase 3/3\n",
      "\n",
      "Epoch 1/3\n"
     ]
    },
    {
     "data": {
      "application/vnd.jupyter.widget-view+json": {
       "model_id": "6dbf9d13de844ef7b08482ce641f91aa",
       "version_major": 2,
       "version_minor": 0
      },
      "text/plain": [
       "Training:   0%|          | 0/34 [00:00<?, ?it/s]"
      ]
     },
     "metadata": {},
     "output_type": "display_data"
    },
    {
     "data": {
      "application/vnd.jupyter.widget-view+json": {
       "model_id": "c61c239dd7db4c2890c6640ff34a304d",
       "version_major": 2,
       "version_minor": 0
      },
      "text/plain": [
       "Validation:   0%|          | 0/9 [00:00<?, ?it/s]"
      ]
     },
     "metadata": {},
     "output_type": "display_data"
    },
    {
     "name": "stdout",
     "output_type": "stream",
     "text": [
      "\n",
      "Epoch 7\n",
      "Train Loss: 0.0553, Val Loss: 0.0393\n",
      "Train Acc: 0.9779, Val Acc: 0.9926\n",
      "Train F1: 0.9779, Val F1: 0.9926\n",
      "\n",
      "Epoch 2/3\n"
     ]
    },
    {
     "data": {
      "application/vnd.jupyter.widget-view+json": {
       "model_id": "a6ed4ff06e45406dbf7ec45cc11cd805",
       "version_major": 2,
       "version_minor": 0
      },
      "text/plain": [
       "Training:   0%|          | 0/34 [00:00<?, ?it/s]"
      ]
     },
     "metadata": {},
     "output_type": "display_data"
    },
    {
     "data": {
      "application/vnd.jupyter.widget-view+json": {
       "model_id": "2b2c23e5c9b64a7795ddea3f18ca6303",
       "version_major": 2,
       "version_minor": 0
      },
      "text/plain": [
       "Validation:   0%|          | 0/9 [00:00<?, ?it/s]"
      ]
     },
     "metadata": {},
     "output_type": "display_data"
    },
    {
     "name": "stdout",
     "output_type": "stream",
     "text": [
      "\n",
      "Epoch 8\n",
      "Train Loss: 0.0300, Val Loss: 0.0460\n",
      "Train Acc: 0.9917, Val Acc: 0.9779\n",
      "Train F1: 0.9917, Val F1: 0.9779\n",
      "\n",
      "Epoch 3/3\n"
     ]
    },
    {
     "data": {
      "application/vnd.jupyter.widget-view+json": {
       "model_id": "05d7641fde4e48208467680ff17afd1f",
       "version_major": 2,
       "version_minor": 0
      },
      "text/plain": [
       "Training:   0%|          | 0/34 [00:00<?, ?it/s]"
      ]
     },
     "metadata": {},
     "output_type": "display_data"
    },
    {
     "data": {
      "application/vnd.jupyter.widget-view+json": {
       "model_id": "7c3d383339f24f2c9193adf40f3f61f3",
       "version_major": 2,
       "version_minor": 0
      },
      "text/plain": [
       "Validation:   0%|          | 0/9 [00:00<?, ?it/s]"
      ]
     },
     "metadata": {},
     "output_type": "display_data"
    },
    {
     "name": "stdout",
     "output_type": "stream",
     "text": [
      "\n",
      "Epoch 9\n",
      "Train Loss: 0.0230, Val Loss: 0.0204\n",
      "Train Acc: 0.9899, Val Acc: 0.9926\n",
      "Train F1: 0.9899, Val F1: 0.9926\n"
     ]
    },
    {
     "data": {
      "application/vnd.jupyter.widget-view+json": {
       "model_id": "10b7ee57cc6042559a75dd7fbef75a12",
       "version_major": 2,
       "version_minor": 0
      },
      "text/plain": [
       "Validation:   0%|          | 0/9 [00:00<?, ?it/s]"
      ]
     },
     "metadata": {},
     "output_type": "display_data"
    },
    {
     "name": "stdout",
     "output_type": "stream",
     "text": [
      "\n",
      "Fold 2/5\n"
     ]
    },
    {
     "name": "stderr",
     "output_type": "stream",
     "text": [
      "/usr/local/lib/python3.10/dist-packages/transformers/configuration_utils.py:311: UserWarning: Passing `gradient_checkpointing` to a config initialization is deprecated and will be removed in v5 Transformers. Using `model.gradient_checkpointing_enable()` instead, or if you are using the `Trainer` API, pass `gradient_checkpointing=True` in your `TrainingArguments`.\n",
      "  warnings.warn(\n"
     ]
    },
    {
     "name": "stdout",
     "output_type": "stream",
     "text": [
      "Training on cuda\n",
      "\n",
      "Phase 1/3\n",
      "\n",
      "Epoch 1/3\n"
     ]
    },
    {
     "data": {
      "application/vnd.jupyter.widget-view+json": {
       "model_id": "216a0754009a452f8944016d12c0edef",
       "version_major": 2,
       "version_minor": 0
      },
      "text/plain": [
       "Training:   0%|          | 0/34 [00:00<?, ?it/s]"
      ]
     },
     "metadata": {},
     "output_type": "display_data"
    },
    {
     "data": {
      "application/vnd.jupyter.widget-view+json": {
       "model_id": "9cd080d657c446a0a2875ae83a09e8bc",
       "version_major": 2,
       "version_minor": 0
      },
      "text/plain": [
       "Validation:   0%|          | 0/9 [00:00<?, ?it/s]"
      ]
     },
     "metadata": {},
     "output_type": "display_data"
    },
    {
     "name": "stdout",
     "output_type": "stream",
     "text": [
      "\n",
      "Epoch 1\n",
      "Train Loss: 0.3459, Val Loss: 0.1922\n",
      "Train Acc: 0.8574, Val Acc: 0.9191\n",
      "Train F1: 0.8559, Val F1: 0.9184\n",
      "\n",
      "Epoch 2/3\n"
     ]
    },
    {
     "data": {
      "application/vnd.jupyter.widget-view+json": {
       "model_id": "0e707f3afdd0492b89241845de81e603",
       "version_major": 2,
       "version_minor": 0
      },
      "text/plain": [
       "Training:   0%|          | 0/34 [00:00<?, ?it/s]"
      ]
     },
     "metadata": {},
     "output_type": "display_data"
    },
    {
     "data": {
      "application/vnd.jupyter.widget-view+json": {
       "model_id": "525c2ed578294ad8a41bcbd940ec8f80",
       "version_major": 2,
       "version_minor": 0
      },
      "text/plain": [
       "Validation:   0%|          | 0/9 [00:00<?, ?it/s]"
      ]
     },
     "metadata": {},
     "output_type": "display_data"
    },
    {
     "name": "stdout",
     "output_type": "stream",
     "text": [
      "\n",
      "Epoch 2\n",
      "Train Loss: 0.1294, Val Loss: 0.1970\n",
      "Train Acc: 0.9512, Val Acc: 0.9265\n",
      "Train F1: 0.9511, Val F1: 0.9257\n",
      "\n",
      "Epoch 3/3\n"
     ]
    },
    {
     "data": {
      "application/vnd.jupyter.widget-view+json": {
       "model_id": "9223154acc704175812729b66d09527b",
       "version_major": 2,
       "version_minor": 0
      },
      "text/plain": [
       "Training:   0%|          | 0/34 [00:00<?, ?it/s]"
      ]
     },
     "metadata": {},
     "output_type": "display_data"
    },
    {
     "data": {
      "application/vnd.jupyter.widget-view+json": {
       "model_id": "25567a05d56c4ccd86a137c06ee91eb3",
       "version_major": 2,
       "version_minor": 0
      },
      "text/plain": [
       "Validation:   0%|          | 0/9 [00:00<?, ?it/s]"
      ]
     },
     "metadata": {},
     "output_type": "display_data"
    },
    {
     "name": "stdout",
     "output_type": "stream",
     "text": [
      "\n",
      "Epoch 3\n",
      "Train Loss: 0.1048, Val Loss: 0.2240\n",
      "Train Acc: 0.9577, Val Acc: 0.9081\n",
      "Train F1: 0.9575, Val F1: 0.9068\n",
      "\n",
      "Phase 2/3\n",
      "\n",
      "Epoch 1/3\n"
     ]
    },
    {
     "data": {
      "application/vnd.jupyter.widget-view+json": {
       "model_id": "790bffe7336a4daa97776b241e78987b",
       "version_major": 2,
       "version_minor": 0
      },
      "text/plain": [
       "Training:   0%|          | 0/34 [00:00<?, ?it/s]"
      ]
     },
     "metadata": {},
     "output_type": "display_data"
    },
    {
     "data": {
      "application/vnd.jupyter.widget-view+json": {
       "model_id": "214e7f2980594d519ddf530b57eeaa54",
       "version_major": 2,
       "version_minor": 0
      },
      "text/plain": [
       "Validation:   0%|          | 0/9 [00:00<?, ?it/s]"
      ]
     },
     "metadata": {},
     "output_type": "display_data"
    },
    {
     "name": "stdout",
     "output_type": "stream",
     "text": [
      "\n",
      "Epoch 4\n",
      "Train Loss: 0.0935, Val Loss: 0.1659\n",
      "Train Acc: 0.9687, Val Acc: 0.9449\n",
      "Train F1: 0.9687, Val F1: 0.9447\n",
      "\n",
      "Epoch 2/3\n"
     ]
    },
    {
     "data": {
      "application/vnd.jupyter.widget-view+json": {
       "model_id": "2757efe3c8b3440d818828f72a03fc83",
       "version_major": 2,
       "version_minor": 0
      },
      "text/plain": [
       "Training:   0%|          | 0/34 [00:00<?, ?it/s]"
      ]
     },
     "metadata": {},
     "output_type": "display_data"
    },
    {
     "data": {
      "application/vnd.jupyter.widget-view+json": {
       "model_id": "8f9602183cab4d51b613575b7a7c8c5f",
       "version_major": 2,
       "version_minor": 0
      },
      "text/plain": [
       "Validation:   0%|          | 0/9 [00:00<?, ?it/s]"
      ]
     },
     "metadata": {},
     "output_type": "display_data"
    },
    {
     "name": "stdout",
     "output_type": "stream",
     "text": [
      "\n",
      "Epoch 5\n",
      "Train Loss: 0.0650, Val Loss: 0.2624\n",
      "Train Acc: 0.9724, Val Acc: 0.9081\n",
      "Train F1: 0.9723, Val F1: 0.9072\n",
      "\n",
      "Epoch 3/3\n"
     ]
    },
    {
     "data": {
      "application/vnd.jupyter.widget-view+json": {
       "model_id": "ca95374b5c284b66bc2ff38aa9808d66",
       "version_major": 2,
       "version_minor": 0
      },
      "text/plain": [
       "Training:   0%|          | 0/34 [00:00<?, ?it/s]"
      ]
     },
     "metadata": {},
     "output_type": "display_data"
    },
    {
     "data": {
      "application/vnd.jupyter.widget-view+json": {
       "model_id": "b4e0b46ad68845d0aedf170db7c12cd4",
       "version_major": 2,
       "version_minor": 0
      },
      "text/plain": [
       "Validation:   0%|          | 0/9 [00:00<?, ?it/s]"
      ]
     },
     "metadata": {},
     "output_type": "display_data"
    },
    {
     "name": "stdout",
     "output_type": "stream",
     "text": [
      "\n",
      "Epoch 6\n",
      "Train Loss: 0.0552, Val Loss: 0.1429\n",
      "Train Acc: 0.9807, Val Acc: 0.9596\n",
      "Train F1: 0.9807, Val F1: 0.9594\n",
      "\n",
      "Phase 3/3\n",
      "\n",
      "Epoch 1/3\n"
     ]
    },
    {
     "data": {
      "application/vnd.jupyter.widget-view+json": {
       "model_id": "298cd0da6d2a44b490bfec6d2d7f8a27",
       "version_major": 2,
       "version_minor": 0
      },
      "text/plain": [
       "Training:   0%|          | 0/34 [00:00<?, ?it/s]"
      ]
     },
     "metadata": {},
     "output_type": "display_data"
    },
    {
     "data": {
      "application/vnd.jupyter.widget-view+json": {
       "model_id": "2a69c9abe7fe4250acdeed4f702b9288",
       "version_major": 2,
       "version_minor": 0
      },
      "text/plain": [
       "Validation:   0%|          | 0/9 [00:00<?, ?it/s]"
      ]
     },
     "metadata": {},
     "output_type": "display_data"
    },
    {
     "name": "stdout",
     "output_type": "stream",
     "text": [
      "\n",
      "Epoch 7\n",
      "Train Loss: 0.0797, Val Loss: 0.2417\n",
      "Train Acc: 0.9696, Val Acc: 0.9375\n",
      "Train F1: 0.9696, Val F1: 0.9372\n",
      "\n",
      "Epoch 2/3\n"
     ]
    },
    {
     "data": {
      "application/vnd.jupyter.widget-view+json": {
       "model_id": "862f7648bd3a4d2388989caeb07866ce",
       "version_major": 2,
       "version_minor": 0
      },
      "text/plain": [
       "Training:   0%|          | 0/34 [00:00<?, ?it/s]"
      ]
     },
     "metadata": {},
     "output_type": "display_data"
    },
    {
     "data": {
      "application/vnd.jupyter.widget-view+json": {
       "model_id": "f7d74269c2284185a981b94afd918730",
       "version_major": 2,
       "version_minor": 0
      },
      "text/plain": [
       "Validation:   0%|          | 0/9 [00:00<?, ?it/s]"
      ]
     },
     "metadata": {},
     "output_type": "display_data"
    },
    {
     "name": "stdout",
     "output_type": "stream",
     "text": [
      "\n",
      "Epoch 8\n",
      "Train Loss: 0.0389, Val Loss: 0.3907\n",
      "Train Acc: 0.9862, Val Acc: 0.8824\n",
      "Train F1: 0.9862, Val F1: 0.8799\n",
      "\n",
      "Epoch 3/3\n"
     ]
    },
    {
     "data": {
      "application/vnd.jupyter.widget-view+json": {
       "model_id": "3806181a6a0044f7989267f03c0fc5b5",
       "version_major": 2,
       "version_minor": 0
      },
      "text/plain": [
       "Training:   0%|          | 0/34 [00:00<?, ?it/s]"
      ]
     },
     "metadata": {},
     "output_type": "display_data"
    },
    {
     "data": {
      "application/vnd.jupyter.widget-view+json": {
       "model_id": "b3feabcd10514115bdd8452726106466",
       "version_major": 2,
       "version_minor": 0
      },
      "text/plain": [
       "Validation:   0%|          | 0/9 [00:00<?, ?it/s]"
      ]
     },
     "metadata": {},
     "output_type": "display_data"
    },
    {
     "name": "stdout",
     "output_type": "stream",
     "text": [
      "\n",
      "Epoch 9\n",
      "Train Loss: 0.0294, Val Loss: 0.0949\n",
      "Train Acc: 0.9908, Val Acc: 0.9816\n",
      "Train F1: 0.9908, Val F1: 0.9816\n"
     ]
    },
    {
     "data": {
      "application/vnd.jupyter.widget-view+json": {
       "model_id": "57b01de7e4064bd098dc28c15a9349c3",
       "version_major": 2,
       "version_minor": 0
      },
      "text/plain": [
       "Validation:   0%|          | 0/9 [00:00<?, ?it/s]"
      ]
     },
     "metadata": {},
     "output_type": "display_data"
    },
    {
     "name": "stdout",
     "output_type": "stream",
     "text": [
      "\n",
      "Fold 3/5\n"
     ]
    },
    {
     "name": "stderr",
     "output_type": "stream",
     "text": [
      "/usr/local/lib/python3.10/dist-packages/transformers/configuration_utils.py:311: UserWarning: Passing `gradient_checkpointing` to a config initialization is deprecated and will be removed in v5 Transformers. Using `model.gradient_checkpointing_enable()` instead, or if you are using the `Trainer` API, pass `gradient_checkpointing=True` in your `TrainingArguments`.\n",
      "  warnings.warn(\n"
     ]
    },
    {
     "name": "stdout",
     "output_type": "stream",
     "text": [
      "Training on cuda\n",
      "\n",
      "Phase 1/3\n",
      "\n",
      "Epoch 1/3\n"
     ]
    },
    {
     "data": {
      "application/vnd.jupyter.widget-view+json": {
       "model_id": "8a705c58b5ea4bd8a9e46fc39332d99f",
       "version_major": 2,
       "version_minor": 0
      },
      "text/plain": [
       "Training:   0%|          | 0/34 [00:00<?, ?it/s]"
      ]
     },
     "metadata": {},
     "output_type": "display_data"
    },
    {
     "data": {
      "application/vnd.jupyter.widget-view+json": {
       "model_id": "e7a200ef53b94b19bcde46870c381ca4",
       "version_major": 2,
       "version_minor": 0
      },
      "text/plain": [
       "Validation:   0%|          | 0/9 [00:00<?, ?it/s]"
      ]
     },
     "metadata": {},
     "output_type": "display_data"
    },
    {
     "name": "stdout",
     "output_type": "stream",
     "text": [
      "\n",
      "Epoch 1\n",
      "Train Loss: 0.3406, Val Loss: 0.2244\n",
      "Train Acc: 0.8749, Val Acc: 0.8971\n",
      "Train F1: 0.8734, Val F1: 0.8961\n",
      "\n",
      "Epoch 2/3\n"
     ]
    },
    {
     "data": {
      "application/vnd.jupyter.widget-view+json": {
       "model_id": "16f7c2bcbb574f04926a8a21575f828a",
       "version_major": 2,
       "version_minor": 0
      },
      "text/plain": [
       "Training:   0%|          | 0/34 [00:00<?, ?it/s]"
      ]
     },
     "metadata": {},
     "output_type": "display_data"
    },
    {
     "data": {
      "application/vnd.jupyter.widget-view+json": {
       "model_id": "2b0ae8e1137646b593bad93fffee9fb0",
       "version_major": 2,
       "version_minor": 0
      },
      "text/plain": [
       "Validation:   0%|          | 0/9 [00:00<?, ?it/s]"
      ]
     },
     "metadata": {},
     "output_type": "display_data"
    },
    {
     "name": "stdout",
     "output_type": "stream",
     "text": [
      "\n",
      "Epoch 2\n",
      "Train Loss: 0.1077, Val Loss: 0.1769\n",
      "Train Acc: 0.9577, Val Acc: 0.9191\n",
      "Train F1: 0.9576, Val F1: 0.9186\n",
      "\n",
      "Epoch 3/3\n"
     ]
    },
    {
     "data": {
      "application/vnd.jupyter.widget-view+json": {
       "model_id": "86be144ee5724db2afabe3302e64a167",
       "version_major": 2,
       "version_minor": 0
      },
      "text/plain": [
       "Training:   0%|          | 0/34 [00:00<?, ?it/s]"
      ]
     },
     "metadata": {},
     "output_type": "display_data"
    },
    {
     "data": {
      "application/vnd.jupyter.widget-view+json": {
       "model_id": "8f7c2a7948af4e6dbf23c42a70aa71a8",
       "version_major": 2,
       "version_minor": 0
      },
      "text/plain": [
       "Validation:   0%|          | 0/9 [00:00<?, ?it/s]"
      ]
     },
     "metadata": {},
     "output_type": "display_data"
    },
    {
     "name": "stdout",
     "output_type": "stream",
     "text": [
      "\n",
      "Epoch 3\n",
      "Train Loss: 0.0868, Val Loss: 0.1668\n",
      "Train Acc: 0.9678, Val Acc: 0.9265\n",
      "Train F1: 0.9677, Val F1: 0.9261\n",
      "\n",
      "Phase 2/3\n",
      "\n",
      "Epoch 1/3\n"
     ]
    },
    {
     "data": {
      "application/vnd.jupyter.widget-view+json": {
       "model_id": "896d7cd8e1ee4f3699ac1c4c8e8be717",
       "version_major": 2,
       "version_minor": 0
      },
      "text/plain": [
       "Training:   0%|          | 0/34 [00:00<?, ?it/s]"
      ]
     },
     "metadata": {},
     "output_type": "display_data"
    },
    {
     "data": {
      "application/vnd.jupyter.widget-view+json": {
       "model_id": "d20b9f3739d34c16b276a9751aad7077",
       "version_major": 2,
       "version_minor": 0
      },
      "text/plain": [
       "Validation:   0%|          | 0/9 [00:00<?, ?it/s]"
      ]
     },
     "metadata": {},
     "output_type": "display_data"
    },
    {
     "name": "stdout",
     "output_type": "stream",
     "text": [
      "\n",
      "Epoch 4\n",
      "Train Loss: 0.0617, Val Loss: 0.1526\n",
      "Train Acc: 0.9807, Val Acc: 0.9338\n",
      "Train F1: 0.9806, Val F1: 0.9333\n",
      "\n",
      "Epoch 2/3\n"
     ]
    },
    {
     "data": {
      "application/vnd.jupyter.widget-view+json": {
       "model_id": "0d6a1da04dfe422ca606d4aebd9e169c",
       "version_major": 2,
       "version_minor": 0
      },
      "text/plain": [
       "Training:   0%|          | 0/34 [00:00<?, ?it/s]"
      ]
     },
     "metadata": {},
     "output_type": "display_data"
    },
    {
     "data": {
      "application/vnd.jupyter.widget-view+json": {
       "model_id": "7a28acbfdeeb43719b9e5d7608ed28d7",
       "version_major": 2,
       "version_minor": 0
      },
      "text/plain": [
       "Validation:   0%|          | 0/9 [00:00<?, ?it/s]"
      ]
     },
     "metadata": {},
     "output_type": "display_data"
    },
    {
     "name": "stdout",
     "output_type": "stream",
     "text": [
      "\n",
      "Epoch 5\n",
      "Train Loss: 0.0564, Val Loss: 0.1350\n",
      "Train Acc: 0.9770, Val Acc: 0.9485\n",
      "Train F1: 0.9770, Val F1: 0.9481\n",
      "\n",
      "Epoch 3/3\n"
     ]
    },
    {
     "data": {
      "application/vnd.jupyter.widget-view+json": {
       "model_id": "469f19c5489c43fd947870f18de4f95c",
       "version_major": 2,
       "version_minor": 0
      },
      "text/plain": [
       "Training:   0%|          | 0/34 [00:00<?, ?it/s]"
      ]
     },
     "metadata": {},
     "output_type": "display_data"
    },
    {
     "data": {
      "application/vnd.jupyter.widget-view+json": {
       "model_id": "4fa49c9ed9b44e958e3ae47d13ac8c9a",
       "version_major": 2,
       "version_minor": 0
      },
      "text/plain": [
       "Validation:   0%|          | 0/9 [00:00<?, ?it/s]"
      ]
     },
     "metadata": {},
     "output_type": "display_data"
    },
    {
     "name": "stdout",
     "output_type": "stream",
     "text": [
      "\n",
      "Epoch 6\n",
      "Train Loss: 0.0428, Val Loss: 0.1333\n",
      "Train Acc: 0.9880, Val Acc: 0.9559\n",
      "Train F1: 0.9880, Val F1: 0.9556\n",
      "\n",
      "Phase 3/3\n",
      "\n",
      "Epoch 1/3\n"
     ]
    },
    {
     "data": {
      "application/vnd.jupyter.widget-view+json": {
       "model_id": "c18d507f396047f3bed5a54a8a128206",
       "version_major": 2,
       "version_minor": 0
      },
      "text/plain": [
       "Training:   0%|          | 0/34 [00:00<?, ?it/s]"
      ]
     },
     "metadata": {},
     "output_type": "display_data"
    },
    {
     "data": {
      "application/vnd.jupyter.widget-view+json": {
       "model_id": "5ce8377d800e4f91ba168c433fe56ffd",
       "version_major": 2,
       "version_minor": 0
      },
      "text/plain": [
       "Validation:   0%|          | 0/9 [00:00<?, ?it/s]"
      ]
     },
     "metadata": {},
     "output_type": "display_data"
    },
    {
     "name": "stdout",
     "output_type": "stream",
     "text": [
      "\n",
      "Epoch 7\n",
      "Train Loss: 0.0392, Val Loss: 0.1595\n",
      "Train Acc: 0.9871, Val Acc: 0.9522\n",
      "Train F1: 0.9871, Val F1: 0.9518\n",
      "\n",
      "Epoch 2/3\n"
     ]
    },
    {
     "data": {
      "application/vnd.jupyter.widget-view+json": {
       "model_id": "3fdf3535930a4da9b453dbb4e5c41b68",
       "version_major": 2,
       "version_minor": 0
      },
      "text/plain": [
       "Training:   0%|          | 0/34 [00:00<?, ?it/s]"
      ]
     },
     "metadata": {},
     "output_type": "display_data"
    },
    {
     "data": {
      "application/vnd.jupyter.widget-view+json": {
       "model_id": "5f73db25d27e46dc96c996853b5cc1ac",
       "version_major": 2,
       "version_minor": 0
      },
      "text/plain": [
       "Validation:   0%|          | 0/9 [00:00<?, ?it/s]"
      ]
     },
     "metadata": {},
     "output_type": "display_data"
    },
    {
     "name": "stdout",
     "output_type": "stream",
     "text": [
      "\n",
      "Epoch 8\n",
      "Train Loss: 0.0183, Val Loss: 0.1317\n",
      "Train Acc: 0.9945, Val Acc: 0.9522\n",
      "Train F1: 0.9945, Val F1: 0.9518\n",
      "\n",
      "Epoch 3/3\n"
     ]
    },
    {
     "data": {
      "application/vnd.jupyter.widget-view+json": {
       "model_id": "907b3fc148a8450b9819d83b59a618b1",
       "version_major": 2,
       "version_minor": 0
      },
      "text/plain": [
       "Training:   0%|          | 0/34 [00:00<?, ?it/s]"
      ]
     },
     "metadata": {},
     "output_type": "display_data"
    },
    {
     "data": {
      "application/vnd.jupyter.widget-view+json": {
       "model_id": "5f357b5d9e114615bd3e97c20abd8d98",
       "version_major": 2,
       "version_minor": 0
      },
      "text/plain": [
       "Validation:   0%|          | 0/9 [00:00<?, ?it/s]"
      ]
     },
     "metadata": {},
     "output_type": "display_data"
    },
    {
     "name": "stdout",
     "output_type": "stream",
     "text": [
      "\n",
      "Epoch 9\n",
      "Train Loss: 0.0207, Val Loss: 0.1456\n",
      "Train Acc: 0.9917, Val Acc: 0.9485\n",
      "Train F1: 0.9917, Val F1: 0.9481\n"
     ]
    },
    {
     "data": {
      "application/vnd.jupyter.widget-view+json": {
       "model_id": "050f2bfac1374f3aa92b744b2dac67f8",
       "version_major": 2,
       "version_minor": 0
      },
      "text/plain": [
       "Validation:   0%|          | 0/9 [00:00<?, ?it/s]"
      ]
     },
     "metadata": {},
     "output_type": "display_data"
    },
    {
     "name": "stdout",
     "output_type": "stream",
     "text": [
      "\n",
      "Fold 4/5\n"
     ]
    },
    {
     "name": "stderr",
     "output_type": "stream",
     "text": [
      "/usr/local/lib/python3.10/dist-packages/transformers/configuration_utils.py:311: UserWarning: Passing `gradient_checkpointing` to a config initialization is deprecated and will be removed in v5 Transformers. Using `model.gradient_checkpointing_enable()` instead, or if you are using the `Trainer` API, pass `gradient_checkpointing=True` in your `TrainingArguments`.\n",
      "  warnings.warn(\n"
     ]
    },
    {
     "name": "stdout",
     "output_type": "stream",
     "text": [
      "Training on cuda\n",
      "\n",
      "Phase 1/3\n",
      "\n",
      "Epoch 1/3\n"
     ]
    },
    {
     "data": {
      "application/vnd.jupyter.widget-view+json": {
       "model_id": "1580fcb5d6fc45b791c10854be8fae3c",
       "version_major": 2,
       "version_minor": 0
      },
      "text/plain": [
       "Training:   0%|          | 0/34 [00:00<?, ?it/s]"
      ]
     },
     "metadata": {},
     "output_type": "display_data"
    },
    {
     "data": {
      "application/vnd.jupyter.widget-view+json": {
       "model_id": "9d8ccf816246443984fadbcd63861596",
       "version_major": 2,
       "version_minor": 0
      },
      "text/plain": [
       "Validation:   0%|          | 0/9 [00:00<?, ?it/s]"
      ]
     },
     "metadata": {},
     "output_type": "display_data"
    },
    {
     "name": "stdout",
     "output_type": "stream",
     "text": [
      "\n",
      "Epoch 1\n",
      "Train Loss: 0.3443, Val Loss: 0.2271\n",
      "Train Acc: 0.8712, Val Acc: 0.9191\n",
      "Train F1: 0.8703, Val F1: 0.9178\n",
      "\n",
      "Epoch 2/3\n"
     ]
    },
    {
     "data": {
      "application/vnd.jupyter.widget-view+json": {
       "model_id": "ed8018a895dd433bbd5ddb78d305e4ea",
       "version_major": 2,
       "version_minor": 0
      },
      "text/plain": [
       "Training:   0%|          | 0/34 [00:00<?, ?it/s]"
      ]
     },
     "metadata": {},
     "output_type": "display_data"
    },
    {
     "data": {
      "application/vnd.jupyter.widget-view+json": {
       "model_id": "9da772e271a244e6b215c090d6f331ec",
       "version_major": 2,
       "version_minor": 0
      },
      "text/plain": [
       "Validation:   0%|          | 0/9 [00:00<?, ?it/s]"
      ]
     },
     "metadata": {},
     "output_type": "display_data"
    },
    {
     "name": "stdout",
     "output_type": "stream",
     "text": [
      "\n",
      "Epoch 2\n",
      "Train Loss: 0.1267, Val Loss: 0.2076\n",
      "Train Acc: 0.9531, Val Acc: 0.9265\n",
      "Train F1: 0.9528, Val F1: 0.9249\n",
      "\n",
      "Epoch 3/3\n"
     ]
    },
    {
     "data": {
      "application/vnd.jupyter.widget-view+json": {
       "model_id": "4786885761e74a32868de8f772b93665",
       "version_major": 2,
       "version_minor": 0
      },
      "text/plain": [
       "Training:   0%|          | 0/34 [00:00<?, ?it/s]"
      ]
     },
     "metadata": {},
     "output_type": "display_data"
    },
    {
     "data": {
      "application/vnd.jupyter.widget-view+json": {
       "model_id": "3a66554583794973b13e6f9b93971759",
       "version_major": 2,
       "version_minor": 0
      },
      "text/plain": [
       "Validation:   0%|          | 0/9 [00:00<?, ?it/s]"
      ]
     },
     "metadata": {},
     "output_type": "display_data"
    },
    {
     "name": "stdout",
     "output_type": "stream",
     "text": [
      "\n",
      "Epoch 3\n",
      "Train Loss: 0.0903, Val Loss: 0.2421\n",
      "Train Acc: 0.9660, Val Acc: 0.9044\n",
      "Train F1: 0.9659, Val F1: 0.9003\n",
      "\n",
      "Phase 2/3\n",
      "\n",
      "Epoch 1/3\n"
     ]
    },
    {
     "data": {
      "application/vnd.jupyter.widget-view+json": {
       "model_id": "ecae3b75ec864df19456ebadcf2aea80",
       "version_major": 2,
       "version_minor": 0
      },
      "text/plain": [
       "Training:   0%|          | 0/34 [00:00<?, ?it/s]"
      ]
     },
     "metadata": {},
     "output_type": "display_data"
    },
    {
     "data": {
      "application/vnd.jupyter.widget-view+json": {
       "model_id": "e43b61b8219d43dd99b5fa7773b7598c",
       "version_major": 2,
       "version_minor": 0
      },
      "text/plain": [
       "Validation:   0%|          | 0/9 [00:00<?, ?it/s]"
      ]
     },
     "metadata": {},
     "output_type": "display_data"
    },
    {
     "name": "stdout",
     "output_type": "stream",
     "text": [
      "\n",
      "Epoch 4\n",
      "Train Loss: 0.0723, Val Loss: 0.1407\n",
      "Train Acc: 0.9715, Val Acc: 0.9485\n",
      "Train F1: 0.9714, Val F1: 0.9479\n",
      "\n",
      "Epoch 2/3\n"
     ]
    },
    {
     "data": {
      "application/vnd.jupyter.widget-view+json": {
       "model_id": "0296ce823a20419dbfe75ca6efbdec01",
       "version_major": 2,
       "version_minor": 0
      },
      "text/plain": [
       "Training:   0%|          | 0/34 [00:00<?, ?it/s]"
      ]
     },
     "metadata": {},
     "output_type": "display_data"
    },
    {
     "data": {
      "application/vnd.jupyter.widget-view+json": {
       "model_id": "779d244758dd419f81efb9bcedd645c6",
       "version_major": 2,
       "version_minor": 0
      },
      "text/plain": [
       "Validation:   0%|          | 0/9 [00:00<?, ?it/s]"
      ]
     },
     "metadata": {},
     "output_type": "display_data"
    },
    {
     "name": "stdout",
     "output_type": "stream",
     "text": [
      "\n",
      "Epoch 5\n",
      "Train Loss: 0.0563, Val Loss: 0.1535\n",
      "Train Acc: 0.9752, Val Acc: 0.9485\n",
      "Train F1: 0.9752, Val F1: 0.9477\n",
      "\n",
      "Epoch 3/3\n"
     ]
    },
    {
     "data": {
      "application/vnd.jupyter.widget-view+json": {
       "model_id": "1135646e97694c0293a273ce062a3205",
       "version_major": 2,
       "version_minor": 0
      },
      "text/plain": [
       "Training:   0%|          | 0/34 [00:00<?, ?it/s]"
      ]
     },
     "metadata": {},
     "output_type": "display_data"
    },
    {
     "data": {
      "application/vnd.jupyter.widget-view+json": {
       "model_id": "8227f8521ab248dfb986e9de20350095",
       "version_major": 2,
       "version_minor": 0
      },
      "text/plain": [
       "Validation:   0%|          | 0/9 [00:00<?, ?it/s]"
      ]
     },
     "metadata": {},
     "output_type": "display_data"
    },
    {
     "name": "stdout",
     "output_type": "stream",
     "text": [
      "\n",
      "Epoch 6\n",
      "Train Loss: 0.0405, Val Loss: 0.2052\n",
      "Train Acc: 0.9844, Val Acc: 0.9375\n",
      "Train F1: 0.9844, Val F1: 0.9355\n",
      "\n",
      "Phase 3/3\n",
      "\n",
      "Epoch 1/3\n"
     ]
    },
    {
     "data": {
      "application/vnd.jupyter.widget-view+json": {
       "model_id": "06c7de8e5a694b03bc43e7ba6e0a7d53",
       "version_major": 2,
       "version_minor": 0
      },
      "text/plain": [
       "Training:   0%|          | 0/34 [00:00<?, ?it/s]"
      ]
     },
     "metadata": {},
     "output_type": "display_data"
    },
    {
     "data": {
      "application/vnd.jupyter.widget-view+json": {
       "model_id": "2d0f94ae3e8b452c8bf3f6f13354ee68",
       "version_major": 2,
       "version_minor": 0
      },
      "text/plain": [
       "Validation:   0%|          | 0/9 [00:00<?, ?it/s]"
      ]
     },
     "metadata": {},
     "output_type": "display_data"
    },
    {
     "name": "stdout",
     "output_type": "stream",
     "text": [
      "\n",
      "Epoch 7\n",
      "Train Loss: 0.0341, Val Loss: 0.3129\n",
      "Train Acc: 0.9880, Val Acc: 0.9338\n",
      "Train F1: 0.9880, Val F1: 0.9318\n",
      "\n",
      "Epoch 2/3\n"
     ]
    },
    {
     "data": {
      "application/vnd.jupyter.widget-view+json": {
       "model_id": "b04782a92f3143e986ac699f9477eae0",
       "version_major": 2,
       "version_minor": 0
      },
      "text/plain": [
       "Training:   0%|          | 0/34 [00:00<?, ?it/s]"
      ]
     },
     "metadata": {},
     "output_type": "display_data"
    },
    {
     "data": {
      "application/vnd.jupyter.widget-view+json": {
       "model_id": "2f548a90dff4414492d891cd2690bee8",
       "version_major": 2,
       "version_minor": 0
      },
      "text/plain": [
       "Validation:   0%|          | 0/9 [00:00<?, ?it/s]"
      ]
     },
     "metadata": {},
     "output_type": "display_data"
    },
    {
     "name": "stdout",
     "output_type": "stream",
     "text": [
      "\n",
      "Epoch 8\n",
      "Train Loss: 0.0315, Val Loss: 0.1806\n",
      "Train Acc: 0.9871, Val Acc: 0.9559\n",
      "Train F1: 0.9871, Val F1: 0.9555\n",
      "\n",
      "Epoch 3/3\n"
     ]
    },
    {
     "data": {
      "application/vnd.jupyter.widget-view+json": {
       "model_id": "7a02bd7d4c8646a687c94566386bce1b",
       "version_major": 2,
       "version_minor": 0
      },
      "text/plain": [
       "Training:   0%|          | 0/34 [00:00<?, ?it/s]"
      ]
     },
     "metadata": {},
     "output_type": "display_data"
    },
    {
     "data": {
      "application/vnd.jupyter.widget-view+json": {
       "model_id": "249df4660652495fa19830f3d20f3093",
       "version_major": 2,
       "version_minor": 0
      },
      "text/plain": [
       "Validation:   0%|          | 0/9 [00:00<?, ?it/s]"
      ]
     },
     "metadata": {},
     "output_type": "display_data"
    },
    {
     "name": "stdout",
     "output_type": "stream",
     "text": [
      "\n",
      "Epoch 9\n",
      "Train Loss: 0.0215, Val Loss: 0.1343\n",
      "Train Acc: 0.9917, Val Acc: 0.9743\n",
      "Train F1: 0.9917, Val F1: 0.9741\n"
     ]
    },
    {
     "data": {
      "application/vnd.jupyter.widget-view+json": {
       "model_id": "816b0bd0110d49e3a844213263aaa356",
       "version_major": 2,
       "version_minor": 0
      },
      "text/plain": [
       "Validation:   0%|          | 0/9 [00:00<?, ?it/s]"
      ]
     },
     "metadata": {},
     "output_type": "display_data"
    },
    {
     "name": "stdout",
     "output_type": "stream",
     "text": [
      "\n",
      "Fold 5/5\n"
     ]
    },
    {
     "name": "stderr",
     "output_type": "stream",
     "text": [
      "/usr/local/lib/python3.10/dist-packages/transformers/configuration_utils.py:311: UserWarning: Passing `gradient_checkpointing` to a config initialization is deprecated and will be removed in v5 Transformers. Using `model.gradient_checkpointing_enable()` instead, or if you are using the `Trainer` API, pass `gradient_checkpointing=True` in your `TrainingArguments`.\n",
      "  warnings.warn(\n"
     ]
    },
    {
     "name": "stdout",
     "output_type": "stream",
     "text": [
      "Training on cuda\n",
      "\n",
      "Phase 1/3\n",
      "\n",
      "Epoch 1/3\n"
     ]
    },
    {
     "data": {
      "application/vnd.jupyter.widget-view+json": {
       "model_id": "a870f2c14db343aeb72c139f90b0c0d5",
       "version_major": 2,
       "version_minor": 0
      },
      "text/plain": [
       "Training:   0%|          | 0/34 [00:00<?, ?it/s]"
      ]
     },
     "metadata": {},
     "output_type": "display_data"
    },
    {
     "data": {
      "application/vnd.jupyter.widget-view+json": {
       "model_id": "602ac9a85e734fdbb3a1f6eabe3dd5bd",
       "version_major": 2,
       "version_minor": 0
      },
      "text/plain": [
       "Validation:   0%|          | 0/9 [00:00<?, ?it/s]"
      ]
     },
     "metadata": {},
     "output_type": "display_data"
    },
    {
     "name": "stdout",
     "output_type": "stream",
     "text": [
      "\n",
      "Epoch 1\n",
      "Train Loss: 0.4104, Val Loss: 0.1767\n",
      "Train Acc: 0.8401, Val Acc: 0.9483\n",
      "Train F1: 0.8391, Val F1: 0.9478\n",
      "\n",
      "Epoch 2/3\n"
     ]
    },
    {
     "data": {
      "application/vnd.jupyter.widget-view+json": {
       "model_id": "6127d71e538043d88d3079f0b6423aba",
       "version_major": 2,
       "version_minor": 0
      },
      "text/plain": [
       "Training:   0%|          | 0/34 [00:00<?, ?it/s]"
      ]
     },
     "metadata": {},
     "output_type": "display_data"
    },
    {
     "data": {
      "application/vnd.jupyter.widget-view+json": {
       "model_id": "dc22ce384ee54dcdbfd93a9029b604c8",
       "version_major": 2,
       "version_minor": 0
      },
      "text/plain": [
       "Validation:   0%|          | 0/9 [00:00<?, ?it/s]"
      ]
     },
     "metadata": {},
     "output_type": "display_data"
    },
    {
     "name": "stdout",
     "output_type": "stream",
     "text": [
      "\n",
      "Epoch 2\n",
      "Train Loss: 0.1369, Val Loss: 0.1230\n",
      "Train Acc: 0.9540, Val Acc: 0.9483\n",
      "Train F1: 0.9539, Val F1: 0.9480\n",
      "\n",
      "Epoch 3/3\n"
     ]
    },
    {
     "data": {
      "application/vnd.jupyter.widget-view+json": {
       "model_id": "954f20c8e1824fad8a578459727856d4",
       "version_major": 2,
       "version_minor": 0
      },
      "text/plain": [
       "Training:   0%|          | 0/34 [00:00<?, ?it/s]"
      ]
     },
     "metadata": {},
     "output_type": "display_data"
    },
    {
     "data": {
      "application/vnd.jupyter.widget-view+json": {
       "model_id": "14bb334ba9fa46fb9013e0c8d4457986",
       "version_major": 2,
       "version_minor": 0
      },
      "text/plain": [
       "Validation:   0%|          | 0/9 [00:00<?, ?it/s]"
      ]
     },
     "metadata": {},
     "output_type": "display_data"
    },
    {
     "name": "stdout",
     "output_type": "stream",
     "text": [
      "\n",
      "Epoch 3\n",
      "Train Loss: 0.1012, Val Loss: 0.1171\n",
      "Train Acc: 0.9642, Val Acc: 0.9483\n",
      "Train F1: 0.9641, Val F1: 0.9480\n",
      "\n",
      "Phase 2/3\n",
      "\n",
      "Epoch 1/3\n"
     ]
    },
    {
     "data": {
      "application/vnd.jupyter.widget-view+json": {
       "model_id": "98b156c7ff7745f39cc402d706d28b3e",
       "version_major": 2,
       "version_minor": 0
      },
      "text/plain": [
       "Training:   0%|          | 0/34 [00:00<?, ?it/s]"
      ]
     },
     "metadata": {},
     "output_type": "display_data"
    },
    {
     "data": {
      "application/vnd.jupyter.widget-view+json": {
       "model_id": "3f9ac3fa072b4c09a520bc1b7d7278f9",
       "version_major": 2,
       "version_minor": 0
      },
      "text/plain": [
       "Validation:   0%|          | 0/9 [00:00<?, ?it/s]"
      ]
     },
     "metadata": {},
     "output_type": "display_data"
    },
    {
     "name": "stdout",
     "output_type": "stream",
     "text": [
      "\n",
      "Epoch 4\n",
      "Train Loss: 0.0879, Val Loss: 0.0924\n",
      "Train Acc: 0.9669, Val Acc: 0.9594\n",
      "Train F1: 0.9668, Val F1: 0.9592\n",
      "\n",
      "Epoch 2/3\n"
     ]
    },
    {
     "data": {
      "application/vnd.jupyter.widget-view+json": {
       "model_id": "e3347d61be0c4aadb2a038803697a69e",
       "version_major": 2,
       "version_minor": 0
      },
      "text/plain": [
       "Training:   0%|          | 0/34 [00:00<?, ?it/s]"
      ]
     },
     "metadata": {},
     "output_type": "display_data"
    },
    {
     "data": {
      "application/vnd.jupyter.widget-view+json": {
       "model_id": "3d34118eb4e6416c93af55898478b57a",
       "version_major": 2,
       "version_minor": 0
      },
      "text/plain": [
       "Validation:   0%|          | 0/9 [00:00<?, ?it/s]"
      ]
     },
     "metadata": {},
     "output_type": "display_data"
    },
    {
     "name": "stdout",
     "output_type": "stream",
     "text": [
      "\n",
      "Epoch 5\n",
      "Train Loss: 0.0494, Val Loss: 0.1199\n",
      "Train Acc: 0.9835, Val Acc: 0.9446\n",
      "Train F1: 0.9835, Val F1: 0.9442\n",
      "\n",
      "Epoch 3/3\n"
     ]
    },
    {
     "data": {
      "application/vnd.jupyter.widget-view+json": {
       "model_id": "645239514cc7404ab2c56caaad830ac6",
       "version_major": 2,
       "version_minor": 0
      },
      "text/plain": [
       "Training:   0%|          | 0/34 [00:00<?, ?it/s]"
      ]
     },
     "metadata": {},
     "output_type": "display_data"
    },
    {
     "data": {
      "application/vnd.jupyter.widget-view+json": {
       "model_id": "350a7cc13daa4e8487f5024dcd31f2da",
       "version_major": 2,
       "version_minor": 0
      },
      "text/plain": [
       "Validation:   0%|          | 0/9 [00:00<?, ?it/s]"
      ]
     },
     "metadata": {},
     "output_type": "display_data"
    },
    {
     "name": "stdout",
     "output_type": "stream",
     "text": [
      "\n",
      "Epoch 6\n",
      "Train Loss: 0.0458, Val Loss: 0.2402\n",
      "Train Acc: 0.9844, Val Acc: 0.9299\n",
      "Train F1: 0.9844, Val F1: 0.9291\n",
      "\n",
      "Phase 3/3\n",
      "\n",
      "Epoch 1/3\n"
     ]
    },
    {
     "data": {
      "application/vnd.jupyter.widget-view+json": {
       "model_id": "cf7d9c3c4c1b4af183a2709bb9fc32a5",
       "version_major": 2,
       "version_minor": 0
      },
      "text/plain": [
       "Training:   0%|          | 0/34 [00:00<?, ?it/s]"
      ]
     },
     "metadata": {},
     "output_type": "display_data"
    },
    {
     "data": {
      "application/vnd.jupyter.widget-view+json": {
       "model_id": "0b353d86433b4c60b30ebc87d7856584",
       "version_major": 2,
       "version_minor": 0
      },
      "text/plain": [
       "Validation:   0%|          | 0/9 [00:00<?, ?it/s]"
      ]
     },
     "metadata": {},
     "output_type": "display_data"
    },
    {
     "name": "stdout",
     "output_type": "stream",
     "text": [
      "\n",
      "Epoch 7\n",
      "Train Loss: 0.0503, Val Loss: 0.1941\n",
      "Train Acc: 0.9816, Val Acc: 0.9373\n",
      "Train F1: 0.9816, Val F1: 0.9359\n",
      "\n",
      "Epoch 2/3\n"
     ]
    },
    {
     "data": {
      "application/vnd.jupyter.widget-view+json": {
       "model_id": "6152611e1de340928cdfe2bb7112bb2d",
       "version_major": 2,
       "version_minor": 0
      },
      "text/plain": [
       "Training:   0%|          | 0/34 [00:00<?, ?it/s]"
      ]
     },
     "metadata": {},
     "output_type": "display_data"
    },
    {
     "data": {
      "application/vnd.jupyter.widget-view+json": {
       "model_id": "55885b26c96c4e9ca6b80f345dfa1205",
       "version_major": 2,
       "version_minor": 0
      },
      "text/plain": [
       "Validation:   0%|          | 0/9 [00:00<?, ?it/s]"
      ]
     },
     "metadata": {},
     "output_type": "display_data"
    },
    {
     "name": "stdout",
     "output_type": "stream",
     "text": [
      "\n",
      "Epoch 8\n",
      "Train Loss: 0.0360, Val Loss: 0.2240\n",
      "Train Acc: 0.9899, Val Acc: 0.9410\n",
      "Train F1: 0.9899, Val F1: 0.9399\n",
      "\n",
      "Epoch 3/3\n"
     ]
    },
    {
     "data": {
      "application/vnd.jupyter.widget-view+json": {
       "model_id": "40b753d56ecc4d21afc022efda1549c2",
       "version_major": 2,
       "version_minor": 0
      },
      "text/plain": [
       "Training:   0%|          | 0/34 [00:00<?, ?it/s]"
      ]
     },
     "metadata": {},
     "output_type": "display_data"
    },
    {
     "data": {
      "application/vnd.jupyter.widget-view+json": {
       "model_id": "fd0ec985f33a4978a6c519b31dc4ee01",
       "version_major": 2,
       "version_minor": 0
      },
      "text/plain": [
       "Validation:   0%|          | 0/9 [00:00<?, ?it/s]"
      ]
     },
     "metadata": {},
     "output_type": "display_data"
    },
    {
     "name": "stdout",
     "output_type": "stream",
     "text": [
      "\n",
      "Epoch 9\n",
      "Train Loss: 0.0281, Val Loss: 0.0904\n",
      "Train Acc: 0.9917, Val Acc: 0.9631\n",
      "Train F1: 0.9917, Val F1: 0.9629\n"
     ]
    },
    {
     "data": {
      "application/vnd.jupyter.widget-view+json": {
       "model_id": "724f9088a5b1442a8b0fa0609acceb50",
       "version_major": 2,
       "version_minor": 0
      },
      "text/plain": [
       "Validation:   0%|          | 0/9 [00:00<?, ?it/s]"
      ]
     },
     "metadata": {},
     "output_type": "display_data"
    },
    {
     "name": "stdout",
     "output_type": "stream",
     "text": [
      "CV val_loss: 0.0943 ± 0.0412\n",
      "CV val_accuracy: 0.9728 ± 0.0141\n",
      "CV val_f1: 0.9726 ± 0.0142\n"
     ]
    }
   ],
   "source": [
    "wav2vec_trainer = ModelTrainer('wav2vec2', CFG)\n",
    "wav2vec_trainer.cross_validate(full_df)"
   ]
  },
  {
   "cell_type": "markdown",
   "metadata": {},
   "source": [
    "## Ensemble model"
   ]
  },
  {
   "cell_type": "code",
   "execution_count": 38,
   "metadata": {
    "execution": {
     "iopub.execute_input": "2025-02-23T19:13:46.893697Z",
     "iopub.status.busy": "2025-02-23T19:13:46.893307Z",
     "iopub.status.idle": "2025-02-23T19:14:54.074668Z",
     "shell.execute_reply": "2025-02-23T19:14:54.073634Z",
     "shell.execute_reply.started": "2025-02-23T19:13:46.893665Z"
    },
    "trusted": true
   },
   "outputs": [
    {
     "name": "stderr",
     "output_type": "stream",
     "text": [
      "<ipython-input-38-055102efae2c>:16: FutureWarning: You are using `torch.load` with `weights_only=False` (the current default value), which uses the default pickle module implicitly. It is possible to construct malicious pickle data which will execute arbitrary code during unpickling (See https://github.com/pytorch/pytorch/blob/main/SECURITY.md#untrusted-models for more details). In a future release, the default value for `weights_only` will be flipped to `True`. This limits the functions that could be executed during unpickling. Arbitrary objects will no longer be allowed to be loaded via this mode unless they are explicitly allowlisted by the user via `torch.serialization.add_safe_globals`. We recommend you start setting `weights_only=True` for any use case where you don't have full control of the loaded file. Please open an issue on GitHub for any issues related to this experimental feature.\n",
      "  checkpoint = torch.load(path, map_location=cfg.device)\n",
      "<ipython-input-38-055102efae2c>:24: FutureWarning: You are using `torch.load` with `weights_only=False` (the current default value), which uses the default pickle module implicitly. It is possible to construct malicious pickle data which will execute arbitrary code during unpickling (See https://github.com/pytorch/pytorch/blob/main/SECURITY.md#untrusted-models for more details). In a future release, the default value for `weights_only` will be flipped to `True`. This limits the functions that could be executed during unpickling. Arbitrary objects will no longer be allowed to be loaded via this mode unless they are explicitly allowlisted by the user via `torch.serialization.add_safe_globals`. We recommend you start setting `weights_only=True` for any use case where you don't have full control of the loaded file. Please open an issue on GitHub for any issues related to this experimental feature.\n",
      "  checkpoint = torch.load(path, map_location=cfg.device)\n"
     ]
    },
    {
     "data": {
      "application/vnd.jupyter.widget-view+json": {
       "model_id": "75accc756ad14253980a4331be82b214",
       "version_major": 2,
       "version_minor": 0
      },
      "text/plain": [
       "Evaluating Models: 0it [00:00, ?it/s]"
      ]
     },
     "metadata": {},
     "output_type": "display_data"
    },
    {
     "name": "stdout",
     "output_type": "stream",
     "text": [
      "\n",
      "Model Performance Comparison:\n",
      "\n",
      "YAMNET METRICS:\n",
      "Accuracy: 0.9875\n",
      "Precision: 0.9877\n",
      "Recall: 0.9875\n",
      "F1 Score: 0.9875\n",
      "\n",
      "Classification Report:\n",
      "              precision    recall  f1-score   support\n",
      "\n",
      "           0       0.97      1.00      0.99        77\n",
      "           1       0.99      0.98      0.98        83\n",
      "           2       1.00      0.99      0.99        80\n",
      "\n",
      "    accuracy                           0.99       240\n",
      "   macro avg       0.99      0.99      0.99       240\n",
      "weighted avg       0.99      0.99      0.99       240\n",
      "\n",
      "\n",
      "WAV2VEC2 METRICS:\n",
      "Accuracy: 0.9875\n",
      "Precision: 0.9876\n",
      "Recall: 0.9875\n",
      "F1 Score: 0.9875\n",
      "\n",
      "Classification Report:\n",
      "              precision    recall  f1-score   support\n",
      "\n",
      "           0       0.97      0.99      0.98        77\n",
      "           1       0.99      0.98      0.98        83\n",
      "           2       1.00      1.00      1.00        80\n",
      "\n",
      "    accuracy                           0.99       240\n",
      "   macro avg       0.99      0.99      0.99       240\n",
      "weighted avg       0.99      0.99      0.99       240\n",
      "\n",
      "\n",
      "ENSEMBLE METRICS:\n",
      "Accuracy: 0.9917\n",
      "Precision: 0.9919\n",
      "Recall: 0.9917\n",
      "F1 Score: 0.9917\n",
      "\n",
      "Classification Report:\n",
      "              precision    recall  f1-score   support\n",
      "\n",
      "           0       0.97      1.00      0.99        77\n",
      "           1       1.00      0.98      0.99        83\n",
      "           2       1.00      1.00      1.00        80\n",
      "\n",
      "    accuracy                           0.99       240\n",
      "   macro avg       0.99      0.99      0.99       240\n",
      "weighted avg       0.99      0.99      0.99       240\n",
      "\n"
     ]
    }
   ],
   "source": [
    "from sklearn.metrics import (\n",
    "    accuracy_score, precision_score, recall_score, f1_score,\n",
    "    confusion_matrix, roc_curve, auc, classification_report\n",
    ")\n",
    "class EnhancedEnsembleModel:\n",
    "    def __init__(self, yamnet_paths, wav2vec2_paths, cfg):\n",
    "        \"\"\"Initialize ensemble with multiple model paths\"\"\"\n",
    "        self.cfg = cfg\n",
    "        self.device = cfg.device\n",
    "        self.yamnet_models = []\n",
    "        self.wav2vec2_models = []\n",
    "        \n",
    "        # Load YAMNet models\n",
    "        for path in yamnet_paths:\n",
    "            model = YAMNetFineTuner(num_classes=cfg.num_classes, cfg=cfg).to(cfg.device)\n",
    "            checkpoint = torch.load(path, map_location=cfg.device)\n",
    "            model.load_state_dict(checkpoint['model_state_dict'])\n",
    "            model.eval()\n",
    "            self.yamnet_models.append(model)\n",
    "            \n",
    "        # Load Wav2Vec2 models  \n",
    "        for path in wav2vec2_paths:\n",
    "            model = Wav2Vec2FineTuner(num_classes=cfg.num_classes).to(cfg.device)\n",
    "            checkpoint = torch.load(path, map_location=cfg.device)\n",
    "            model.load_state_dict(checkpoint['model_state_dict'])\n",
    "            model.eval()\n",
    "            self.wav2vec2_models.append(model)\n",
    "\n",
    "    @torch.no_grad()\n",
    "    def predict(self, yamnet_batch, wav2vec2_batch):\n",
    "        \"\"\"Get predictions from all models\"\"\"\n",
    "        # Individual YAMNet predictions\n",
    "        yamnet_probs = []\n",
    "        for model in self.yamnet_models:\n",
    "            logits = model(yamnet_batch['input'].to(self.device))\n",
    "            probs = F.softmax(logits, dim=1)\n",
    "            yamnet_probs.append(probs)\n",
    "        yamnet_mean_probs = torch.stack(yamnet_probs).mean(dim=0)\n",
    "        \n",
    "        # Individual Wav2Vec2 predictions\n",
    "        wav2vec2_probs = []\n",
    "        for model in self.wav2vec2_models:\n",
    "            logits = model(wav2vec2_batch[0].to(self.device))\n",
    "            probs = F.softmax(logits, dim=1)\n",
    "            wav2vec2_probs.append(probs)\n",
    "        wav2vec2_mean_probs = torch.stack(wav2vec2_probs).mean(dim=0)\n",
    "        \n",
    "        # Ensemble predictions\n",
    "        ensemble_probs = (yamnet_mean_probs + wav2vec2_mean_probs) / 2\n",
    "        \n",
    "        return {\n",
    "            'yamnet': yamnet_mean_probs,\n",
    "            'wav2vec2': wav2vec2_mean_probs,\n",
    "            'ensemble': ensemble_probs\n",
    "        }\n",
    "\n",
    "def evaluate_all_models(test_df, cfg):\n",
    "    \"\"\"Evaluate individual models and ensemble\"\"\"\n",
    "    # Prepare model paths\n",
    "    yamnet_paths = [f'/kaggle/working/models/best_yamnet_fold_{i}_model.pt' for i in range(5)]\n",
    "    wav2vec2_paths = [f'/kaggle/working/models/best_wav2vec2_fold_{i}_model.pt' for i in range(5)]\n",
    "    \n",
    "    # Create datasets and loaders\n",
    "    yamnet_dataset = YAMNetDataset(test_df, cfg, train=False)\n",
    "    wav2vec2_dataset = Wav2Vec2Dataset(test_df, cfg, train=False)\n",
    "    \n",
    "    yamnet_loader = DataLoader(yamnet_dataset, batch_size=cfg.batch_size, \n",
    "                             shuffle=False, num_workers=cfg.num_workers)\n",
    "    wav2vec2_loader = DataLoader(wav2vec2_dataset, batch_size=cfg.batch_size,\n",
    "                                shuffle=False, num_workers=cfg.num_workers)\n",
    "    \n",
    "    # Initialize enhanced ensemble\n",
    "    ensemble = EnhancedEnsembleModel(yamnet_paths, wav2vec2_paths, cfg)\n",
    "    \n",
    "    # Storage for predictions\n",
    "    predictions = {\n",
    "        'yamnet': [], \n",
    "        'wav2vec2': [], \n",
    "        'ensemble': []\n",
    "    }\n",
    "    probabilities = {\n",
    "        'yamnet': [],\n",
    "        'wav2vec2': [],\n",
    "        'ensemble': []\n",
    "    }\n",
    "    labels = []\n",
    "    \n",
    "    # Evaluation loop\n",
    "    for yamnet_batch, wav2vec2_batch in tqdm(zip(yamnet_loader, wav2vec2_loader), \n",
    "                                           desc=\"Evaluating Models\"):\n",
    "        # Get all predictions\n",
    "        probs = ensemble.predict(yamnet_batch, wav2vec2_batch)\n",
    "        \n",
    "        # Store results for each model\n",
    "        for model_name in probs:\n",
    "            model_probs = probs[model_name]\n",
    "            model_preds = torch.argmax(model_probs, dim=1)\n",
    "            \n",
    "            predictions[model_name].extend(model_preds.cpu().numpy())\n",
    "            probabilities[model_name].extend(model_probs.cpu().numpy())\n",
    "        \n",
    "        labels.extend(yamnet_batch['label'].numpy())\n",
    "    \n",
    "    # Calculate metrics for each model\n",
    "    metrics = {}\n",
    "    for model_name in predictions:\n",
    "        model_preds = np.array(predictions[model_name])\n",
    "        model_probs = np.array(probabilities[model_name])\n",
    "        \n",
    "        metrics[model_name] = {\n",
    "            'accuracy': accuracy_score(labels, model_preds),\n",
    "            'precision': precision_score(labels, model_preds, average='weighted'),\n",
    "            'recall': recall_score(labels, model_preds, average='weighted'),\n",
    "            'f1': f1_score(labels, model_preds, average='weighted'),\n",
    "            'confusion_matrix': confusion_matrix(labels, model_preds),\n",
    "            'classification_report': classification_report(labels, model_preds)\n",
    "        }\n",
    "        \n",
    "        # Add ROC curves\n",
    "        metrics[model_name]['roc_curves'] = {}\n",
    "        for i in range(cfg.num_classes):\n",
    "            binary_labels = (np.array(labels) == i).astype(int)\n",
    "            fpr, tpr, _ = roc_curve(binary_labels, model_probs[:, i])\n",
    "            roc_auc = auc(fpr, tpr)\n",
    "            metrics[model_name]['roc_curves'][f'class_{i}'] = {\n",
    "                'fpr': fpr,\n",
    "                'tpr': tpr,\n",
    "                'auc': roc_auc\n",
    "            }\n",
    "    \n",
    "    # Plot results\n",
    "    plot_comparative_results(metrics, cfg)\n",
    "    \n",
    "    return metrics\n",
    "\n",
    "def plot_comparative_results(metrics, cfg):\n",
    "    \"\"\"Plot comparative visualizations for all models\"\"\"\n",
    "    # Confusion Matrices\n",
    "    fig, axes = plt.subplots(1, 3, figsize=(15, 5))\n",
    "    for idx, (model_name, model_metrics) in enumerate(metrics.items()):\n",
    "        sns.heatmap(model_metrics['confusion_matrix'], \n",
    "                   annot=True, fmt='d', ax=axes[idx], cmap='Blues')\n",
    "        axes[idx].set_title(f'{model_name.capitalize()} Confusion Matrix')\n",
    "    plt.tight_layout()\n",
    "    plt.savefig('all_models_confusion_matrices.png')\n",
    "    plt.close()\n",
    "    \n",
    "    # ROC Curves\n",
    "    plt.figure(figsize=(12, 8))\n",
    "    colors = plt.cm.rainbow(np.linspace(0, 1, len(metrics) * cfg.num_classes))\n",
    "    color_idx = 0\n",
    "    \n",
    "    for model_name, model_metrics in metrics.items():\n",
    "        for class_idx in range(cfg.num_classes):\n",
    "            roc_data = model_metrics['roc_curves'][f'class_{class_idx}']\n",
    "            plt.plot(roc_data['fpr'], roc_data['tpr'], \n",
    "                    color=colors[color_idx],\n",
    "                    label=f'{model_name}-Class {class_idx} (AUC={roc_data[\"auc\"]:.2f})')\n",
    "            color_idx += 1\n",
    "    \n",
    "    plt.plot([0, 1], [0, 1], 'k--')\n",
    "    plt.xlabel('False Positive Rate')\n",
    "    plt.ylabel('True Positive Rate')\n",
    "    plt.title('ROC Curves - All Models')\n",
    "    plt.legend(bbox_to_anchor=(1.05, 1), loc='upper left')\n",
    "    plt.tight_layout()\n",
    "    plt.savefig('all_models_roc_curves.png')\n",
    "    plt.close()\n",
    "\n",
    "# Run evaluation\n",
    "all_metrics = evaluate_all_models(test_df, CFG)\n",
    "\n",
    "# Print comparative results\n",
    "print(\"\\nModel Performance Comparison:\")\n",
    "for model_name, metrics in all_metrics.items():\n",
    "    print(f\"\\n{model_name.upper()} METRICS:\")\n",
    "    print(f\"Accuracy: {metrics['accuracy']:.4f}\")\n",
    "    print(f\"Precision: {metrics['precision']:.4f}\")\n",
    "    print(f\"Recall: {metrics['recall']:.4f}\")\n",
    "    print(f\"F1 Score: {metrics['f1']:.4f}\")\n",
    "    print(\"\\nClassification Report:\")\n",
    "    print(metrics['classification_report'])"
   ]
  }
 ],
 "metadata": {
  "kaggle": {
   "accelerator": "gpu",
   "dataSources": [
    {
     "datasetId": 6721416,
     "sourceId": 10824687,
     "sourceType": "datasetVersion"
    }
   ],
   "dockerImageVersionId": 30919,
   "isGpuEnabled": true,
   "isInternetEnabled": true,
   "language": "python",
   "sourceType": "notebook"
  },
  "kernelspec": {
   "display_name": "Python 3",
   "language": "python",
   "name": "python3"
  },
  "language_info": {
   "codemirror_mode": {
    "name": "ipython",
    "version": 3
   },
   "file_extension": ".py",
   "mimetype": "text/x-python",
   "name": "python",
   "nbconvert_exporter": "python",
   "pygments_lexer": "ipython3",
   "version": "3.10.12"
  }
 },
 "nbformat": 4,
 "nbformat_minor": 4
}
